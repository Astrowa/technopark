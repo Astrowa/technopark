{
 "cells": [
  {
   "cell_type": "code",
   "execution_count": 2,
   "metadata": {},
   "outputs": [],
   "source": [
    "import numpy as np \n",
    "import pandas as pd \n",
    "import seaborn as sns\n",
    "from sklearn import preprocessing\n",
    "from scipy.stats import zscore\n",
    "from sklearn.feature_selection import SelectKBest, chi2\n",
    "from sklearn.model_selection import train_test_split\n",
    "import matplotlib.pyplot as plt\n",
    "import matplotlib.style as sty\n",
    "from sklearn.neighbors import KNeighborsClassifier\n",
    "from sklearn.metrics import confusion_matrix\n",
    "import matplotlib.pyplot as plt\n",
    "from sklearn.model_selection import train_test_split\n",
    "from sklearn.naive_bayes import GaussianNB\n",
    "from sklearn.linear_model import LogisticRegression"
   ]
  },
  {
   "cell_type": "markdown",
   "metadata": {},
   "source": [
    "# Предобработка данных"
   ]
  },
  {
   "cell_type": "code",
   "execution_count": 3,
   "metadata": {},
   "outputs": [],
   "source": [
    "df = pd.read_csv('weatherAUS.csv')"
   ]
  },
  {
   "cell_type": "code",
   "execution_count": 4,
   "metadata": {},
   "outputs": [
    {
     "data": {
      "text/html": [
       "<div>\n",
       "<style scoped>\n",
       "    .dataframe tbody tr th:only-of-type {\n",
       "        vertical-align: middle;\n",
       "    }\n",
       "\n",
       "    .dataframe tbody tr th {\n",
       "        vertical-align: top;\n",
       "    }\n",
       "\n",
       "    .dataframe thead th {\n",
       "        text-align: right;\n",
       "    }\n",
       "</style>\n",
       "<table border=\"1\" class=\"dataframe\">\n",
       "  <thead>\n",
       "    <tr style=\"text-align: right;\">\n",
       "      <th></th>\n",
       "      <th>Date</th>\n",
       "      <th>Location</th>\n",
       "      <th>MinTemp</th>\n",
       "      <th>MaxTemp</th>\n",
       "      <th>Rainfall</th>\n",
       "      <th>Evaporation</th>\n",
       "      <th>Sunshine</th>\n",
       "      <th>WindGustDir</th>\n",
       "      <th>WindGustSpeed</th>\n",
       "      <th>WindDir9am</th>\n",
       "      <th>...</th>\n",
       "      <th>Humidity3pm</th>\n",
       "      <th>Pressure9am</th>\n",
       "      <th>Pressure3pm</th>\n",
       "      <th>Cloud9am</th>\n",
       "      <th>Cloud3pm</th>\n",
       "      <th>Temp9am</th>\n",
       "      <th>Temp3pm</th>\n",
       "      <th>RainToday</th>\n",
       "      <th>RISK_MM</th>\n",
       "      <th>RainTomorrow</th>\n",
       "    </tr>\n",
       "  </thead>\n",
       "  <tbody>\n",
       "    <tr>\n",
       "      <th>0</th>\n",
       "      <td>2008-12-01</td>\n",
       "      <td>Albury</td>\n",
       "      <td>13.4</td>\n",
       "      <td>22.9</td>\n",
       "      <td>0.6</td>\n",
       "      <td>NaN</td>\n",
       "      <td>NaN</td>\n",
       "      <td>W</td>\n",
       "      <td>44.0</td>\n",
       "      <td>W</td>\n",
       "      <td>...</td>\n",
       "      <td>22.0</td>\n",
       "      <td>1007.7</td>\n",
       "      <td>1007.1</td>\n",
       "      <td>8.0</td>\n",
       "      <td>NaN</td>\n",
       "      <td>16.9</td>\n",
       "      <td>21.8</td>\n",
       "      <td>No</td>\n",
       "      <td>0.0</td>\n",
       "      <td>No</td>\n",
       "    </tr>\n",
       "    <tr>\n",
       "      <th>1</th>\n",
       "      <td>2008-12-02</td>\n",
       "      <td>Albury</td>\n",
       "      <td>7.4</td>\n",
       "      <td>25.1</td>\n",
       "      <td>0.0</td>\n",
       "      <td>NaN</td>\n",
       "      <td>NaN</td>\n",
       "      <td>WNW</td>\n",
       "      <td>44.0</td>\n",
       "      <td>NNW</td>\n",
       "      <td>...</td>\n",
       "      <td>25.0</td>\n",
       "      <td>1010.6</td>\n",
       "      <td>1007.8</td>\n",
       "      <td>NaN</td>\n",
       "      <td>NaN</td>\n",
       "      <td>17.2</td>\n",
       "      <td>24.3</td>\n",
       "      <td>No</td>\n",
       "      <td>0.0</td>\n",
       "      <td>No</td>\n",
       "    </tr>\n",
       "    <tr>\n",
       "      <th>2</th>\n",
       "      <td>2008-12-03</td>\n",
       "      <td>Albury</td>\n",
       "      <td>12.9</td>\n",
       "      <td>25.7</td>\n",
       "      <td>0.0</td>\n",
       "      <td>NaN</td>\n",
       "      <td>NaN</td>\n",
       "      <td>WSW</td>\n",
       "      <td>46.0</td>\n",
       "      <td>W</td>\n",
       "      <td>...</td>\n",
       "      <td>30.0</td>\n",
       "      <td>1007.6</td>\n",
       "      <td>1008.7</td>\n",
       "      <td>NaN</td>\n",
       "      <td>2.0</td>\n",
       "      <td>21.0</td>\n",
       "      <td>23.2</td>\n",
       "      <td>No</td>\n",
       "      <td>0.0</td>\n",
       "      <td>No</td>\n",
       "    </tr>\n",
       "    <tr>\n",
       "      <th>3</th>\n",
       "      <td>2008-12-04</td>\n",
       "      <td>Albury</td>\n",
       "      <td>9.2</td>\n",
       "      <td>28.0</td>\n",
       "      <td>0.0</td>\n",
       "      <td>NaN</td>\n",
       "      <td>NaN</td>\n",
       "      <td>NE</td>\n",
       "      <td>24.0</td>\n",
       "      <td>SE</td>\n",
       "      <td>...</td>\n",
       "      <td>16.0</td>\n",
       "      <td>1017.6</td>\n",
       "      <td>1012.8</td>\n",
       "      <td>NaN</td>\n",
       "      <td>NaN</td>\n",
       "      <td>18.1</td>\n",
       "      <td>26.5</td>\n",
       "      <td>No</td>\n",
       "      <td>1.0</td>\n",
       "      <td>No</td>\n",
       "    </tr>\n",
       "    <tr>\n",
       "      <th>4</th>\n",
       "      <td>2008-12-05</td>\n",
       "      <td>Albury</td>\n",
       "      <td>17.5</td>\n",
       "      <td>32.3</td>\n",
       "      <td>1.0</td>\n",
       "      <td>NaN</td>\n",
       "      <td>NaN</td>\n",
       "      <td>W</td>\n",
       "      <td>41.0</td>\n",
       "      <td>ENE</td>\n",
       "      <td>...</td>\n",
       "      <td>33.0</td>\n",
       "      <td>1010.8</td>\n",
       "      <td>1006.0</td>\n",
       "      <td>7.0</td>\n",
       "      <td>8.0</td>\n",
       "      <td>17.8</td>\n",
       "      <td>29.7</td>\n",
       "      <td>No</td>\n",
       "      <td>0.2</td>\n",
       "      <td>No</td>\n",
       "    </tr>\n",
       "  </tbody>\n",
       "</table>\n",
       "<p>5 rows × 24 columns</p>\n",
       "</div>"
      ],
      "text/plain": [
       "         Date Location  MinTemp  MaxTemp  Rainfall  Evaporation  Sunshine  \\\n",
       "0  2008-12-01   Albury     13.4     22.9       0.6          NaN       NaN   \n",
       "1  2008-12-02   Albury      7.4     25.1       0.0          NaN       NaN   \n",
       "2  2008-12-03   Albury     12.9     25.7       0.0          NaN       NaN   \n",
       "3  2008-12-04   Albury      9.2     28.0       0.0          NaN       NaN   \n",
       "4  2008-12-05   Albury     17.5     32.3       1.0          NaN       NaN   \n",
       "\n",
       "  WindGustDir  WindGustSpeed WindDir9am  ... Humidity3pm  Pressure9am  \\\n",
       "0           W           44.0          W  ...        22.0       1007.7   \n",
       "1         WNW           44.0        NNW  ...        25.0       1010.6   \n",
       "2         WSW           46.0          W  ...        30.0       1007.6   \n",
       "3          NE           24.0         SE  ...        16.0       1017.6   \n",
       "4           W           41.0        ENE  ...        33.0       1010.8   \n",
       "\n",
       "   Pressure3pm  Cloud9am  Cloud3pm  Temp9am  Temp3pm  RainToday  RISK_MM  \\\n",
       "0       1007.1       8.0       NaN     16.9     21.8         No      0.0   \n",
       "1       1007.8       NaN       NaN     17.2     24.3         No      0.0   \n",
       "2       1008.7       NaN       2.0     21.0     23.2         No      0.0   \n",
       "3       1012.8       NaN       NaN     18.1     26.5         No      1.0   \n",
       "4       1006.0       7.0       8.0     17.8     29.7         No      0.2   \n",
       "\n",
       "   RainTomorrow  \n",
       "0            No  \n",
       "1            No  \n",
       "2            No  \n",
       "3            No  \n",
       "4            No  \n",
       "\n",
       "[5 rows x 24 columns]"
      ]
     },
     "execution_count": 4,
     "metadata": {},
     "output_type": "execute_result"
    }
   ],
   "source": [
    "df.head()"
   ]
  },
  {
   "cell_type": "code",
   "execution_count": 5,
   "metadata": {},
   "outputs": [
    {
     "name": "stdout",
     "output_type": "stream",
     "text": [
      "<class 'pandas.core.frame.DataFrame'>\n",
      "RangeIndex: 142193 entries, 0 to 142192\n",
      "Data columns (total 24 columns):\n",
      " #   Column         Non-Null Count   Dtype  \n",
      "---  ------         --------------   -----  \n",
      " 0   Date           142193 non-null  object \n",
      " 1   Location       142193 non-null  object \n",
      " 2   MinTemp        141556 non-null  float64\n",
      " 3   MaxTemp        141871 non-null  float64\n",
      " 4   Rainfall       140787 non-null  float64\n",
      " 5   Evaporation    81350 non-null   float64\n",
      " 6   Sunshine       74377 non-null   float64\n",
      " 7   WindGustDir    132863 non-null  object \n",
      " 8   WindGustSpeed  132923 non-null  float64\n",
      " 9   WindDir9am     132180 non-null  object \n",
      " 10  WindDir3pm     138415 non-null  object \n",
      " 11  WindSpeed9am   140845 non-null  float64\n",
      " 12  WindSpeed3pm   139563 non-null  float64\n",
      " 13  Humidity9am    140419 non-null  float64\n",
      " 14  Humidity3pm    138583 non-null  float64\n",
      " 15  Pressure9am    128179 non-null  float64\n",
      " 16  Pressure3pm    128212 non-null  float64\n",
      " 17  Cloud9am       88536 non-null   float64\n",
      " 18  Cloud3pm       85099 non-null   float64\n",
      " 19  Temp9am        141289 non-null  float64\n",
      " 20  Temp3pm        139467 non-null  float64\n",
      " 21  RainToday      140787 non-null  object \n",
      " 22  RISK_MM        142193 non-null  float64\n",
      " 23  RainTomorrow   142193 non-null  object \n",
      "dtypes: float64(17), object(7)\n",
      "memory usage: 22.2+ MB\n"
     ]
    }
   ],
   "source": [
    "df.info()"
   ]
  },
  {
   "cell_type": "code",
   "execution_count": 6,
   "metadata": {},
   "outputs": [
    {
     "data": {
      "text/plain": [
       "0.0      91077\n",
       "0.2       8762\n",
       "0.4       3781\n",
       "0.6       2591\n",
       "0.8       2055\n",
       "         ...  \n",
       "106.0        1\n",
       "170.4        1\n",
       "90.0         1\n",
       "172.2        1\n",
       "74.4         1\n",
       "Name: RISK_MM, Length: 681, dtype: int64"
      ]
     },
     "execution_count": 6,
     "metadata": {},
     "output_type": "execute_result"
    }
   ],
   "source": [
    "df['RISK_MM'].value_counts()"
   ]
  },
  {
   "cell_type": "code",
   "execution_count": 7,
   "metadata": {},
   "outputs": [],
   "source": [
    "df = df.drop(columns=['Location','Date','Evaporation','Sunshine','Cloud3pm','Cloud9am','RISK_MM'],axis=1)"
   ]
  },
  {
   "cell_type": "code",
   "execution_count": 8,
   "metadata": {},
   "outputs": [
    {
     "name": "stdout",
     "output_type": "stream",
     "text": [
      "<class 'pandas.core.frame.DataFrame'>\n",
      "RangeIndex: 142193 entries, 0 to 142192\n",
      "Data columns (total 17 columns):\n",
      " #   Column         Non-Null Count   Dtype  \n",
      "---  ------         --------------   -----  \n",
      " 0   MinTemp        141556 non-null  float64\n",
      " 1   MaxTemp        141871 non-null  float64\n",
      " 2   Rainfall       140787 non-null  float64\n",
      " 3   WindGustDir    132863 non-null  object \n",
      " 4   WindGustSpeed  132923 non-null  float64\n",
      " 5   WindDir9am     132180 non-null  object \n",
      " 6   WindDir3pm     138415 non-null  object \n",
      " 7   WindSpeed9am   140845 non-null  float64\n",
      " 8   WindSpeed3pm   139563 non-null  float64\n",
      " 9   Humidity9am    140419 non-null  float64\n",
      " 10  Humidity3pm    138583 non-null  float64\n",
      " 11  Pressure9am    128179 non-null  float64\n",
      " 12  Pressure3pm    128212 non-null  float64\n",
      " 13  Temp9am        141289 non-null  float64\n",
      " 14  Temp3pm        139467 non-null  float64\n",
      " 15  RainToday      140787 non-null  object \n",
      " 16  RainTomorrow   142193 non-null  object \n",
      "dtypes: float64(12), object(5)\n",
      "memory usage: 15.7+ MB\n"
     ]
    }
   ],
   "source": [
    "df.info()"
   ]
  },
  {
   "cell_type": "code",
   "execution_count": 9,
   "metadata": {},
   "outputs": [],
   "source": [
    "df['RainToday'].replace({'No': 0, 'Yes': 1},inplace = True)\n",
    "df['RainTomorrow'].replace({'No': 0, 'Yes': 1},inplace = True)"
   ]
  },
  {
   "cell_type": "code",
   "execution_count": 10,
   "metadata": {},
   "outputs": [
    {
     "name": "stdout",
     "output_type": "stream",
     "text": [
      "<class 'pandas.core.frame.DataFrame'>\n",
      "RangeIndex: 142193 entries, 0 to 142192\n",
      "Data columns (total 17 columns):\n",
      " #   Column         Non-Null Count   Dtype  \n",
      "---  ------         --------------   -----  \n",
      " 0   MinTemp        141556 non-null  float64\n",
      " 1   MaxTemp        141871 non-null  float64\n",
      " 2   Rainfall       140787 non-null  float64\n",
      " 3   WindGustDir    132863 non-null  object \n",
      " 4   WindGustSpeed  132923 non-null  float64\n",
      " 5   WindDir9am     132180 non-null  object \n",
      " 6   WindDir3pm     138415 non-null  object \n",
      " 7   WindSpeed9am   140845 non-null  float64\n",
      " 8   WindSpeed3pm   139563 non-null  float64\n",
      " 9   Humidity9am    140419 non-null  float64\n",
      " 10  Humidity3pm    138583 non-null  float64\n",
      " 11  Pressure9am    128179 non-null  float64\n",
      " 12  Pressure3pm    128212 non-null  float64\n",
      " 13  Temp9am        141289 non-null  float64\n",
      " 14  Temp3pm        139467 non-null  float64\n",
      " 15  RainToday      140787 non-null  float64\n",
      " 16  RainTomorrow   142193 non-null  int64  \n",
      "dtypes: float64(13), int64(1), object(3)\n",
      "memory usage: 16.8+ MB\n"
     ]
    }
   ],
   "source": [
    "df.info()"
   ]
  },
  {
   "cell_type": "code",
   "execution_count": 11,
   "metadata": {},
   "outputs": [
    {
     "data": {
      "text/plain": [
       "(142193, 17)"
      ]
     },
     "execution_count": 11,
     "metadata": {},
     "output_type": "execute_result"
    }
   ],
   "source": [
    "df.shape"
   ]
  },
  {
   "cell_type": "code",
   "execution_count": 12,
   "metadata": {},
   "outputs": [],
   "source": [
    "df.dropna(axis=0, how='any', thresh=None, subset=None, inplace=True)"
   ]
  },
  {
   "cell_type": "code",
   "execution_count": 13,
   "metadata": {},
   "outputs": [
    {
     "data": {
      "text/plain": [
       "(112925, 17)"
      ]
     },
     "execution_count": 13,
     "metadata": {},
     "output_type": "execute_result"
    }
   ],
   "source": [
    "df.shape"
   ]
  },
  {
   "cell_type": "code",
   "execution_count": 14,
   "metadata": {},
   "outputs": [
    {
     "name": "stdout",
     "output_type": "stream",
     "text": [
      "<class 'pandas.core.frame.DataFrame'>\n",
      "Int64Index: 112925 entries, 0 to 142192\n",
      "Data columns (total 17 columns):\n",
      " #   Column         Non-Null Count   Dtype  \n",
      "---  ------         --------------   -----  \n",
      " 0   MinTemp        112925 non-null  float64\n",
      " 1   MaxTemp        112925 non-null  float64\n",
      " 2   Rainfall       112925 non-null  float64\n",
      " 3   WindGustDir    112925 non-null  object \n",
      " 4   WindGustSpeed  112925 non-null  float64\n",
      " 5   WindDir9am     112925 non-null  object \n",
      " 6   WindDir3pm     112925 non-null  object \n",
      " 7   WindSpeed9am   112925 non-null  float64\n",
      " 8   WindSpeed3pm   112925 non-null  float64\n",
      " 9   Humidity9am    112925 non-null  float64\n",
      " 10  Humidity3pm    112925 non-null  float64\n",
      " 11  Pressure9am    112925 non-null  float64\n",
      " 12  Pressure3pm    112925 non-null  float64\n",
      " 13  Temp9am        112925 non-null  float64\n",
      " 14  Temp3pm        112925 non-null  float64\n",
      " 15  RainToday      112925 non-null  float64\n",
      " 16  RainTomorrow   112925 non-null  int64  \n",
      "dtypes: float64(13), int64(1), object(3)\n",
      "memory usage: 14.2+ MB\n"
     ]
    }
   ],
   "source": [
    "df.info()"
   ]
  },
  {
   "cell_type": "code",
   "execution_count": 15,
   "metadata": {},
   "outputs": [],
   "source": [
    "categorical_columns = ['WindGustDir', 'WindDir3pm', 'WindDir9am']\n",
    "df = pd.get_dummies(df, columns=categorical_columns)"
   ]
  },
  {
   "cell_type": "code",
   "execution_count": 16,
   "metadata": {},
   "outputs": [
    {
     "data": {
      "text/plain": [
       "(112925, 62)"
      ]
     },
     "execution_count": 16,
     "metadata": {},
     "output_type": "execute_result"
    }
   ],
   "source": [
    "df.shape"
   ]
  },
  {
   "cell_type": "code",
   "execution_count": 17,
   "metadata": {},
   "outputs": [
    {
     "name": "stdout",
     "output_type": "stream",
     "text": [
      "<class 'pandas.core.frame.DataFrame'>\n",
      "Int64Index: 112925 entries, 0 to 142192\n",
      "Data columns (total 62 columns):\n",
      " #   Column           Non-Null Count   Dtype  \n",
      "---  ------           --------------   -----  \n",
      " 0   MinTemp          112925 non-null  float64\n",
      " 1   MaxTemp          112925 non-null  float64\n",
      " 2   Rainfall         112925 non-null  float64\n",
      " 3   WindGustSpeed    112925 non-null  float64\n",
      " 4   WindSpeed9am     112925 non-null  float64\n",
      " 5   WindSpeed3pm     112925 non-null  float64\n",
      " 6   Humidity9am      112925 non-null  float64\n",
      " 7   Humidity3pm      112925 non-null  float64\n",
      " 8   Pressure9am      112925 non-null  float64\n",
      " 9   Pressure3pm      112925 non-null  float64\n",
      " 10  Temp9am          112925 non-null  float64\n",
      " 11  Temp3pm          112925 non-null  float64\n",
      " 12  RainToday        112925 non-null  float64\n",
      " 13  RainTomorrow     112925 non-null  int64  \n",
      " 14  WindGustDir_E    112925 non-null  uint8  \n",
      " 15  WindGustDir_ENE  112925 non-null  uint8  \n",
      " 16  WindGustDir_ESE  112925 non-null  uint8  \n",
      " 17  WindGustDir_N    112925 non-null  uint8  \n",
      " 18  WindGustDir_NE   112925 non-null  uint8  \n",
      " 19  WindGustDir_NNE  112925 non-null  uint8  \n",
      " 20  WindGustDir_NNW  112925 non-null  uint8  \n",
      " 21  WindGustDir_NW   112925 non-null  uint8  \n",
      " 22  WindGustDir_S    112925 non-null  uint8  \n",
      " 23  WindGustDir_SE   112925 non-null  uint8  \n",
      " 24  WindGustDir_SSE  112925 non-null  uint8  \n",
      " 25  WindGustDir_SSW  112925 non-null  uint8  \n",
      " 26  WindGustDir_SW   112925 non-null  uint8  \n",
      " 27  WindGustDir_W    112925 non-null  uint8  \n",
      " 28  WindGustDir_WNW  112925 non-null  uint8  \n",
      " 29  WindGustDir_WSW  112925 non-null  uint8  \n",
      " 30  WindDir3pm_E     112925 non-null  uint8  \n",
      " 31  WindDir3pm_ENE   112925 non-null  uint8  \n",
      " 32  WindDir3pm_ESE   112925 non-null  uint8  \n",
      " 33  WindDir3pm_N     112925 non-null  uint8  \n",
      " 34  WindDir3pm_NE    112925 non-null  uint8  \n",
      " 35  WindDir3pm_NNE   112925 non-null  uint8  \n",
      " 36  WindDir3pm_NNW   112925 non-null  uint8  \n",
      " 37  WindDir3pm_NW    112925 non-null  uint8  \n",
      " 38  WindDir3pm_S     112925 non-null  uint8  \n",
      " 39  WindDir3pm_SE    112925 non-null  uint8  \n",
      " 40  WindDir3pm_SSE   112925 non-null  uint8  \n",
      " 41  WindDir3pm_SSW   112925 non-null  uint8  \n",
      " 42  WindDir3pm_SW    112925 non-null  uint8  \n",
      " 43  WindDir3pm_W     112925 non-null  uint8  \n",
      " 44  WindDir3pm_WNW   112925 non-null  uint8  \n",
      " 45  WindDir3pm_WSW   112925 non-null  uint8  \n",
      " 46  WindDir9am_E     112925 non-null  uint8  \n",
      " 47  WindDir9am_ENE   112925 non-null  uint8  \n",
      " 48  WindDir9am_ESE   112925 non-null  uint8  \n",
      " 49  WindDir9am_N     112925 non-null  uint8  \n",
      " 50  WindDir9am_NE    112925 non-null  uint8  \n",
      " 51  WindDir9am_NNE   112925 non-null  uint8  \n",
      " 52  WindDir9am_NNW   112925 non-null  uint8  \n",
      " 53  WindDir9am_NW    112925 non-null  uint8  \n",
      " 54  WindDir9am_S     112925 non-null  uint8  \n",
      " 55  WindDir9am_SE    112925 non-null  uint8  \n",
      " 56  WindDir9am_SSE   112925 non-null  uint8  \n",
      " 57  WindDir9am_SSW   112925 non-null  uint8  \n",
      " 58  WindDir9am_SW    112925 non-null  uint8  \n",
      " 59  WindDir9am_W     112925 non-null  uint8  \n",
      " 60  WindDir9am_WNW   112925 non-null  uint8  \n",
      " 61  WindDir9am_WSW   112925 non-null  uint8  \n",
      "dtypes: float64(13), int64(1), uint8(48)\n",
      "memory usage: 18.1 MB\n"
     ]
    }
   ],
   "source": [
    "df.info()"
   ]
  },
  {
   "cell_type": "code",
   "execution_count": 18,
   "metadata": {},
   "outputs": [],
   "source": [
    "X = df.loc[:,df.columns!='RainTomorrow']\n",
    "y = df['RainTomorrow']"
   ]
  },
  {
   "cell_type": "code",
   "execution_count": 19,
   "metadata": {
    "scrolled": true
   },
   "outputs": [
    {
     "data": {
      "text/plain": [
       "(112925, 61)"
      ]
     },
     "execution_count": 19,
     "metadata": {},
     "output_type": "execute_result"
    }
   ],
   "source": [
    "X.shape"
   ]
  },
  {
   "cell_type": "markdown",
   "metadata": {},
   "source": [
    "# Создание трейновой и тестовой выборок"
   ]
  },
  {
   "cell_type": "code",
   "execution_count": 20,
   "metadata": {},
   "outputs": [],
   "source": [
    "X_train, X_test, y_train, y_test = train_test_split(X, y, test_size=0.25, random_state=23, shuffle = False)"
   ]
  },
  {
   "cell_type": "markdown",
   "metadata": {},
   "source": [
    "# Метод ближайших соседей"
   ]
  },
  {
   "cell_type": "code",
   "execution_count": 21,
   "metadata": {},
   "outputs": [],
   "source": [
    "n_nb = range(5, 20)\n",
    "res = []\n",
    "\n",
    "for i in n_nb: \n",
    "  neigh = KNeighborsClassifier(n_neighbors=i)\n",
    "  neigh.fit(X_train, y_train)\n",
    "\n",
    "  prediction = neigh.predict(X_test)\n",
    "\n",
    "  res.append((np.mean(prediction == y_test)))"
   ]
  },
  {
   "cell_type": "code",
   "execution_count": 22,
   "metadata": {},
   "outputs": [
    {
     "data": {
      "image/png": "[encoded data removed]",
      "text/plain": [
       "<Figure size 432x288 with 1 Axes>"
      ]
     },
     "metadata": {
      "needs_background": "light"
     },
     "output_type": "display_data"
    }
   ],
   "source": [
    "plt.plot(n_nb, res)\n",
    "plt.xlabel(\"n_neighbors\")\n",
    "plt.ylabel(\"score\")\n",
    "plt.title(\"Score on KNeighborsClassifier\")\n",
    "plt.show()"
   ]
  },
  {
   "cell_type": "code",
   "execution_count": 33,
   "metadata": {},
   "outputs": [
    {
     "name": "stdout",
     "output_type": "stream",
     "text": [
      "Wall time: 1min 9s\n"
     ]
    }
   ],
   "source": [
    "%%time\n",
    "neigh = KNeighborsClassifier(n_neighbors=25)\n",
    "neigh.fit(X_train, y_train)\n",
    "\n",
    "prediction = neigh.predict(X_test)"
   ]
  },
  {
   "cell_type": "code",
   "execution_count": 24,
   "metadata": {},
   "outputs": [
    {
     "data": {
      "text/plain": [
       "0.8373831113629924"
      ]
     },
     "execution_count": 24,
     "metadata": {},
     "output_type": "execute_result"
    }
   ],
   "source": [
    "np.mean(prediction == y_test)"
   ]
  },
  {
   "cell_type": "code",
   "execution_count": 25,
   "metadata": {},
   "outputs": [
    {
     "data": {
      "image/png": "[encoded data removed]",
      "text/plain": [
       "<Figure size 432x288 with 2 Axes>"
      ]
     },
     "metadata": {
      "needs_background": "light"
     },
     "output_type": "display_data"
    }
   ],
   "source": [
    "import matplotlib.pyplot as plt\n",
    "from sklearn.metrics import plot_confusion_matrix\n",
    "\n",
    "plot_confusion_matrix(neigh, X_test, y_test) \n",
    "plt.show()"
   ]
  },
  {
   "cell_type": "markdown",
   "metadata": {},
   "source": [
    "# Наивный Байес"
   ]
  },
  {
   "cell_type": "code",
   "execution_count": 26,
   "metadata": {
    "scrolled": true
   },
   "outputs": [
    {
     "data": {
      "text/html": [
       "<div>\n",
       "<style scoped>\n",
       "    .dataframe tbody tr th:only-of-type {\n",
       "        vertical-align: middle;\n",
       "    }\n",
       "\n",
       "    .dataframe tbody tr th {\n",
       "        vertical-align: top;\n",
       "    }\n",
       "\n",
       "    .dataframe thead th {\n",
       "        text-align: right;\n",
       "    }\n",
       "</style>\n",
       "<table border=\"1\" class=\"dataframe\">\n",
       "  <thead>\n",
       "    <tr style=\"text-align: right;\">\n",
       "      <th></th>\n",
       "      <th>MinTemp</th>\n",
       "      <th>MaxTemp</th>\n",
       "      <th>Rainfall</th>\n",
       "      <th>WindGustSpeed</th>\n",
       "      <th>WindSpeed9am</th>\n",
       "      <th>WindSpeed3pm</th>\n",
       "      <th>Humidity9am</th>\n",
       "      <th>Humidity3pm</th>\n",
       "      <th>Pressure9am</th>\n",
       "      <th>Pressure3pm</th>\n",
       "      <th>...</th>\n",
       "      <th>WindDir9am_NNW</th>\n",
       "      <th>WindDir9am_NW</th>\n",
       "      <th>WindDir9am_S</th>\n",
       "      <th>WindDir9am_SE</th>\n",
       "      <th>WindDir9am_SSE</th>\n",
       "      <th>WindDir9am_SSW</th>\n",
       "      <th>WindDir9am_SW</th>\n",
       "      <th>WindDir9am_W</th>\n",
       "      <th>WindDir9am_WNW</th>\n",
       "      <th>WindDir9am_WSW</th>\n",
       "    </tr>\n",
       "  </thead>\n",
       "  <tbody>\n",
       "    <tr>\n",
       "      <th>MinTemp</th>\n",
       "      <td>1.000000</td>\n",
       "      <td>0.709755</td>\n",
       "      <td>0.115152</td>\n",
       "      <td>0.154143</td>\n",
       "      <td>0.140352</td>\n",
       "      <td>0.148027</td>\n",
       "      <td>-0.222607</td>\n",
       "      <td>0.079632</td>\n",
       "      <td>-0.402454</td>\n",
       "      <td>-0.406093</td>\n",
       "      <td>...</td>\n",
       "      <td>-0.039117</td>\n",
       "      <td>-0.054706</td>\n",
       "      <td>0.051400</td>\n",
       "      <td>0.078409</td>\n",
       "      <td>0.105292</td>\n",
       "      <td>0.014298</td>\n",
       "      <td>-0.029334</td>\n",
       "      <td>-0.073479</td>\n",
       "      <td>-0.085180</td>\n",
       "      <td>-0.054530</td>\n",
       "    </tr>\n",
       "    <tr>\n",
       "      <th>MaxTemp</th>\n",
       "      <td>0.709755</td>\n",
       "      <td>1.000000</td>\n",
       "      <td>-0.064160</td>\n",
       "      <td>0.046051</td>\n",
       "      <td>-0.057389</td>\n",
       "      <td>0.002980</td>\n",
       "      <td>-0.487565</td>\n",
       "      <td>-0.470715</td>\n",
       "      <td>-0.301285</td>\n",
       "      <td>-0.389837</td>\n",
       "      <td>...</td>\n",
       "      <td>-0.037640</td>\n",
       "      <td>-0.049672</td>\n",
       "      <td>-0.006772</td>\n",
       "      <td>0.077182</td>\n",
       "      <td>0.074379</td>\n",
       "      <td>-0.052649</td>\n",
       "      <td>-0.090526</td>\n",
       "      <td>-0.124630</td>\n",
       "      <td>-0.099660</td>\n",
       "      <td>-0.107207</td>\n",
       "    </tr>\n",
       "    <tr>\n",
       "      <th>Rainfall</th>\n",
       "      <td>0.115152</td>\n",
       "      <td>-0.064160</td>\n",
       "      <td>1.000000</td>\n",
       "      <td>0.124544</td>\n",
       "      <td>0.099748</td>\n",
       "      <td>0.060758</td>\n",
       "      <td>0.230404</td>\n",
       "      <td>0.250983</td>\n",
       "      <td>-0.154890</td>\n",
       "      <td>-0.117474</td>\n",
       "      <td>...</td>\n",
       "      <td>-0.001448</td>\n",
       "      <td>-0.005875</td>\n",
       "      <td>0.026916</td>\n",
       "      <td>0.000004</td>\n",
       "      <td>0.010614</td>\n",
       "      <td>0.029383</td>\n",
       "      <td>0.041349</td>\n",
       "      <td>0.012093</td>\n",
       "      <td>0.000317</td>\n",
       "      <td>0.022739</td>\n",
       "    </tr>\n",
       "    <tr>\n",
       "      <th>WindGustSpeed</th>\n",
       "      <td>0.154143</td>\n",
       "      <td>0.046051</td>\n",
       "      <td>0.124544</td>\n",
       "      <td>1.000000</td>\n",
       "      <td>0.598220</td>\n",
       "      <td>0.705165</td>\n",
       "      <td>-0.178992</td>\n",
       "      <td>-0.001330</td>\n",
       "      <td>-0.445111</td>\n",
       "      <td>-0.395613</td>\n",
       "      <td>...</td>\n",
       "      <td>0.059405</td>\n",
       "      <td>0.026455</td>\n",
       "      <td>-0.011699</td>\n",
       "      <td>-0.047430</td>\n",
       "      <td>-0.028791</td>\n",
       "      <td>-0.020599</td>\n",
       "      <td>-0.045798</td>\n",
       "      <td>0.045994</td>\n",
       "      <td>0.022402</td>\n",
       "      <td>0.001036</td>\n",
       "    </tr>\n",
       "    <tr>\n",
       "      <th>WindSpeed9am</th>\n",
       "      <td>0.140352</td>\n",
       "      <td>-0.057389</td>\n",
       "      <td>0.099748</td>\n",
       "      <td>0.598220</td>\n",
       "      <td>1.000000</td>\n",
       "      <td>0.531384</td>\n",
       "      <td>-0.185384</td>\n",
       "      <td>0.049421</td>\n",
       "      <td>-0.206390</td>\n",
       "      <td>-0.141157</td>\n",
       "      <td>...</td>\n",
       "      <td>-0.028274</td>\n",
       "      <td>-0.027620</td>\n",
       "      <td>0.033600</td>\n",
       "      <td>-0.003697</td>\n",
       "      <td>0.039023</td>\n",
       "      <td>-0.002280</td>\n",
       "      <td>-0.024466</td>\n",
       "      <td>0.035619</td>\n",
       "      <td>0.004312</td>\n",
       "      <td>-0.009571</td>\n",
       "    </tr>\n",
       "    <tr>\n",
       "      <th>...</th>\n",
       "      <td>...</td>\n",
       "      <td>...</td>\n",
       "      <td>...</td>\n",
       "      <td>...</td>\n",
       "      <td>...</td>\n",
       "      <td>...</td>\n",
       "      <td>...</td>\n",
       "      <td>...</td>\n",
       "      <td>...</td>\n",
       "      <td>...</td>\n",
       "      <td>...</td>\n",
       "      <td>...</td>\n",
       "      <td>...</td>\n",
       "      <td>...</td>\n",
       "      <td>...</td>\n",
       "      <td>...</td>\n",
       "      <td>...</td>\n",
       "      <td>...</td>\n",
       "      <td>...</td>\n",
       "      <td>...</td>\n",
       "      <td>...</td>\n",
       "    </tr>\n",
       "    <tr>\n",
       "      <th>WindDir9am_SSW</th>\n",
       "      <td>0.014298</td>\n",
       "      <td>-0.052649</td>\n",
       "      <td>0.029383</td>\n",
       "      <td>-0.020599</td>\n",
       "      <td>-0.002280</td>\n",
       "      <td>-0.007916</td>\n",
       "      <td>0.034154</td>\n",
       "      <td>0.050037</td>\n",
       "      <td>0.037043</td>\n",
       "      <td>0.067308</td>\n",
       "      <td>...</td>\n",
       "      <td>-0.058620</td>\n",
       "      <td>-0.063437</td>\n",
       "      <td>-0.069742</td>\n",
       "      <td>-0.065932</td>\n",
       "      <td>-0.072896</td>\n",
       "      <td>1.000000</td>\n",
       "      <td>-0.070244</td>\n",
       "      <td>-0.067551</td>\n",
       "      <td>-0.063274</td>\n",
       "      <td>-0.063491</td>\n",
       "    </tr>\n",
       "    <tr>\n",
       "      <th>WindDir9am_SW</th>\n",
       "      <td>-0.029334</td>\n",
       "      <td>-0.090526</td>\n",
       "      <td>0.041349</td>\n",
       "      <td>-0.045798</td>\n",
       "      <td>-0.024466</td>\n",
       "      <td>-0.038637</td>\n",
       "      <td>0.038617</td>\n",
       "      <td>0.050834</td>\n",
       "      <td>0.052142</td>\n",
       "      <td>0.087812</td>\n",
       "      <td>...</td>\n",
       "      <td>-0.064062</td>\n",
       "      <td>-0.069326</td>\n",
       "      <td>-0.076217</td>\n",
       "      <td>-0.072053</td>\n",
       "      <td>-0.079663</td>\n",
       "      <td>-0.070244</td>\n",
       "      <td>1.000000</td>\n",
       "      <td>-0.073823</td>\n",
       "      <td>-0.069149</td>\n",
       "      <td>-0.069385</td>\n",
       "    </tr>\n",
       "    <tr>\n",
       "      <th>WindDir9am_W</th>\n",
       "      <td>-0.073479</td>\n",
       "      <td>-0.124630</td>\n",
       "      <td>0.012093</td>\n",
       "      <td>0.045994</td>\n",
       "      <td>0.035619</td>\n",
       "      <td>0.032641</td>\n",
       "      <td>0.031909</td>\n",
       "      <td>0.026377</td>\n",
       "      <td>-0.036769</td>\n",
       "      <td>0.002876</td>\n",
       "      <td>...</td>\n",
       "      <td>-0.061606</td>\n",
       "      <td>-0.066668</td>\n",
       "      <td>-0.073295</td>\n",
       "      <td>-0.069291</td>\n",
       "      <td>-0.076609</td>\n",
       "      <td>-0.067551</td>\n",
       "      <td>-0.073823</td>\n",
       "      <td>1.000000</td>\n",
       "      <td>-0.066498</td>\n",
       "      <td>-0.066725</td>\n",
       "    </tr>\n",
       "    <tr>\n",
       "      <th>WindDir9am_WNW</th>\n",
       "      <td>-0.085180</td>\n",
       "      <td>-0.099660</td>\n",
       "      <td>0.000317</td>\n",
       "      <td>0.022402</td>\n",
       "      <td>0.004312</td>\n",
       "      <td>0.030720</td>\n",
       "      <td>0.021979</td>\n",
       "      <td>0.015366</td>\n",
       "      <td>-0.036727</td>\n",
       "      <td>-0.018269</td>\n",
       "      <td>...</td>\n",
       "      <td>-0.057706</td>\n",
       "      <td>-0.062447</td>\n",
       "      <td>-0.068654</td>\n",
       "      <td>-0.064904</td>\n",
       "      <td>-0.071759</td>\n",
       "      <td>-0.063274</td>\n",
       "      <td>-0.069149</td>\n",
       "      <td>-0.066498</td>\n",
       "      <td>1.000000</td>\n",
       "      <td>-0.062500</td>\n",
       "    </tr>\n",
       "    <tr>\n",
       "      <th>WindDir9am_WSW</th>\n",
       "      <td>-0.054530</td>\n",
       "      <td>-0.107207</td>\n",
       "      <td>0.022739</td>\n",
       "      <td>0.001036</td>\n",
       "      <td>-0.009571</td>\n",
       "      <td>-0.003331</td>\n",
       "      <td>0.037737</td>\n",
       "      <td>0.034057</td>\n",
       "      <td>-0.004003</td>\n",
       "      <td>0.037109</td>\n",
       "      <td>...</td>\n",
       "      <td>-0.057903</td>\n",
       "      <td>-0.062661</td>\n",
       "      <td>-0.068889</td>\n",
       "      <td>-0.065126</td>\n",
       "      <td>-0.072004</td>\n",
       "      <td>-0.063491</td>\n",
       "      <td>-0.069385</td>\n",
       "      <td>-0.066725</td>\n",
       "      <td>-0.062500</td>\n",
       "      <td>1.000000</td>\n",
       "    </tr>\n",
       "  </tbody>\n",
       "</table>\n",
       "<p>61 rows × 61 columns</p>\n",
       "</div>"
      ],
      "text/plain": [
       "                 MinTemp   MaxTemp  Rainfall  WindGustSpeed  WindSpeed9am  \\\n",
       "MinTemp         1.000000  0.709755  0.115152       0.154143      0.140352   \n",
       "MaxTemp         0.709755  1.000000 -0.064160       0.046051     -0.057389   \n",
       "Rainfall        0.115152 -0.064160  1.000000       0.124544      0.099748   \n",
       "WindGustSpeed   0.154143  0.046051  0.124544       1.000000      0.598220   \n",
       "WindSpeed9am    0.140352 -0.057389  0.099748       0.598220      1.000000   \n",
       "...                  ...       ...       ...            ...           ...   \n",
       "WindDir9am_SSW  0.014298 -0.052649  0.029383      -0.020599     -0.002280   \n",
       "WindDir9am_SW  -0.029334 -0.090526  0.041349      -0.045798     -0.024466   \n",
       "WindDir9am_W   -0.073479 -0.124630  0.012093       0.045994      0.035619   \n",
       "WindDir9am_WNW -0.085180 -0.099660  0.000317       0.022402      0.004312   \n",
       "WindDir9am_WSW -0.054530 -0.107207  0.022739       0.001036     -0.009571   \n",
       "\n",
       "                WindSpeed3pm  Humidity9am  Humidity3pm  Pressure9am  \\\n",
       "MinTemp             0.148027    -0.222607     0.079632    -0.402454   \n",
       "MaxTemp             0.002980    -0.487565    -0.470715    -0.301285   \n",
       "Rainfall            0.060758     0.230404     0.250983    -0.154890   \n",
       "WindGustSpeed       0.705165    -0.178992    -0.001330    -0.445111   \n",
       "WindSpeed9am        0.531384    -0.185384     0.049421    -0.206390   \n",
       "...                      ...          ...          ...          ...   \n",
       "WindDir9am_SSW     -0.007916     0.034154     0.050037     0.037043   \n",
       "WindDir9am_SW      -0.038637     0.038617     0.050834     0.052142   \n",
       "WindDir9am_W        0.032641     0.031909     0.026377    -0.036769   \n",
       "WindDir9am_WNW      0.030720     0.021979     0.015366    -0.036727   \n",
       "WindDir9am_WSW     -0.003331     0.037737     0.034057    -0.004003   \n",
       "\n",
       "                Pressure3pm  ...  WindDir9am_NNW  WindDir9am_NW  WindDir9am_S  \\\n",
       "MinTemp           -0.406093  ...       -0.039117      -0.054706      0.051400   \n",
       "MaxTemp           -0.389837  ...       -0.037640      -0.049672     -0.006772   \n",
       "Rainfall          -0.117474  ...       -0.001448      -0.005875      0.026916   \n",
       "WindGustSpeed     -0.395613  ...        0.059405       0.026455     -0.011699   \n",
       "WindSpeed9am      -0.141157  ...       -0.028274      -0.027620      0.033600   \n",
       "...                     ...  ...             ...            ...           ...   \n",
       "WindDir9am_SSW     0.067308  ...       -0.058620      -0.063437     -0.069742   \n",
       "WindDir9am_SW      0.087812  ...       -0.064062      -0.069326     -0.076217   \n",
       "WindDir9am_W       0.002876  ...       -0.061606      -0.066668     -0.073295   \n",
       "WindDir9am_WNW    -0.018269  ...       -0.057706      -0.062447     -0.068654   \n",
       "WindDir9am_WSW     0.037109  ...       -0.057903      -0.062661     -0.068889   \n",
       "\n",
       "                WindDir9am_SE  WindDir9am_SSE  WindDir9am_SSW  WindDir9am_SW  \\\n",
       "MinTemp              0.078409        0.105292        0.014298      -0.029334   \n",
       "MaxTemp              0.077182        0.074379       -0.052649      -0.090526   \n",
       "Rainfall             0.000004        0.010614        0.029383       0.041349   \n",
       "WindGustSpeed       -0.047430       -0.028791       -0.020599      -0.045798   \n",
       "WindSpeed9am        -0.003697        0.039023       -0.002280      -0.024466   \n",
       "...                       ...             ...             ...            ...   \n",
       "WindDir9am_SSW      -0.065932       -0.072896        1.000000      -0.070244   \n",
       "WindDir9am_SW       -0.072053       -0.079663       -0.070244       1.000000   \n",
       "WindDir9am_W        -0.069291       -0.076609       -0.067551      -0.073823   \n",
       "WindDir9am_WNW      -0.064904       -0.071759       -0.063274      -0.069149   \n",
       "WindDir9am_WSW      -0.065126       -0.072004       -0.063491      -0.069385   \n",
       "\n",
       "                WindDir9am_W  WindDir9am_WNW  WindDir9am_WSW  \n",
       "MinTemp            -0.073479       -0.085180       -0.054530  \n",
       "MaxTemp            -0.124630       -0.099660       -0.107207  \n",
       "Rainfall            0.012093        0.000317        0.022739  \n",
       "WindGustSpeed       0.045994        0.022402        0.001036  \n",
       "WindSpeed9am        0.035619        0.004312       -0.009571  \n",
       "...                      ...             ...             ...  \n",
       "WindDir9am_SSW     -0.067551       -0.063274       -0.063491  \n",
       "WindDir9am_SW      -0.073823       -0.069149       -0.069385  \n",
       "WindDir9am_W        1.000000       -0.066498       -0.066725  \n",
       "WindDir9am_WNW     -0.066498        1.000000       -0.062500  \n",
       "WindDir9am_WSW     -0.066725       -0.062500        1.000000  \n",
       "\n",
       "[61 rows x 61 columns]"
      ]
     },
     "execution_count": 26,
     "metadata": {},
     "output_type": "execute_result"
    }
   ],
   "source": [
    "X_train.corr()"
   ]
  },
  {
   "cell_type": "code",
   "execution_count": 35,
   "metadata": {},
   "outputs": [
    {
     "name": "stdout",
     "output_type": "stream",
     "text": [
      "Wall time: 276 ms\n"
     ]
    }
   ],
   "source": [
    "%%time\n",
    "classifier = GaussianNB()\n",
    "classifier.fit(X_train, y_train)\n",
    "prediction = classifier.predict(X_test)"
   ]
  },
  {
   "cell_type": "code",
   "execution_count": 28,
   "metadata": {},
   "outputs": [
    {
     "data": {
      "text/plain": [
       "0.8051501841881553"
      ]
     },
     "execution_count": 28,
     "metadata": {},
     "output_type": "execute_result"
    }
   ],
   "source": [
    "np.mean(prediction == y_test)"
   ]
  },
  {
   "cell_type": "code",
   "execution_count": 29,
   "metadata": {},
   "outputs": [
    {
     "data": {
      "image/png": "[encoded data removed]",
      "text/plain": [
       "<Figure size 432x288 with 2 Axes>"
      ]
     },
     "metadata": {
      "needs_background": "light"
     },
     "output_type": "display_data"
    }
   ],
   "source": [
    "import matplotlib.pyplot as plt\n",
    "from sklearn.metrics import plot_confusion_matrix\n",
    "\n",
    "plot_confusion_matrix(classifier, X_test, y_test) \n",
    "plt.show()"
   ]
  },
  {
   "cell_type": "markdown",
   "metadata": {},
   "source": [
    "# Логистическая регрессия"
   ]
  },
  {
   "cell_type": "code",
   "execution_count": 30,
   "metadata": {},
   "outputs": [
    {
     "name": "stdout",
     "output_type": "stream",
     "text": [
      "Wall time: 29.6 s\n"
     ]
    }
   ],
   "source": [
    "%%time\n",
    "classifier = LogisticRegression(penalty =  'l2', max_iter = 5000)\n",
    "classifier.fit(X_train, y_train)\n",
    "prediction = classifier.predict(X_test)"
   ]
  },
  {
   "cell_type": "code",
   "execution_count": 31,
   "metadata": {},
   "outputs": [
    {
     "data": {
      "text/plain": [
       "0.8698285633323888"
      ]
     },
     "execution_count": 31,
     "metadata": {},
     "output_type": "execute_result"
    }
   ],
   "source": [
    "np.mean(prediction == y_test)"
   ]
  },
  {
   "cell_type": "code",
   "execution_count": 32,
   "metadata": {},
   "outputs": [
    {
     "data": {
      "image/png": "[encoded data removed]",
      "text/plain": [
       "<Figure size 432x288 with 2 Axes>"
      ]
     },
     "metadata": {
      "needs_background": "light"
     },
     "output_type": "display_data"
    }
   ],
   "source": [
    "import matplotlib.pyplot as plt\n",
    "from sklearn.metrics import plot_confusion_matrix\n",
    "\n",
    "plot_confusion_matrix(classifier, X_test, y_test) \n",
    "plt.show()"
   ]
  },
  {
   "cell_type": "code",
   "execution_count": null,
   "metadata": {},
   "outputs": [],
   "source": [
    "Метод ближайших соседей: Wall time: 1min 9s   c = 0.8373831113629924\n",
    "Наивный Байес: Wall time: 260 ms              c = 0.8051501841881553\n",
    "Логистическая регрессия: Wall time: 29.6 s    c = 0.8698285633323888\n",
    "        \n",
    "Логистическая регрессия дает оптимальный результат по времени качеству."
   ]
  }
 ],
 "metadata": {
  "kernelspec": {
   "display_name": "Python 3",
   "language": "python",
   "name": "python3"
  },
  "language_info": {
   "codemirror_mode": {
    "name": "ipython",
    "version": 3
   },
   "file_extension": ".py",
   "mimetype": "text/x-python",
   "name": "python",
   "nbconvert_exporter": "python",
   "pygments_lexer": "ipython3",
   "version": "3.8.5"
  }
 },
 "nbformat": 4,
 "nbformat_minor": 4
}
