{
  "nbformat": 4,
  "nbformat_minor": 0,
  "metadata": {
    "colab": {
      "name": "БД \"HW6_DE\"",
      "provenance": [],
      "collapsed_sections": []
    },
    "kernelspec": {
      "name": "python3",
      "display_name": "Python 3"
    }
  },
  "cells": [
    {
      "cell_type": "code",
      "metadata": {
        "id": "RumFnRay9oEM",
        "colab": {
          "base_uri": "https://localhost:8080/"
        },
        "outputId": "f892fa8e-08af-4248-9d4b-0204cea8dd97"
      },
      "source": [
        "!pip install pyspark\n",
        "!pip install -U -q PyDrive\n",
        "!apt install openjdk-8-jdk-headless -qq\n",
        "import os\n",
        "os.environ[\"JAVA_HOME\"] = \"/usr/lib/jvm/java-8-openjdk-amd64\""
      ],
      "execution_count": null,
      "outputs": [
        {
          "output_type": "stream",
          "text": [
            "Collecting pyspark\n",
            "\u001b[?25l  Downloading https://files.pythonhosted.org/packages/f0/26/198fc8c0b98580f617cb03cb298c6056587b8f0447e20fa40c5b634ced77/pyspark-3.0.1.tar.gz (204.2MB)\n",
            "\u001b[K     |████████████████████████████████| 204.2MB 62kB/s \n",
            "\u001b[?25hCollecting py4j==0.10.9\n",
            "\u001b[?25l  Downloading https://files.pythonhosted.org/packages/9e/b6/6a4fb90cd235dc8e265a6a2067f2a2c99f0d91787f06aca4bcf7c23f3f80/py4j-0.10.9-py2.py3-none-any.whl (198kB)\n",
            "\u001b[K     |████████████████████████████████| 204kB 50.8MB/s \n",
            "\u001b[?25hBuilding wheels for collected packages: pyspark\n",
            "  Building wheel for pyspark (setup.py) ... \u001b[?25l\u001b[?25hdone\n",
            "  Created wheel for pyspark: filename=pyspark-3.0.1-py2.py3-none-any.whl size=204612242 sha256=0ca3c1ab9db0f7cc44d745b47950716f4a9a113729f0b012a19b70e705710271\n",
            "  Stored in directory: /root/.cache/pip/wheels/5e/bd/07/031766ca628adec8435bb40f0bd83bb676ce65ff4007f8e73f\n",
            "Successfully built pyspark\n",
            "Installing collected packages: py4j, pyspark\n",
            "Successfully installed py4j-0.10.9 pyspark-3.0.1\n",
            "The following additional packages will be installed:\n",
            "  openjdk-8-jre-headless\n",
            "Suggested packages:\n",
            "  openjdk-8-demo openjdk-8-source libnss-mdns fonts-dejavu-extra\n",
            "  fonts-ipafont-gothic fonts-ipafont-mincho fonts-wqy-microhei\n",
            "  fonts-wqy-zenhei fonts-indic\n",
            "The following NEW packages will be installed:\n",
            "  openjdk-8-jdk-headless openjdk-8-jre-headless\n",
            "0 upgraded, 2 newly installed, 0 to remove and 15 not upgraded.\n",
            "Need to get 36.5 MB of archives.\n",
            "After this operation, 143 MB of additional disk space will be used.\n",
            "Selecting previously unselected package openjdk-8-jre-headless:amd64.\n",
            "(Reading database ... 145480 files and directories currently installed.)\n",
            "Preparing to unpack .../openjdk-8-jre-headless_8u275-b01-0ubuntu1~18.04_amd64.deb ...\n",
            "Unpacking openjdk-8-jre-headless:amd64 (8u275-b01-0ubuntu1~18.04) ...\n",
            "Selecting previously unselected package openjdk-8-jdk-headless:amd64.\n",
            "Preparing to unpack .../openjdk-8-jdk-headless_8u275-b01-0ubuntu1~18.04_amd64.deb ...\n",
            "Unpacking openjdk-8-jdk-headless:amd64 (8u275-b01-0ubuntu1~18.04) ...\n",
            "Setting up openjdk-8-jre-headless:amd64 (8u275-b01-0ubuntu1~18.04) ...\n",
            "update-alternatives: using /usr/lib/jvm/java-8-openjdk-amd64/jre/bin/orbd to provide /usr/bin/orbd (orbd) in auto mode\n",
            "update-alternatives: using /usr/lib/jvm/java-8-openjdk-amd64/jre/bin/servertool to provide /usr/bin/servertool (servertool) in auto mode\n",
            "update-alternatives: using /usr/lib/jvm/java-8-openjdk-amd64/jre/bin/tnameserv to provide /usr/bin/tnameserv (tnameserv) in auto mode\n",
            "Setting up openjdk-8-jdk-headless:amd64 (8u275-b01-0ubuntu1~18.04) ...\n",
            "update-alternatives: using /usr/lib/jvm/java-8-openjdk-amd64/bin/idlj to provide /usr/bin/idlj (idlj) in auto mode\n",
            "update-alternatives: using /usr/lib/jvm/java-8-openjdk-amd64/bin/wsimport to provide /usr/bin/wsimport (wsimport) in auto mode\n",
            "update-alternatives: using /usr/lib/jvm/java-8-openjdk-amd64/bin/jsadebugd to provide /usr/bin/jsadebugd (jsadebugd) in auto mode\n",
            "update-alternatives: using /usr/lib/jvm/java-8-openjdk-amd64/bin/native2ascii to provide /usr/bin/native2ascii (native2ascii) in auto mode\n",
            "update-alternatives: using /usr/lib/jvm/java-8-openjdk-amd64/bin/javah to provide /usr/bin/javah (javah) in auto mode\n",
            "update-alternatives: using /usr/lib/jvm/java-8-openjdk-amd64/bin/clhsdb to provide /usr/bin/clhsdb (clhsdb) in auto mode\n",
            "update-alternatives: using /usr/lib/jvm/java-8-openjdk-amd64/bin/xjc to provide /usr/bin/xjc (xjc) in auto mode\n",
            "update-alternatives: using /usr/lib/jvm/java-8-openjdk-amd64/bin/hsdb to provide /usr/bin/hsdb (hsdb) in auto mode\n",
            "update-alternatives: using /usr/lib/jvm/java-8-openjdk-amd64/bin/schemagen to provide /usr/bin/schemagen (schemagen) in auto mode\n",
            "update-alternatives: using /usr/lib/jvm/java-8-openjdk-amd64/bin/extcheck to provide /usr/bin/extcheck (extcheck) in auto mode\n",
            "update-alternatives: using /usr/lib/jvm/java-8-openjdk-amd64/bin/jhat to provide /usr/bin/jhat (jhat) in auto mode\n",
            "update-alternatives: using /usr/lib/jvm/java-8-openjdk-amd64/bin/wsgen to provide /usr/bin/wsgen (wsgen) in auto mode\n"
          ],
          "name": "stdout"
        }
      ]
    },
    {
      "cell_type": "code",
      "metadata": {
        "id": "68_AeFo49pEU"
      },
      "source": [
        "from pydrive.auth import GoogleAuth\n",
        "from pydrive.drive import GoogleDrive\n",
        "from google.colab import auth\n",
        "from oauth2client.client import GoogleCredentials\n",
        "\n",
        "auth.authenticate_user()\n",
        "gauth = GoogleAuth()\n",
        "gauth.credentials = GoogleCredentials.get_application_default()\n",
        "drive = GoogleDrive(gauth)"
      ],
      "execution_count": null,
      "outputs": []
    },
    {
      "cell_type": "code",
      "metadata": {
        "id": "ftRUvQn89-yC"
      },
      "source": [
        "id='1f_9EbnywCj35EBUA32sueigxBjBJwALr'\n",
        "downloaded = drive.CreateFile({'id': id})\n",
        "downloaded.GetContentFile('War and Peace by Leo Tolstoy (ru).txt')"
      ],
      "execution_count": null,
      "outputs": []
    },
    {
      "cell_type": "code",
      "metadata": {
        "id": "LpR8DQxm-IRN"
      },
      "source": [
        "import pandas as pd\n",
        "\n",
        "import pyspark\n",
        "from pyspark.sql import *\n",
        "from pyspark.sql.functions import *\n",
        "from pyspark import SparkContext, SparkConf"
      ],
      "execution_count": null,
      "outputs": []
    },
    {
      "cell_type": "code",
      "metadata": {
        "id": "w6qPAe12-Q19"
      },
      "source": [
        "conf = SparkConf().set(\"spark.ui.port\", \"4050\")\n",
        "\n",
        "sc = pyspark.SparkContext(conf=conf)\n",
        "spark = SparkSession.builder.getOrCreate()"
      ],
      "execution_count": null,
      "outputs": []
    },
    {
      "cell_type": "code",
      "metadata": {
        "id": "2E-RdW9y-U1o",
        "colab": {
          "base_uri": "https://localhost:8080/",
          "height": 216
        },
        "outputId": "bf89bcfe-0a1b-4a89-b713-12124a245c30"
      },
      "source": [
        "spark"
      ],
      "execution_count": null,
      "outputs": [
        {
          "output_type": "execute_result",
          "data": {
            "text/html": [
              "\n",
              "            <div>\n",
              "                <p><b>SparkSession - in-memory</b></p>\n",
              "                \n",
              "        <div>\n",
              "            <p><b>SparkContext</b></p>\n",
              "\n",
              "            <p><a href=\"http://064784c513ab:4050\">Spark UI</a></p>\n",
              "\n",
              "            <dl>\n",
              "              <dt>Version</dt>\n",
              "                <dd><code>v3.0.1</code></dd>\n",
              "              <dt>Master</dt>\n",
              "                <dd><code>local[*]</code></dd>\n",
              "              <dt>AppName</dt>\n",
              "                <dd><code>pyspark-shell</code></dd>\n",
              "            </dl>\n",
              "        </div>\n",
              "        \n",
              "            </div>\n",
              "        "
            ],
            "text/plain": [
              "<pyspark.sql.session.SparkSession at 0x7ffb37260048>"
            ]
          },
          "metadata": {
            "tags": []
          },
          "execution_count": 6
        }
      ]
    },
    {
      "cell_type": "code",
      "metadata": {
        "id": "T6LU3RGy-Yag",
        "colab": {
          "base_uri": "https://localhost:8080/"
        },
        "outputId": "70e1871e-cc1c-4d48-be67-8627c276f149"
      },
      "source": [
        "!wget https://bin.equinox.io/c/4VmDzA7iaHb/ngrok-stable-linux-amd64.zip\n",
        "!unzip ngrok-stable-linux-amd64.zip\n",
        "get_ipython().system_raw('./ngrok http 4050 &')\n",
        "!curl -s http://localhost:4040/api/tunnels | python3 -c \\\n",
        "    \"import sys, json; print(json.load(sys.stdin)['tunnels'][0]['public_url'])\""
      ],
      "execution_count": null,
      "outputs": [
        {
          "output_type": "stream",
          "text": [
            "--2020-12-23 10:26:46--  https://bin.equinox.io/c/4VmDzA7iaHb/ngrok-stable-linux-amd64.zip\n",
            "Resolving bin.equinox.io (bin.equinox.io)... 3.90.94.177, 52.204.93.39, 52.73.16.193, ...\n",
            "Connecting to bin.equinox.io (bin.equinox.io)|3.90.94.177|:443... connected.\n",
            "HTTP request sent, awaiting response... 200 OK\n",
            "Length: 13773305 (13M) [application/octet-stream]\n",
            "Saving to: ‘ngrok-stable-linux-amd64.zip.1’\n",
            "\n",
            "ngrok-stable-linux- 100%[===================>]  13.13M  38.1MB/s    in 0.3s    \n",
            "\n",
            "2020-12-23 10:26:47 (38.1 MB/s) - ‘ngrok-stable-linux-amd64.zip.1’ saved [13773305/13773305]\n",
            "\n",
            "Archive:  ngrok-stable-linux-amd64.zip\n",
            "replace ngrok? [y]es, [n]o, [A]ll, [N]one, [r]ename: y\n",
            "  inflating: ngrok                   \n",
            "https://27e9187b655d.ngrok.io\n"
          ],
          "name": "stdout"
        }
      ]
    },
    {
      "cell_type": "markdown",
      "metadata": {
        "id": "bgte5waWKrpd"
      },
      "source": [
        "Подсчитай кол-во слов в документе \"War and Peace by Leo Tolstoy (ru).txt\""
      ]
    },
    {
      "cell_type": "code",
      "metadata": {
        "id": "F7AYXXsTKqjm"
      },
      "source": [
        "# код\r\n",
        "from pyspark.sql import SparkSession\r\n",
        "import pandas as pd\r\n",
        "\r\n",
        "ss = SparkSession(sc)"
      ],
      "execution_count": null,
      "outputs": []
    },
    {
      "cell_type": "code",
      "metadata": {
        "colab": {
          "base_uri": "https://localhost:8080/"
        },
        "id": "-IF_2f6EoDgC",
        "outputId": "182d592f-511a-4dbb-e6b3-03ffe473a19d"
      },
      "source": [
        "!pip install chardet"
      ],
      "execution_count": null,
      "outputs": [
        {
          "output_type": "stream",
          "text": [
            "Requirement already satisfied: chardet in /usr/local/lib/python3.6/dist-packages (3.0.4)\n"
          ],
          "name": "stdout"
        }
      ]
    },
    {
      "cell_type": "code",
      "metadata": {
        "colab": {
          "base_uri": "https://localhost:8080/"
        },
        "id": "264AfCVzlfWb",
        "outputId": "e271b422-c2ef-4b61-9128-57fa3ce05789"
      },
      "source": [
        "from chardet.universaldetector import UniversalDetector\r\n",
        "  \r\n",
        "detector = UniversalDetector()\r\n",
        "with open('War and Peace by Leo Tolstoy (ru).txt', 'rb') as fh:\r\n",
        "    for line in fh:\r\n",
        "        detector.feed(line)\r\n",
        "        if detector.done:\r\n",
        "            break\r\n",
        "    detector.close()\r\n",
        "print(detector.result)"
      ],
      "execution_count": null,
      "outputs": [
        {
          "output_type": "stream",
          "text": [
            "{'encoding': 'windows-1251', 'confidence': 0.9743328310474701, 'language': 'Russian'}\n"
          ],
          "name": "stdout"
        }
      ]
    },
    {
      "cell_type": "code",
      "metadata": {
        "id": "Xz9ZENpKiJ10"
      },
      "source": [
        "xx = ss.read.csv(\"War and Peace by Leo Tolstoy (ru).txt\", sep='%s\\t%s', encoding='windows-1251', header='true', inferSchema='true',)"
      ],
      "execution_count": null,
      "outputs": []
    },
    {
      "cell_type": "code",
      "metadata": {
        "colab": {
          "base_uri": "https://localhost:8080/"
        },
        "id": "1c_bflCB8AX6",
        "outputId": "b690dc2e-9364-493a-86c3-0f9ee6967b0d"
      },
      "source": [
        "print(xx.count())\r\n",
        "xx.columns"
      ],
      "execution_count": null,
      "outputs": [
        {
          "output_type": "stream",
          "text": [
            "13201\n"
          ],
          "name": "stdout"
        },
        {
          "output_type": "execute_result",
          "data": {
            "text/plain": [
              "['Война и мир. Книга 1']"
            ]
          },
          "metadata": {
            "tags": []
          },
          "execution_count": 13
        }
      ]
    },
    {
      "cell_type": "code",
      "metadata": {
        "colab": {
          "base_uri": "https://localhost:8080/"
        },
        "id": "SsTJBnerAN11",
        "outputId": "66bdd188-ad20-4307-b438-ab42fd4d1c5b"
      },
      "source": [
        "xx.show(5)"
      ],
      "execution_count": null,
      "outputs": [
        {
          "output_type": "stream",
          "text": [
            "+--------------------+\n",
            "|Война и мир. Книга 1|\n",
            "+--------------------+\n",
            "|Лев Николаевич То...|\n",
            "|      Война и мир #1|\n",
            "|В книгу вошли пер...|\n",
            "|          Том первый|\n",
            "|        Часть первая|\n",
            "+--------------------+\n",
            "only showing top 5 rows\n",
            "\n"
          ],
          "name": "stdout"
        }
      ]
    },
    {
      "cell_type": "code",
      "metadata": {
        "colab": {
          "base_uri": "https://localhost:8080/"
        },
        "id": "PO8OKmHXA4hU",
        "outputId": "29f94058-b13f-47fe-f451-038793a0100f"
      },
      "source": [
        "xx.filter(length(col(\"`Война и мир. Книга 1`\")) > 0).withColumn(\"words\", split(col(\"`Война и мир. Книга 1`\"), \"\\\\s+\")).select(explode(col(\"words\"))).show(40)"
      ],
      "execution_count": null,
      "outputs": [
        {
          "output_type": "stream",
          "text": [
            "+------------+\n",
            "|         col|\n",
            "+------------+\n",
            "|         Лев|\n",
            "|  Николаевич|\n",
            "|     Толстой|\n",
            "|       Война|\n",
            "|           и|\n",
            "|         мир|\n",
            "|          #1|\n",
            "|           В|\n",
            "|       книгу|\n",
            "|       вошли|\n",
            "|      первый|\n",
            "|           и|\n",
            "|      второй|\n",
            "|        тома|\n",
            "|      романа|\n",
            "|      «Война|\n",
            "|           и|\n",
            "|        мир»|\n",
            "|           –|\n",
            "|      одного|\n",
            "|          из|\n",
            "|       самых|\n",
            "|  знаменитых|\n",
            "|произведений|\n",
            "|  литературы|\n",
            "|         XIX|\n",
            "|       века.|\n",
            "|         Том|\n",
            "|      первый|\n",
            "|       Часть|\n",
            "|      первая|\n",
            "|           I|\n",
            "|        – Eh|\n",
            "|       bien,|\n",
            "|         mon|\n",
            "|     prince.|\n",
            "|       G?nes|\n",
            "|          et|\n",
            "|     Lucques|\n",
            "|          ne|\n",
            "+------------+\n",
            "only showing top 40 rows\n",
            "\n"
          ],
          "name": "stdout"
        }
      ]
    },
    {
      "cell_type": "code",
      "metadata": {
        "colab": {
          "base_uri": "https://localhost:8080/"
        },
        "id": "PpazBtxH3_b0",
        "outputId": "59f23e83-289d-475a-fd70-2dec85506612"
      },
      "source": [
        "xx.filter(length(col(\"`Война и мир. Книга 1`\")) > 0).withColumn(\"words\", split(col(\"`Война и мир. Книга 1`\"), \"\\\\s+\")).select(explode(col(\"words\"))).describe().show()"
      ],
      "execution_count": null,
      "outputs": [
        {
          "output_type": "stream",
          "text": [
            "+-------+------------------+\n",
            "|summary|               col|\n",
            "+-------+------------------+\n",
            "|  count|            475218|\n",
            "|   mean| 320.5295652173913|\n",
            "| stddev|435.44152087066476|\n",
            "|    min|                  |\n",
            "|    max|            № 178.|\n",
            "+-------+------------------+\n",
            "\n"
          ],
          "name": "stdout"
        }
      ]
    },
    {
      "cell_type": "markdown",
      "metadata": {
        "id": "ZuVDZVgcK1Dq"
      },
      "source": [
        "возможно стоило почистить текст, чтобы получить именно слова"
      ]
    },
    {
      "cell_type": "code",
      "metadata": {
        "id": "MJgmIgCzLJTo"
      },
      "source": [
        "id='13yfAoONwq4rS5XrTv3IrcqcFcdgfvK9V'\n",
        "downloaded = drive.CreateFile({'id': id})\n",
        "downloaded.GetContentFile('mnist-digits-train.txt')\n",
        "\n",
        "id='1VE_9x0LQvOJpHXbXp_RMPl3Q4wRUuOok'\n",
        "downloaded = drive.CreateFile({'id': id})\n",
        "downloaded.GetContentFile('mnist-digits-test.txt')"
      ],
      "execution_count": null,
      "outputs": []
    },
    {
      "cell_type": "markdown",
      "metadata": {
        "id": "vSU-TTUvNaON"
      },
      "source": [
        "Необходимо обучить модель используя Spark MLlib (модель на ваш выбор, например Decision Tree) и получить accuracy.\n",
        "Подробнее тут: https://spark.apache.org/docs/latest/ml-classification-regression.html"
      ]
    },
    {
      "cell_type": "code",
      "metadata": {
        "id": "3BMwjHa6DDMg"
      },
      "source": [
        "# код\r\n",
        "from pyspark.ml import Pipeline\r\n",
        "\r\n",
        "from pyspark.ml.classification import LogisticRegression\r\n",
        "from pyspark.ml.classification import DecisionTreeClassifier\r\n",
        "from pyspark.ml.feature import StringIndexer, VectorIndexer, IndexToString\r\n",
        "from pyspark.ml.classification import RandomForestClassifier\r\n",
        "from pyspark.ml.evaluation import MulticlassClassificationEvaluator"
      ],
      "execution_count": null,
      "outputs": []
    },
    {
      "cell_type": "code",
      "metadata": {
        "id": "CnlKG0eoETqA"
      },
      "source": [
        "data = spark.read.format(\"libsvm\").load(\"mnist-digits-train.txt\")"
      ],
      "execution_count": null,
      "outputs": []
    },
    {
      "cell_type": "code",
      "metadata": {
        "id": "T_iqRyyZE3I9"
      },
      "source": [
        "data_test = spark.read.format(\"libsvm\").load(\"mnist-digits-test.txt\")#вручную добавил в блокнот 779:0 780:0"
      ],
      "execution_count": null,
      "outputs": []
    },
    {
      "cell_type": "code",
      "metadata": {
        "id": "tj-coAmvysl_"
      },
      "source": [
        "labelIndexer = StringIndexer(inputCol=\"label\", outputCol=\"indexedLabel\").fit(data)"
      ],
      "execution_count": null,
      "outputs": []
    },
    {
      "cell_type": "code",
      "metadata": {
        "id": "-e7YIF6-9yHc"
      },
      "source": [
        "featureIndexer =\\\r\n",
        "    VectorIndexer(inputCol=\"features\", outputCol=\"indexedFeatures\", handleInvalid='skip').fit(data)"
      ],
      "execution_count": null,
      "outputs": []
    },
    {
      "cell_type": "code",
      "metadata": {
        "id": "EvthStW49yUh"
      },
      "source": [
        "dt = DecisionTreeClassifier(labelCol=\"indexedLabel\", featuresCol=\"indexedFeatures\")"
      ],
      "execution_count": null,
      "outputs": []
    },
    {
      "cell_type": "code",
      "metadata": {
        "id": "lY3hX6vs915f"
      },
      "source": [
        "pipeline = Pipeline(stages=[labelIndexer, featureIndexer, dt])"
      ],
      "execution_count": null,
      "outputs": []
    },
    {
      "cell_type": "code",
      "metadata": {
        "id": "SiWovgWx9172"
      },
      "source": [
        "model = pipeline.fit(data)"
      ],
      "execution_count": null,
      "outputs": []
    },
    {
      "cell_type": "code",
      "metadata": {
        "id": "z9NjGbdP91_i"
      },
      "source": [
        "predictions = model.transform(data_test)"
      ],
      "execution_count": null,
      "outputs": []
    },
    {
      "cell_type": "code",
      "metadata": {
        "colab": {
          "base_uri": "https://localhost:8080/"
        },
        "id": "flaWx7SK976d",
        "outputId": "7841a5f6-51c1-4d44-8c5f-eb7a12bb7048"
      },
      "source": [
        "predictions.select(\"prediction\", \"indexedLabel\", \"features\").show(5)"
      ],
      "execution_count": null,
      "outputs": [
        {
          "output_type": "stream",
          "text": [
            "+----------+------------+--------------------+\n",
            "|prediction|indexedLabel|            features|\n",
            "+----------+------------+--------------------+\n",
            "|       1.0|         1.0|(780,[202,203,204...|\n",
            "|       6.0|         3.0|(780,[94,95,96,97...|\n",
            "|       0.0|         0.0|(780,[128,129,130...|\n",
            "|       5.0|         5.0|(780,[124,125,126...|\n",
            "|       4.0|         8.0|(780,[150,151,159...|\n",
            "+----------+------------+--------------------+\n",
            "only showing top 5 rows\n",
            "\n"
          ],
          "name": "stdout"
        }
      ]
    },
    {
      "cell_type": "code",
      "metadata": {
        "id": "H-8IHRGi99Bv"
      },
      "source": [
        "evaluator = MulticlassClassificationEvaluator(\r\n",
        "    labelCol=\"indexedLabel\", predictionCol=\"prediction\", metricName=\"accuracy\")\r\n",
        "accuracy = evaluator.evaluate(predictions)"
      ],
      "execution_count": null,
      "outputs": []
    },
    {
      "cell_type": "code",
      "metadata": {
        "colab": {
          "base_uri": "https://localhost:8080/"
        },
        "id": "disC4hLQKMMT",
        "outputId": "7ef23775-539c-46f0-d550-e6d6b3f7b3d2"
      },
      "source": [
        "accuracy"
      ],
      "execution_count": null,
      "outputs": [
        {
          "output_type": "execute_result",
          "data": {
            "text/plain": [
              "0.6733708769107"
            ]
          },
          "metadata": {
            "tags": []
          },
          "execution_count": 31
        }
      ]
    },
    {
      "cell_type": "code",
      "metadata": {
        "colab": {
          "base_uri": "https://localhost:8080/"
        },
        "id": "rXxPDumIKPpK",
        "outputId": "07473b71-ce54-4b3a-a3f5-855ff5514528"
      },
      "source": [
        "print(\"Test Error = %g \" % (1.0 - accuracy))"
      ],
      "execution_count": null,
      "outputs": [
        {
          "output_type": "stream",
          "text": [
            "Test Error = 0.326629 \n"
          ],
          "name": "stdout"
        }
      ]
    },
    {
      "cell_type": "code",
      "metadata": {
        "id": "yKMztZ2eOOrE",
        "colab": {
          "base_uri": "https://localhost:8080/"
        },
        "outputId": "d3a77adb-b33a-4707-e332-63e7866d759b"
      },
      "source": [
        "id='1kUIrskM0zNH8u71G9M1BkHjRQYxvgAvh'\n",
        "downloaded = drive.CreateFile({'id': id})\n",
        "#downloaded.GetContentFile('data.zip')\n",
        "!unzip data.zip"
      ],
      "execution_count": null,
      "outputs": [
        {
          "output_type": "stream",
          "text": [
            "Archive:  data.zip\n",
            "   creating: data/\n",
            "  inflating: data/regions.csv        \n",
            "  inflating: data/departments.csv    \n",
            "  inflating: data/jobs.csv           \n",
            "  inflating: data/locations.csv      \n",
            "  inflating: data/country.csv        \n",
            "  inflating: data/employees.csv      \n",
            "  inflating: data/job_history.csv    \n"
          ],
          "name": "stdout"
        }
      ]
    },
    {
      "cell_type": "markdown",
      "metadata": {
        "id": "v43K2fDAjUYb"
      },
      "source": [
        "Кто получает больше всего? Кто меньше всего?"
      ]
    },
    {
      "cell_type": "code",
      "metadata": {
        "colab": {
          "base_uri": "https://localhost:8080/"
        },
        "id": "Pl1epmCqajDL",
        "outputId": "f7310a36-620a-4c57-ace2-d412f40f4655"
      },
      "source": [
        "detector = UniversalDetector()\r\n",
        "with open('data/regions.csv', 'rb') as fh:\r\n",
        "    for line in fh:\r\n",
        "        detector.feed(line)\r\n",
        "        if detector.done:\r\n",
        "            break\r\n",
        "    detector.close()\r\n",
        "print(detector.result)"
      ],
      "execution_count": null,
      "outputs": [
        {
          "output_type": "stream",
          "text": [
            "{'encoding': 'ascii', 'confidence': 1.0, 'language': ''}\n"
          ],
          "name": "stdout"
        }
      ]
    },
    {
      "cell_type": "code",
      "metadata": {
        "id": "CT0qdRyUYmbX"
      },
      "source": [
        "ss.read.csv(\"data/regions.csv\", sep='\\t', encoding=\"ascii\", header=\"True\").createOrReplaceTempView(\"regions\")"
      ],
      "execution_count": null,
      "outputs": []
    },
    {
      "cell_type": "code",
      "metadata": {
        "id": "IusnMPOWbnth"
      },
      "source": [
        "jobser = ss.read.csv(\"data/jobs.csv\", sep='\\t', encoding=\"ascii\", header=\"True\").createOrReplaceTempView(\"jobs\")"
      ],
      "execution_count": null,
      "outputs": []
    },
    {
      "cell_type": "code",
      "metadata": {
        "id": "Zm15EW8znWDo"
      },
      "source": [
        "# код\r\n",
        "sq = spark.sql(\"\"\"\r\n",
        "SELECT * FROM jobs\r\n",
        "\"\"\")"
      ],
      "execution_count": null,
      "outputs": []
    },
    {
      "cell_type": "code",
      "metadata": {
        "colab": {
          "base_uri": "https://localhost:8080/"
        },
        "id": "WTfuy7fMjBLR",
        "outputId": "b6c50860-bc7c-4b27-d87e-adfd8ab53de3"
      },
      "source": [
        "sq.show()"
      ],
      "execution_count": null,
      "outputs": [
        {
          "output_type": "stream",
          "text": [
            "+----------+--------------------+----------+----------+\n",
            "|    JOB_ID|           JOB_TITLE|MIN_SALARY|MAX_SALARY|\n",
            "+----------+--------------------+----------+----------+\n",
            "|   AD_PRES|           President|     20080|     40000|\n",
            "|     AD_VP|Administration Vi...|     15000|     30000|\n",
            "|   AD_ASST|Administration As...|      3000|      6000|\n",
            "|    FI_MGR|     Finance Manager|      8200|     16000|\n",
            "|FI_ACCOUNT|          Accountant|      4200|      9000|\n",
            "|    AC_MGR|  Accounting Manager|      8200|     16000|\n",
            "|AC_ACCOUNT|   Public Accountant|      4200|      9000|\n",
            "|    SA_MAN|       Sales Manager|     10000|     20080|\n",
            "|    SA_REP|Sales Representative|      6000|     12008|\n",
            "|    PU_MAN|  Purchasing Manager|      8000|     15000|\n",
            "|  PU_CLERK|    Purchasing Clerk|      2500|      5500|\n",
            "|    ST_MAN|       Stock Manager|      5500|      8500|\n",
            "|  ST_CLERK|         Stock Clerk|      2008|      5000|\n",
            "|  SH_CLERK|      Shipping Clerk|      2500|      5500|\n",
            "|   IT_PROG|          Programmer|      4000|     10000|\n",
            "|    MK_MAN|   Marketing Manager|      9000|     15000|\n",
            "|    MK_REP|Marketing Represe...|      4000|      9000|\n",
            "|    HR_REP|Human Resources R...|      4000|      9000|\n",
            "|    PR_REP|Public Relations ...|      4500|     10500|\n",
            "+----------+--------------------+----------+----------+\n",
            "\n"
          ],
          "name": "stdout"
        }
      ]
    },
    {
      "cell_type": "code",
      "metadata": {
        "colab": {
          "base_uri": "https://localhost:8080/"
        },
        "id": "Bf1Hv67oi3XH",
        "outputId": "7d16d768-1193-4cd8-ba09-f6e4baea2e1e"
      },
      "source": [
        "sq.printSchema()"
      ],
      "execution_count": null,
      "outputs": [
        {
          "output_type": "stream",
          "text": [
            "root\n",
            " |-- JOB_ID: string (nullable = true)\n",
            " |-- JOB_TITLE: string (nullable = true)\n",
            " |-- MIN_SALARY: string (nullable = true)\n",
            " |-- MAX_SALARY: string (nullable = true)\n",
            "\n"
          ],
          "name": "stdout"
        }
      ]
    },
    {
      "cell_type": "code",
      "metadata": {
        "id": "nv2_7_9FprT1"
      },
      "source": [
        "from pyspark.sql.types import IntegerType, LongType, FloatType, DateType"
      ],
      "execution_count": null,
      "outputs": []
    },
    {
      "cell_type": "code",
      "metadata": {
        "id": "fqTh2hQBmfzQ"
      },
      "source": [
        "jobs_2 = sq.withColumn(\"MAX_SALARY_\", sq.MAX_SALARY.cast(IntegerType()))\\\r\n",
        ".drop(\"MAX_SALARY\")\\\r\n",
        ".withColumnRenamed(\"MAX_SALARY_\", \"MAX_SALARY\")"
      ],
      "execution_count": null,
      "outputs": []
    },
    {
      "cell_type": "code",
      "metadata": {
        "id": "-Y3jnwFHv2dG"
      },
      "source": [
        "maxsi = jobs_2.select(max('MAX_SALARY'))"
      ],
      "execution_count": null,
      "outputs": []
    },
    {
      "cell_type": "code",
      "metadata": {
        "colab": {
          "base_uri": "https://localhost:8080/"
        },
        "id": "HUFwP9nfqEYF",
        "outputId": "b41f7c14-fdf2-4aa5-b984-d04aa70789e0"
      },
      "source": [
        "jobs_2.select('*').where(col('MAX_SALARY') == maxsi.collect()[0][0]).show()"
      ],
      "execution_count": null,
      "outputs": [
        {
          "output_type": "stream",
          "text": [
            "+-------+---------+----------+----------+\n",
            "| JOB_ID|JOB_TITLE|MIN_SALARY|MAX_SALARY|\n",
            "+-------+---------+----------+----------+\n",
            "|AD_PRES|President|     20080|     40000|\n",
            "+-------+---------+----------+----------+\n",
            "\n"
          ],
          "name": "stdout"
        }
      ]
    },
    {
      "cell_type": "code",
      "metadata": {
        "colab": {
          "base_uri": "https://localhost:8080/"
        },
        "id": "mBzM1oAY1YCH",
        "outputId": "898a62f3-3182-4728-86eb-9958cf2ddb06"
      },
      "source": [
        "jobs_2.select('*').where(col('MAX_SALARY') == jobs_2.select(min('MAX_SALARY')).collect()[0][0]).show()"
      ],
      "execution_count": null,
      "outputs": [
        {
          "output_type": "stream",
          "text": [
            "+--------+-----------+----------+----------+\n",
            "|  JOB_ID|  JOB_TITLE|MIN_SALARY|MAX_SALARY|\n",
            "+--------+-----------+----------+----------+\n",
            "|ST_CLERK|Stock Clerk|      2008|      5000|\n",
            "+--------+-----------+----------+----------+\n",
            "\n"
          ],
          "name": "stdout"
        }
      ]
    },
    {
      "cell_type": "markdown",
      "metadata": {
        "id": "zg8-rkFlkMqm"
      },
      "source": [
        "Выведете топ 5 по зарплате."
      ]
    },
    {
      "cell_type": "code",
      "metadata": {
        "id": "SMzJ_tJhnWuV",
        "colab": {
          "base_uri": "https://localhost:8080/"
        },
        "outputId": "ca3f5be9-ad4e-4a4c-8c00-23dd4e3b4d86"
      },
      "source": [
        "# код\r\n",
        "jobs_2.select('*').sort(col('MAX_SALARY').desc()).show(5)"
      ],
      "execution_count": null,
      "outputs": [
        {
          "output_type": "stream",
          "text": [
            "+-------+--------------------+----------+----------+\n",
            "| JOB_ID|           JOB_TITLE|MIN_SALARY|MAX_SALARY|\n",
            "+-------+--------------------+----------+----------+\n",
            "|AD_PRES|           President|     20080|     40000|\n",
            "|  AD_VP|Administration Vi...|     15000|     30000|\n",
            "| SA_MAN|       Sales Manager|     10000|     20080|\n",
            "| AC_MGR|  Accounting Manager|      8200|     16000|\n",
            "| FI_MGR|     Finance Manager|      8200|     16000|\n",
            "+-------+--------------------+----------+----------+\n",
            "only showing top 5 rows\n",
            "\n"
          ],
          "name": "stdout"
        }
      ]
    },
    {
      "cell_type": "markdown",
      "metadata": {
        "id": "JfBpDVYwkM7K"
      },
      "source": [
        "Сколько всего регионов? Сколько работников в каждом регионе?"
      ]
    },
    {
      "cell_type": "code",
      "metadata": {
        "id": "w2d2AiBknYSo"
      },
      "source": [
        "# код\r\n",
        "skl = spark.sql(\"\"\"\r\n",
        "SELECT * FROM regions\r\n",
        "\"\"\") "
      ],
      "execution_count": null,
      "outputs": []
    },
    {
      "cell_type": "code",
      "metadata": {
        "colab": {
          "base_uri": "https://localhost:8080/"
        },
        "id": "HRnDsZci3i75",
        "outputId": "46a58a45-0b00-4187-d5b8-82bd5bc5d2db"
      },
      "source": [
        "skl.show()#4 региона"
      ],
      "execution_count": null,
      "outputs": [
        {
          "output_type": "stream",
          "text": [
            "+---------+--------------------+\n",
            "|REGION_ID|         REGION_NAME|\n",
            "+---------+--------------------+\n",
            "|        1|              Europe|\n",
            "|        2|            Americas|\n",
            "|        3|                Asia|\n",
            "|        4|Middle East and A...|\n",
            "+---------+--------------------+\n",
            "\n"
          ],
          "name": "stdout"
        }
      ]
    },
    {
      "cell_type": "code",
      "metadata": {
        "id": "LudCPS6-3vp_"
      },
      "source": [
        "locater = ss.read.csv(\"data/locations.csv\", sep='\\t', encoding=\"ascii\", header=\"True\").createOrReplaceTempView(\"locations\")"
      ],
      "execution_count": null,
      "outputs": []
    },
    {
      "cell_type": "code",
      "metadata": {
        "id": "OkpDKcSv4WQp"
      },
      "source": [
        "country = ss.read.csv(\"data/country.csv\", sep='\\t', encoding=\"ascii\", header=\"True\").createOrReplaceTempView(\"country\")"
      ],
      "execution_count": null,
      "outputs": []
    },
    {
      "cell_type": "code",
      "metadata": {
        "id": "0bXcR0UQ4xQJ"
      },
      "source": [
        "depart = ss.read.csv(\"data/departments.csv\", sep='\\t', encoding=\"ascii\", header=\"True\").createOrReplaceTempView(\"departments\")"
      ],
      "execution_count": null,
      "outputs": []
    },
    {
      "cell_type": "code",
      "metadata": {
        "id": "7FvGPGPP5Ukh"
      },
      "source": [
        "empoy = ss.read.csv(\"data/employees.csv\", sep='\\t', encoding=\"ascii\", header=\"True\").createOrReplaceTempView(\"employees\")"
      ],
      "execution_count": null,
      "outputs": []
    },
    {
      "cell_type": "code",
      "metadata": {
        "id": "ePBbp6sI5skV"
      },
      "source": [
        "jo = ss.read.csv(\"data/job_history.csv\", sep='\\t', encoding=\"ascii\", header=\"True\").createOrReplaceTempView(\"job_history\")"
      ],
      "execution_count": null,
      "outputs": []
    },
    {
      "cell_type": "code",
      "metadata": {
        "colab": {
          "base_uri": "https://localhost:8080/"
        },
        "id": "0yZWlK264d_B",
        "outputId": "b2f92c66-9b1b-43dd-81bc-a09556f17a85"
      },
      "source": [
        "spark.sql(\"\"\"\r\n",
        "SELECT * FROM country\r\n",
        "\"\"\").show()"
      ],
      "execution_count": null,
      "outputs": [
        {
          "output_type": "stream",
          "text": [
            "+----------+------------+---------+\n",
            "|COUNTRY_ID|COUNTRY_NAME|REGION_ID|\n",
            "+----------+------------+---------+\n",
            "|        AR|   Argentina|        2|\n",
            "|        AU|   Australia|        3|\n",
            "|        BE|     Belgium|        1|\n",
            "|        BR|      Brazil|        2|\n",
            "|        CA|      Canada|        2|\n",
            "|        CH| Switzerland|        1|\n",
            "|        CN|       China|        3|\n",
            "|        DE|     Germany|        1|\n",
            "|        DK|     Denmark|        1|\n",
            "|        EG|       Egypt|        4|\n",
            "|        FR|      France|        1|\n",
            "|        IL|      Israel|        4|\n",
            "|        IN|       India|        3|\n",
            "|        IT|       Italy|        1|\n",
            "|        JP|       Japan|        3|\n",
            "|        KW|      Kuwait|        4|\n",
            "|        ML|    Malaysia|        3|\n",
            "|        MX|      Mexico|        2|\n",
            "|        NG|     Nigeria|        4|\n",
            "|        NL| Netherlands|        1|\n",
            "+----------+------------+---------+\n",
            "only showing top 20 rows\n",
            "\n"
          ],
          "name": "stdout"
        }
      ]
    },
    {
      "cell_type": "code",
      "metadata": {
        "colab": {
          "base_uri": "https://localhost:8080/"
        },
        "id": "VopMUZlY4NTR",
        "outputId": "1114ed99-3304-4e6c-a2e5-951cf4870758"
      },
      "source": [
        "spark.sql(\"\"\"\r\n",
        "SELECT * FROM locations\r\n",
        "\"\"\").show(2)"
      ],
      "execution_count": null,
      "outputs": [
        {
          "output_type": "stream",
          "text": [
            "+-----------+--------------------+-----------+------+--------------+----------+\n",
            "|LOCATION_ID|      STREET_ADDRESS|POSTAL_CODE|  CITY|STATE_PROVINCE|COUNTRY_ID|\n",
            "+-----------+--------------------+-----------+------+--------------+----------+\n",
            "|       1000|1297 Via Cola di Rie|      00989|  Roma|          null|        IT|\n",
            "|       1100|93091 Calle della...|      10934|Venice|          null|        IT|\n",
            "+-----------+--------------------+-----------+------+--------------+----------+\n",
            "only showing top 2 rows\n",
            "\n"
          ],
          "name": "stdout"
        }
      ]
    },
    {
      "cell_type": "code",
      "metadata": {
        "colab": {
          "base_uri": "https://localhost:8080/"
        },
        "id": "EKN4s0vZ4462",
        "outputId": "4c42a0f6-1353-4401-ca82-c70a451334cb"
      },
      "source": [
        "spark.sql(\"\"\"\r\n",
        "SELECT * FROM departments\r\n",
        "\"\"\").show(2)"
      ],
      "execution_count": null,
      "outputs": [
        {
          "output_type": "stream",
          "text": [
            "+-------------+---------------+----------+-----------+\n",
            "|DEPARTMENT_ID|DEPARTMENT_NAME|MANAGER_ID|LOCATION_ID|\n",
            "+-------------+---------------+----------+-----------+\n",
            "|           10| Administration|       200|       1700|\n",
            "|           20|      Marketing|       201|       1800|\n",
            "+-------------+---------------+----------+-----------+\n",
            "only showing top 2 rows\n",
            "\n"
          ],
          "name": "stdout"
        }
      ]
    },
    {
      "cell_type": "code",
      "metadata": {
        "colab": {
          "base_uri": "https://localhost:8080/"
        },
        "id": "smgKdnaK5gj7",
        "outputId": "777b9349-0556-4103-e355-641b4b6fd35f"
      },
      "source": [
        "spark.sql(\"\"\"\r\n",
        "SELECT * FROM employees\r\n",
        "\"\"\").show(2)"
      ],
      "execution_count": null,
      "outputs": [
        {
          "output_type": "stream",
          "text": [
            "+-----------+----------+---------+--------+------------+---------+-------+------+--------------+----------+-------------+\n",
            "|EMPLOYEE_ID|FIRST_NAME|LAST_NAME|   EMAIL|PHONE_NUMBER|HIRE_DATE| JOB_ID|SALARY|COMMISSION_PCT|MANAGER_ID|DEPARTMENT_ID|\n",
            "+-----------+----------+---------+--------+------------+---------+-------+------+--------------+----------+-------------+\n",
            "|        100|    Steven|     King|   SKING|515.123.4567| 17.06.03|AD_PRES| 24000|          null|      null|           90|\n",
            "|        101|     Neena|  Kochhar|NKOCHHAR|515.123.4568| 21.09.05|  AD_VP| 17000|          null|       100|           90|\n",
            "+-----------+----------+---------+--------+------------+---------+-------+------+--------------+----------+-------------+\n",
            "only showing top 2 rows\n",
            "\n"
          ],
          "name": "stdout"
        }
      ]
    },
    {
      "cell_type": "code",
      "metadata": {
        "colab": {
          "base_uri": "https://localhost:8080/"
        },
        "id": "4xeI7pcy-tRa",
        "outputId": "b2271aa2-509e-4ce9-d176-e453f255472f"
      },
      "source": [
        "skl_ = spark.sql(\"\"\"\r\n",
        "SELECT count(EMPLOYEE_ID), REGION_ID FROM employees\r\n",
        "  RIGHT JOIN departments ON employees.DEPARTMENT_ID = departments.DEPARTMENT_ID\r\n",
        "    RIGHT JOIN locations ON locations.LOCATION_ID = departments.LOCATION_ID\r\n",
        "      RIGHT JOIN country ON country.COUNTRY_ID = locations.COUNTRY_ID\r\n",
        "        GROUP BY REGION_ID\r\n",
        "          ORDER BY REGION_ID\r\n",
        "\"\"\").show()"
      ],
      "execution_count": null,
      "outputs": [
        {
          "output_type": "stream",
          "text": [
            "+------------------+---------+\n",
            "|count(EMPLOYEE_ID)|REGION_ID|\n",
            "+------------------+---------+\n",
            "|                36|        1|\n",
            "|                70|        2|\n",
            "|                 0|        3|\n",
            "|                 0|        4|\n",
            "+------------------+---------+\n",
            "\n"
          ],
          "name": "stdout"
        }
      ]
    },
    {
      "cell_type": "code",
      "metadata": {
        "colab": {
          "base_uri": "https://localhost:8080/"
        },
        "id": "c1cFtc91A6Nx",
        "outputId": "0dce42b9-3e8c-45b6-8eec-18575dca5a26"
      },
      "source": [
        "spark.sql(\"\"\"\r\n",
        "SELECT * FROM jobs\r\n",
        "\"\"\") .show(2)"
      ],
      "execution_count": null,
      "outputs": [
        {
          "output_type": "stream",
          "text": [
            "+-------+--------------------+----------+----------+\n",
            "| JOB_ID|           JOB_TITLE|MIN_SALARY|MAX_SALARY|\n",
            "+-------+--------------------+----------+----------+\n",
            "|AD_PRES|           President|     20080|     40000|\n",
            "|  AD_VP|Administration Vi...|     15000|     30000|\n",
            "+-------+--------------------+----------+----------+\n",
            "only showing top 2 rows\n",
            "\n"
          ],
          "name": "stdout"
        }
      ]
    },
    {
      "cell_type": "markdown",
      "metadata": {
        "id": "OOY2unJ8kNXz"
      },
      "source": [
        "Выведете всех работников из Китая."
      ]
    },
    {
      "cell_type": "code",
      "metadata": {
        "id": "5Lhj9GAwnZgK",
        "colab": {
          "base_uri": "https://localhost:8080/"
        },
        "outputId": "bff674ec-58a4-4713-b833-bbfb7866b42f"
      },
      "source": [
        "# код\r\n",
        "spark.sql(\"\"\"\r\n",
        "SELECT * FROM employees\r\n",
        "  FULL JOIN departments ON employees.DEPARTMENT_ID = departments.DEPARTMENT_ID\r\n",
        "    FULL JOIN locations ON locations.LOCATION_ID = departments.LOCATION_ID\r\n",
        "      FULL JOIN country ON country.COUNTRY_ID = locations.COUNTRY_ID\r\n",
        "        WHERE locations.COUNTRY_ID = 'CN'\r\n",
        "\"\"\").show()\r\n",
        "\r\n",
        "#WHERE locations.COUNTRY_ID = 'CN'\r\n",
        "#         ORDER BY locations.COUNTRY_ID"
      ],
      "execution_count": null,
      "outputs": [
        {
          "output_type": "stream",
          "text": [
            "+-----------+----------+---------+-----+------------+---------+------+------+--------------+----------+-------------+-------------+---------------+----------+-----------+-----------+-------------------+-----------+-------+--------------+----------+----------+------------+---------+\n",
            "|EMPLOYEE_ID|FIRST_NAME|LAST_NAME|EMAIL|PHONE_NUMBER|HIRE_DATE|JOB_ID|SALARY|COMMISSION_PCT|MANAGER_ID|DEPARTMENT_ID|DEPARTMENT_ID|DEPARTMENT_NAME|MANAGER_ID|LOCATION_ID|LOCATION_ID|     STREET_ADDRESS|POSTAL_CODE|   CITY|STATE_PROVINCE|COUNTRY_ID|COUNTRY_ID|COUNTRY_NAME|REGION_ID|\n",
            "+-----------+----------+---------+-----+------------+---------+------+------+--------------+----------+-------------+-------------+---------------+----------+-----------+-----------+-------------------+-----------+-------+--------------+----------+----------+------------+---------+\n",
            "|       null|      null|     null| null|        null|     null|  null|  null|          null|      null|         null|         null|           null|      null|       null|       2000|40-5-12 Laogianggen|     190518|Beijing|          null|        CN|        CN|       China|        3|\n",
            "+-----------+----------+---------+-----+------------+---------+------+------+--------------+----------+-------------+-------------+---------------+----------+-----------+-----------+-------------------+-----------+-------+--------------+----------+----------+------------+---------+\n",
            "\n"
          ],
          "name": "stdout"
        }
      ]
    },
    {
      "cell_type": "markdown",
      "metadata": {
        "id": "s1Nc8F-6kNR7"
      },
      "source": [
        "Укажите самую высокооплачиваемою должность."
      ]
    },
    {
      "cell_type": "code",
      "metadata": {
        "id": "-ZNAohM-naSr"
      },
      "source": [
        "# код\r\n",
        "full_table = spark.sql(\"\"\"\r\n",
        "SELECT * FROM jobs\r\n",
        "  INNER JOIN employees ON employees.JOB_ID = jobs.JOB_ID\r\n",
        "    INNER JOIN departments ON employees.DEPARTMENT_ID = departments.DEPARTMENT_ID\r\n",
        "      INNER JOIN locations ON locations.LOCATION_ID = departments.LOCATION_ID\r\n",
        "        INNER JOIN country ON country.COUNTRY_ID = locations.COUNTRY_ID\r\n",
        "          ORDER BY SALARY \r\n",
        "\"\"\")"
      ],
      "execution_count": null,
      "outputs": []
    },
    {
      "cell_type": "code",
      "metadata": {
        "colab": {
          "base_uri": "https://localhost:8080/"
        },
        "id": "dbR4qHXbKq2j",
        "outputId": "bc7ba5ab-ee71-4b37-96ee-984c40417eb5"
      },
      "source": [
        "full_table.show()"
      ],
      "execution_count": null,
      "outputs": [
        {
          "output_type": "stream",
          "text": [
            "+--------+--------------------+----------+----------+-----------+----------+---------+--------+------------------+---------+--------+------+--------------+----------+-------------+-------------+----------------+----------+-----------+-----------+--------------------+-----------+-------------------+--------------+----------+----------+--------------------+---------+\n",
            "|  JOB_ID|           JOB_TITLE|MIN_SALARY|MAX_SALARY|EMPLOYEE_ID|FIRST_NAME|LAST_NAME|   EMAIL|      PHONE_NUMBER|HIRE_DATE|  JOB_ID|SALARY|COMMISSION_PCT|MANAGER_ID|DEPARTMENT_ID|DEPARTMENT_ID| DEPARTMENT_NAME|MANAGER_ID|LOCATION_ID|LOCATION_ID|      STREET_ADDRESS|POSTAL_CODE|               CITY|STATE_PROVINCE|COUNTRY_ID|COUNTRY_ID|        COUNTRY_NAME|REGION_ID|\n",
            "+--------+--------------------+----------+----------+-----------+----------+---------+--------+------------------+---------+--------+------+--------------+----------+-------------+-------------+----------------+----------+-----------+-----------+--------------------+-----------+-------------------+--------------+----------+----------+--------------------+---------+\n",
            "|  SA_REP|Sales Representative|      6000|     12008|        169|  Harrison|    Bloom|  HBLOOM|011.44.1343.829268| 23.03.06|  SA_REP| 10000|           0,2|       148|           80|           80|           Sales|       145|       2500|       2500|Magdalen Centre, ...|    OX9 9ZB|             Oxford|        Oxford|        UK|        UK|      United Kingdom|        1|\n",
            "|  PR_REP|Public Relations ...|      4500|     10500|        204|   Hermann|     Baer|   HBAER|      515.123.8888| 07.06.02|  PR_REP| 10000|          null|       101|           70|           70|Public Relations|       204|       2700|       2700|Schwanthalerstr. ...|      80925|             Munich|       Bavaria|        DE|        DE|             Germany|        1|\n",
            "|  SA_REP|Sales Representative|      6000|     12008|        150|     Peter|   Tucker| PTUCKER|011.44.1344.129268| 30.01.05|  SA_REP| 10000|           0,3|       145|           80|           80|           Sales|       145|       2500|       2500|Magdalen Centre, ...|    OX9 9ZB|             Oxford|        Oxford|        UK|        UK|      United Kingdom|        1|\n",
            "|  SA_REP|Sales Representative|      6000|     12008|        156|   Janette|     King|   JKING|011.44.1345.429268| 30.01.04|  SA_REP| 10000|          0,35|       146|           80|           80|           Sales|       145|       2500|       2500|Magdalen Centre, ...|    OX9 9ZB|             Oxford|        Oxford|        UK|        UK|      United Kingdom|        1|\n",
            "|  SA_MAN|       Sales Manager|     10000|     20080|        149|     Eleni|  Zlotkey|EZLOTKEY|011.44.1344.429018| 29.01.08|  SA_MAN| 10500|           0,2|       100|           80|           80|           Sales|       145|       2500|       2500|Magdalen Centre, ...|    OX9 9ZB|             Oxford|        Oxford|        UK|        UK|      United Kingdom|        1|\n",
            "|  SA_REP|Sales Representative|      6000|     12008|        162|     Clara|  Vishney|CVISHNEY|011.44.1346.129268| 11.11.05|  SA_REP| 10500|          0,25|       147|           80|           80|           Sales|       145|       2500|       2500|Magdalen Centre, ...|    OX9 9ZB|             Oxford|        Oxford|        UK|        UK|      United Kingdom|        1|\n",
            "|  SA_MAN|       Sales Manager|     10000|     20080|        148|    Gerald|Cambrault|GCAMBRAU|011.44.1344.619268| 15.10.07|  SA_MAN| 11000|           0,3|       100|           80|           80|           Sales|       145|       2500|       2500|Magdalen Centre, ...|    OX9 9ZB|             Oxford|        Oxford|        UK|        UK|      United Kingdom|        1|\n",
            "|  SA_REP|Sales Representative|      6000|     12008|        174|     Ellen|     Abel|   EABEL|011.44.1644.429267| 11.05.04|  SA_REP| 11000|           0,3|       149|           80|           80|           Sales|       145|       2500|       2500|Magdalen Centre, ...|    OX9 9ZB|             Oxford|        Oxford|        UK|        UK|      United Kingdom|        1|\n",
            "|  PU_MAN|  Purchasing Manager|      8000|     15000|        114|       Den| Raphaely|DRAPHEAL|      515.127.4561| 07.12.02|  PU_MAN| 11000|          null|       100|           30|           30|      Purchasing|       114|       1700|       1700|     2004 Charade Rd|      98199|            Seattle|    Washington|        US|        US|United States of ...|        2|\n",
            "|  SA_REP|Sales Representative|      6000|     12008|        168|      Lisa|     Ozer|   LOZER|011.44.1343.929268| 11.03.05|  SA_REP| 11500|          0,25|       148|           80|           80|           Sales|       145|       2500|       2500|Magdalen Centre, ...|    OX9 9ZB|             Oxford|        Oxford|        UK|        UK|      United Kingdom|        1|\n",
            "|  SA_MAN|       Sales Manager|     10000|     20080|        147|   Alberto|Errazuriz|AERRAZUR|011.44.1344.429278| 10.03.05|  SA_MAN| 12000|           0,3|       100|           80|           80|           Sales|       145|       2500|       2500|Magdalen Centre, ...|    OX9 9ZB|             Oxford|        Oxford|        UK|        UK|      United Kingdom|        1|\n",
            "|  FI_MGR|     Finance Manager|      8200|     16000|        108|     Nancy|Greenberg|NGREENBE|      515.124.4569| 17.08.02|  FI_MGR| 12008|          null|       101|          100|          100|         Finance|       108|       1700|       1700|     2004 Charade Rd|      98199|            Seattle|    Washington|        US|        US|United States of ...|        2|\n",
            "|  AC_MGR|  Accounting Manager|      8200|     16000|        205|   Shelley|  Higgins|SHIGGINS|      515.123.8080| 07.06.02|  AC_MGR| 12008|          null|       101|          110|          110|      Accounting|       205|       1700|       1700|     2004 Charade Rd|      98199|            Seattle|    Washington|        US|        US|United States of ...|        2|\n",
            "|  MK_MAN|   Marketing Manager|      9000|     15000|        201|   Michael|Hartstein|MHARTSTE|      515.123.5555| 17.02.04|  MK_MAN| 13000|          null|       100|           20|           20|       Marketing|       201|       1800|       1800|     147 Spadina Ave|    M5V 2L7|            Toronto|       Ontario|        CA|        CA|              Canada|        2|\n",
            "|  SA_MAN|       Sales Manager|     10000|     20080|        146|     Karen| Partners|KPARTNER|011.44.1344.467268| 05.01.05|  SA_MAN| 13500|           0,3|       100|           80|           80|           Sales|       145|       2500|       2500|Magdalen Centre, ...|    OX9 9ZB|             Oxford|        Oxford|        UK|        UK|      United Kingdom|        1|\n",
            "|  SA_MAN|       Sales Manager|     10000|     20080|        145|      John|  Russell| JRUSSEL|011.44.1344.429268| 01.10.04|  SA_MAN| 14000|           0,4|       100|           80|           80|           Sales|       145|       2500|       2500|Magdalen Centre, ...|    OX9 9ZB|             Oxford|        Oxford|        UK|        UK|      United Kingdom|        1|\n",
            "|   AD_VP|Administration Vi...|     15000|     30000|        102|       Lex|  De Haan| LDEHAAN|      515.123.4569| 13.01.01|   AD_VP| 17000|          null|       100|           90|           90|       Executive|       100|       1700|       1700|     2004 Charade Rd|      98199|            Seattle|    Washington|        US|        US|United States of ...|        2|\n",
            "|   AD_VP|Administration Vi...|     15000|     30000|        101|     Neena|  Kochhar|NKOCHHAR|      515.123.4568| 21.09.05|   AD_VP| 17000|          null|       100|           90|           90|       Executive|       100|       1700|       1700|     2004 Charade Rd|      98199|            Seattle|    Washington|        US|        US|United States of ...|        2|\n",
            "|ST_CLERK|         Stock Clerk|      2008|      5000|        132|        TJ|    Olson| TJOLSON|      650.124.8234| 10.04.07|ST_CLERK|  2100|          null|       121|           50|           50|        Shipping|       121|       1500|       1500| 2011 Interiors Blvd|      99236|South San Francisco|    California|        US|        US|United States of ...|        2|\n",
            "|ST_CLERK|         Stock Clerk|      2008|      5000|        128|    Steven|   Markle| SMARKLE|      650.124.1434| 08.03.08|ST_CLERK|  2200|          null|       120|           50|           50|        Shipping|       121|       1500|       1500| 2011 Interiors Blvd|      99236|South San Francisco|    California|        US|        US|United States of ...|        2|\n",
            "+--------+--------------------+----------+----------+-----------+----------+---------+--------+------------------+---------+--------+------+--------------+----------+-------------+-------------+----------------+----------+-----------+-----------+--------------------+-----------+-------------------+--------------+----------+----------+--------------------+---------+\n",
            "only showing top 20 rows\n",
            "\n"
          ],
          "name": "stdout"
        }
      ]
    },
    {
      "cell_type": "code",
      "metadata": {
        "id": "z-7JgO56KtO3"
      },
      "source": [
        "jobs_3 = full_table.withColumn(\"SALARY_\", full_table.SALARY.cast(IntegerType()))\\\r\n",
        ".drop(\"SALARY\")\\\r\n",
        ".withColumnRenamed(\"SALARY_\", \"SALARY\")"
      ],
      "execution_count": null,
      "outputs": []
    },
    {
      "cell_type": "code",
      "metadata": {
        "colab": {
          "base_uri": "https://localhost:8080/"
        },
        "id": "MopEpyzyK-UC",
        "outputId": "8ad44550-50f6-451e-b42a-6a00aa764a2f"
      },
      "source": [
        "jobs_3.select('JOB_TITLE', 'SALARY').sort(col('SALARY').desc()).show(1)"
      ],
      "execution_count": null,
      "outputs": [
        {
          "output_type": "stream",
          "text": [
            "+---------+------+\n",
            "|JOB_TITLE|SALARY|\n",
            "+---------+------+\n",
            "|President| 24000|\n",
            "+---------+------+\n",
            "only showing top 1 row\n",
            "\n"
          ],
          "name": "stdout"
        }
      ]
    },
    {
      "cell_type": "markdown",
      "metadata": {
        "id": "dzenJwUnkNL8"
      },
      "source": [
        "Выведете всех работников связанных с ИТ. Выведете их менеджеров. "
      ]
    },
    {
      "cell_type": "code",
      "metadata": {
        "id": "eogYiLjXna3h",
        "colab": {
          "base_uri": "https://localhost:8080/"
        },
        "outputId": "bfad8e4f-08ae-4523-aed8-791c9f572623"
      },
      "source": [
        "# код не совсем понял, как определить связанных с IT\r\n",
        "spark.sql(\"\"\"\r\n",
        "SELECT * FROM departments\r\n",
        "WHERE DEPARTMENT_NAME = 'IT'\r\n",
        "\"\"\").show()"
      ],
      "execution_count": null,
      "outputs": [
        {
          "output_type": "stream",
          "text": [
            "+-------------+---------------+----------+-----------+\n",
            "|DEPARTMENT_ID|DEPARTMENT_NAME|MANAGER_ID|LOCATION_ID|\n",
            "+-------------+---------------+----------+-----------+\n",
            "|           60|             IT|       103|       1400|\n",
            "+-------------+---------------+----------+-----------+\n",
            "\n"
          ],
          "name": "stdout"
        }
      ]
    },
    {
      "cell_type": "code",
      "metadata": {
        "colab": {
          "base_uri": "https://localhost:8080/"
        },
        "id": "L8H3mTGRx7-c",
        "outputId": "354acc9e-6c8c-4b68-9580-f04c3e5d81f5"
      },
      "source": [
        "spark.sql(\"\"\"\r\n",
        "SELECT FIRST_NAME, LAST_NAME, employees.MANAGER_ID FROM employees\r\n",
        "  INNER JOIN departments ON employees.DEPARTMENT_ID = departments.DEPARTMENT_ID\r\n",
        "    WHERE DEPARTMENT_NAME = 'IT'\r\n",
        "\"\"\").show()"
      ],
      "execution_count": null,
      "outputs": [
        {
          "output_type": "stream",
          "text": [
            "+----------+---------+----------+\n",
            "|FIRST_NAME|LAST_NAME|MANAGER_ID|\n",
            "+----------+---------+----------+\n",
            "| Alexander|   Hunold|       102|\n",
            "|     Bruce|    Ernst|       103|\n",
            "|     David|   Austin|       103|\n",
            "|     Valli|Pataballa|       103|\n",
            "|     Diana|  Lorentz|       103|\n",
            "+----------+---------+----------+\n",
            "\n"
          ],
          "name": "stdout"
        }
      ]
    },
    {
      "cell_type": "markdown",
      "metadata": {
        "id": "tvpCoeYPmLTW"
      },
      "source": [
        "Выведете имя и фамилию работника, его текущую и предыдущую должности и сколько полных недель и дней прошло с момент изменения.\n"
      ]
    },
    {
      "cell_type": "code",
      "metadata": {
        "id": "SkCvyzkVnbo6"
      },
      "source": [
        "# код\r\n",
        "table_name = spark.sql(\"\"\"\r\n",
        "SELECT FIRST_NAME, LAST_NAME, employees.JOB_ID as JOB_ID_NOW, job_history.JOB_ID, START_DATE, END_DATE, HIRE_DATE FROM job_history\r\n",
        "    RIGHT JOIN employees ON employees.EMPLOYEE_ID = job_history.EMPLOYEE_ID \r\n",
        "\"\"\")"
      ],
      "execution_count": null,
      "outputs": []
    },
    {
      "cell_type": "code",
      "metadata": {
        "colab": {
          "base_uri": "https://localhost:8080/"
        },
        "id": "dxBS-TQzg_dk",
        "outputId": "6f102e8e-5d3a-4992-e583-1b22d5b80140"
      },
      "source": [
        "table_name.show()"
      ],
      "execution_count": null,
      "outputs": [
        {
          "output_type": "stream",
          "text": [
            "+-----------+---------+----------+----------+----------+--------+---------+\n",
            "| FIRST_NAME|LAST_NAME|JOB_ID_NOW|    JOB_ID|START_DATE|END_DATE|HIRE_DATE|\n",
            "+-----------+---------+----------+----------+----------+--------+---------+\n",
            "|     Steven|     King|   AD_PRES|      null|      null|    null| 17.06.03|\n",
            "|      Neena|  Kochhar|     AD_VP|    AC_MGR|  28.10.01|15.03.05| 21.09.05|\n",
            "|      Neena|  Kochhar|     AD_VP|AC_ACCOUNT|  21.09.97|27.10.01| 21.09.05|\n",
            "|        Lex|  De Haan|     AD_VP|   IT_PROG|  13.01.01|24.07.06| 13.01.01|\n",
            "|  Alexander|   Hunold|   IT_PROG|      null|      null|    null| 03.01.06|\n",
            "|      Bruce|    Ernst|   IT_PROG|      null|      null|    null| 21.05.07|\n",
            "|      David|   Austin|   IT_PROG|      null|      null|    null| 25.06.05|\n",
            "|      Valli|Pataballa|   IT_PROG|      null|      null|    null| 05.02.06|\n",
            "|      Diana|  Lorentz|   IT_PROG|      null|      null|    null| 07.02.07|\n",
            "|      Nancy|Greenberg|    FI_MGR|      null|      null|    null| 17.08.02|\n",
            "|     Daniel|   Faviet|FI_ACCOUNT|      null|      null|    null| 16.08.02|\n",
            "|       John|     Chen|FI_ACCOUNT|      null|      null|    null| 28.09.05|\n",
            "|     Ismael|  Sciarra|FI_ACCOUNT|      null|      null|    null| 30.09.05|\n",
            "|Jose Manuel|    Urman|FI_ACCOUNT|      null|      null|    null| 07.03.06|\n",
            "|       Luis|     Popp|FI_ACCOUNT|      null|      null|    null| 07.12.07|\n",
            "|        Den| Raphaely|    PU_MAN|  ST_CLERK|  24.03.06|31.12.07| 07.12.02|\n",
            "|  Alexander|     Khoo|  PU_CLERK|      null|      null|    null| 18.05.03|\n",
            "|     Shelli|    Baida|  PU_CLERK|      null|      null|    null| 24.12.05|\n",
            "|      Sigal|   Tobias|  PU_CLERK|      null|      null|    null| 24.07.05|\n",
            "|        Guy|   Himuro|  PU_CLERK|      null|      null|    null| 15.11.06|\n",
            "+-----------+---------+----------+----------+----------+--------+---------+\n",
            "only showing top 20 rows\n",
            "\n"
          ],
          "name": "stdout"
        }
      ]
    },
    {
      "cell_type": "code",
      "metadata": {
        "colab": {
          "base_uri": "https://localhost:8080/"
        },
        "id": "ZKqaQbIaD-V9",
        "outputId": "ee113f77-8649-4144-e8e5-0988dae3035e"
      },
      "source": [
        "table_name.schema"
      ],
      "execution_count": null,
      "outputs": [
        {
          "output_type": "execute_result",
          "data": {
            "text/plain": [
              "StructType(List(StructField(FIRST_NAME,StringType,true),StructField(LAST_NAME,StringType,true),StructField(JOB_ID_NOW,StringType,true),StructField(JOB_ID,StringType,true),StructField(START_DATE,StringType,true),StructField(END_DATE,StringType,true),StructField(HIRE_DATE,StringType,true)))"
            ]
          },
          "metadata": {
            "tags": []
          },
          "execution_count": 130
        }
      ]
    },
    {
      "cell_type": "code",
      "metadata": {
        "id": "LlzmXzGxEitp"
      },
      "source": [
        "table_name = table_name.withColumn(\"START_DATE_\", table_name.START_DATE.cast(DateType()))\\\r\n",
        ".drop(\"START_DATE\")\\\r\n",
        ".withColumnRenamed(\"START_DATE_\", \"START_DATE\")"
      ],
      "execution_count": null,
      "outputs": []
    },
    {
      "cell_type": "code",
      "metadata": {
        "colab": {
          "base_uri": "https://localhost:8080/"
        },
        "id": "xq9M0hAcFdf5",
        "outputId": "9a6dc603-adfe-4424-a2de-e63d854e2bd7"
      },
      "source": [
        "table_name.show(4)#печальные nullsы"
      ],
      "execution_count": null,
      "outputs": [
        {
          "output_type": "stream",
          "text": [
            "+----------+---------+----------+----------+----------+--------+---------+\n",
            "|FIRST_NAME|LAST_NAME|JOB_ID_NOW|    JOB_ID|START_DATE|END_DATE|HIRE_DATE|\n",
            "+----------+---------+----------+----------+----------+--------+---------+\n",
            "|    Steven|     King|   AD_PRES|      null|      null|    null|     null|\n",
            "|     Neena|  Kochhar|     AD_VP|    AC_MGR|  28.10.01|15.03.05|     null|\n",
            "|     Neena|  Kochhar|     AD_VP|AC_ACCOUNT|  21.09.97|27.10.01|     null|\n",
            "|       Lex|  De Haan|     AD_VP|   IT_PROG|  13.01.01|24.07.06|     null|\n",
            "+----------+---------+----------+----------+----------+--------+---------+\n",
            "only showing top 4 rows\n",
            "\n"
          ],
          "name": "stdout"
        }
      ]
    },
    {
      "cell_type": "markdown",
      "metadata": {
        "id": "sOBhGAaanC0e"
      },
      "source": [
        "Выведете уникальные телефонные номера"
      ]
    },
    {
      "cell_type": "code",
      "metadata": {
        "colab": {
          "base_uri": "https://localhost:8080/"
        },
        "id": "RtT8w7tZXMw3",
        "outputId": "ea09b205-4506-4b94-845e-f6e80a51c515"
      },
      "source": [
        "spark.sql(\"\"\"\r\n",
        "SELECT DISTINCT PHONE_NUMBER FROM employees\r\n",
        "\"\"\").show(2)"
      ],
      "execution_count": null,
      "outputs": [
        {
          "output_type": "stream",
          "text": [
            "+------------------+\n",
            "|      PHONE_NUMBER|\n",
            "+------------------+\n",
            "|011.44.1344.429018|\n",
            "|      515.127.4566|\n",
            "+------------------+\n",
            "only showing top 2 rows\n",
            "\n"
          ],
          "name": "stdout"
        }
      ]
    },
    {
      "cell_type": "code",
      "metadata": {
        "id": "05BrXyrsncKf"
      },
      "source": [
        "# код\r\n",
        "phone_table = spark.sql(\"\"\"\r\n",
        "SELECT PHONE_NUMBER FROM employees\r\n",
        "\"\"\")"
      ],
      "execution_count": null,
      "outputs": []
    },
    {
      "cell_type": "code",
      "metadata": {
        "colab": {
          "base_uri": "https://localhost:8080/"
        },
        "id": "Y5dQlH1jQPeG",
        "outputId": "bddcbe5f-eeae-4abf-9ed1-ffc90907a59f"
      },
      "source": [
        "phone_table.select('*').distinct().drop_duplicates().show()"
      ],
      "execution_count": null,
      "outputs": [
        {
          "output_type": "stream",
          "text": [
            "+------------------+\n",
            "|      PHONE_NUMBER|\n",
            "+------------------+\n",
            "|011.44.1344.429018|\n",
            "|      515.127.4566|\n",
            "|      515.127.4564|\n",
            "|011.44.1344.429278|\n",
            "|      515.123.4569|\n",
            "|      650.124.1434|\n",
            "|      650.123.2234|\n",
            "|011.44.1344.498718|\n",
            "|      650.127.1634|\n",
            "|      515.127.4561|\n",
            "|011.44.1345.629268|\n",
            "|      515.127.4562|\n",
            "|011.44.1644.429264|\n",
            "|011.44.1644.429262|\n",
            "|      650.501.1876|\n",
            "|      650.127.1834|\n",
            "|011.44.1343.529268|\n",
            "|011.44.1644.429265|\n",
            "|      515.123.8181|\n",
            "|      650.507.9833|\n",
            "+------------------+\n",
            "only showing top 20 rows\n",
            "\n"
          ],
          "name": "stdout"
        }
      ]
    },
    {
      "cell_type": "markdown",
      "metadata": {
        "id": "qdf1VBv3nMR-"
      },
      "source": [
        "Есть ли сотрудники с одинаковыми фамилиями и сколько их."
      ]
    },
    {
      "cell_type": "code",
      "metadata": {
        "id": "apTLX1o6jy6K",
        "colab": {
          "base_uri": "https://localhost:8080/"
        },
        "outputId": "043f4f50-11f6-4731-e867-e72dc6d72a3f"
      },
      "source": [
        "# код\r\n",
        "spark.sql(\"\"\"\r\n",
        "SELECT LAST_NAME, count(LAST_NAME) FROM employees\r\n",
        "GROUP BY LAST_NAME HAVING count(LAST_NAME) > 1\r\n",
        "\"\"\").show()"
      ],
      "execution_count": null,
      "outputs": [
        {
          "output_type": "stream",
          "text": [
            "+---------+----------------+\n",
            "|LAST_NAME|count(LAST_NAME)|\n",
            "+---------+----------------+\n",
            "|    Smith|               2|\n",
            "|     King|               2|\n",
            "|Cambrault|               2|\n",
            "|   Taylor|               2|\n",
            "+---------+----------------+\n",
            "\n"
          ],
          "name": "stdout"
        }
      ]
    }
  ]
}