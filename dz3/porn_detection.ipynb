{
  "nbformat": 4,
  "nbformat_minor": 0,
  "metadata": {
    "colab": {
      "name": "dz3.ipynb",
      "provenance": [],
      "collapsed_sections": [],
      "toc_visible": true
    },
    "kernelspec": {
      "name": "python3",
      "display_name": "Python 3"
    },
    "widgets": {
      "application/vnd.jupyter.widget-state+json": {
        "a4c2b5ee2bff41549cf5abda63dc8691": {
          "model_module": "@jupyter-widgets/controls",
          "model_name": "HBoxModel",
          "state": {
            "_view_name": "HBoxView",
            "_dom_classes": [],
            "_model_name": "HBoxModel",
            "_view_module": "@jupyter-widgets/controls",
            "_model_module_version": "1.5.0",
            "_view_count": null,
            "_view_module_version": "1.5.0",
            "box_style": "",
            "layout": "IPY_MODEL_9db5f6e9f42d4880aef48deef4e9b7ef",
            "_model_module": "@jupyter-widgets/controls",
            "children": [
              "IPY_MODEL_beae93af1a214ccd8475009842b5f28b",
              "IPY_MODEL_b45fad0b81ec46089d3e9fd35217cfd4"
            ]
          }
        },
        "9db5f6e9f42d4880aef48deef4e9b7ef": {
          "model_module": "@jupyter-widgets/base",
          "model_name": "LayoutModel",
          "state": {
            "_view_name": "LayoutView",
            "grid_template_rows": null,
            "right": null,
            "justify_content": null,
            "_view_module": "@jupyter-widgets/base",
            "overflow": null,
            "_model_module_version": "1.2.0",
            "_view_count": null,
            "flex_flow": null,
            "width": null,
            "min_width": null,
            "border": null,
            "align_items": null,
            "bottom": null,
            "_model_module": "@jupyter-widgets/base",
            "top": null,
            "grid_column": null,
            "overflow_y": null,
            "overflow_x": null,
            "grid_auto_flow": null,
            "grid_area": null,
            "grid_template_columns": null,
            "flex": null,
            "_model_name": "LayoutModel",
            "justify_items": null,
            "grid_row": null,
            "max_height": null,
            "align_content": null,
            "visibility": null,
            "align_self": null,
            "height": null,
            "min_height": null,
            "padding": null,
            "grid_auto_rows": null,
            "grid_gap": null,
            "max_width": null,
            "order": null,
            "_view_module_version": "1.2.0",
            "grid_template_areas": null,
            "object_position": null,
            "object_fit": null,
            "grid_auto_columns": null,
            "margin": null,
            "display": null,
            "left": null
          }
        },
        "beae93af1a214ccd8475009842b5f28b": {
          "model_module": "@jupyter-widgets/controls",
          "model_name": "FloatProgressModel",
          "state": {
            "_view_name": "ProgressView",
            "style": "IPY_MODEL_3989598150b84c10b400862be3baeac0",
            "_dom_classes": [],
            "description": "100%",
            "_model_name": "FloatProgressModel",
            "bar_style": "success",
            "max": 135309,
            "_view_module": "@jupyter-widgets/controls",
            "_model_module_version": "1.5.0",
            "value": 135309,
            "_view_count": null,
            "_view_module_version": "1.5.0",
            "orientation": "horizontal",
            "min": 0,
            "description_tooltip": null,
            "_model_module": "@jupyter-widgets/controls",
            "layout": "IPY_MODEL_e0749b36347043ddbb2243ee9440dcd2"
          }
        },
        "b45fad0b81ec46089d3e9fd35217cfd4": {
          "model_module": "@jupyter-widgets/controls",
          "model_name": "HTMLModel",
          "state": {
            "_view_name": "HTMLView",
            "style": "IPY_MODEL_3eb0a5bfb31b4f3db47d95d863ccc682",
            "_dom_classes": [],
            "description": "",
            "_model_name": "HTMLModel",
            "placeholder": "​",
            "_view_module": "@jupyter-widgets/controls",
            "_model_module_version": "1.5.0",
            "value": " 135309/135309 [00:37&lt;00:00, 3567.42it/s]",
            "_view_count": null,
            "_view_module_version": "1.5.0",
            "description_tooltip": null,
            "_model_module": "@jupyter-widgets/controls",
            "layout": "IPY_MODEL_a87c647959514546924b9cd56df7477f"
          }
        },
        "3989598150b84c10b400862be3baeac0": {
          "model_module": "@jupyter-widgets/controls",
          "model_name": "ProgressStyleModel",
          "state": {
            "_view_name": "StyleView",
            "_model_name": "ProgressStyleModel",
            "description_width": "initial",
            "_view_module": "@jupyter-widgets/base",
            "_model_module_version": "1.5.0",
            "_view_count": null,
            "_view_module_version": "1.2.0",
            "bar_color": null,
            "_model_module": "@jupyter-widgets/controls"
          }
        },
        "e0749b36347043ddbb2243ee9440dcd2": {
          "model_module": "@jupyter-widgets/base",
          "model_name": "LayoutModel",
          "state": {
            "_view_name": "LayoutView",
            "grid_template_rows": null,
            "right": null,
            "justify_content": null,
            "_view_module": "@jupyter-widgets/base",
            "overflow": null,
            "_model_module_version": "1.2.0",
            "_view_count": null,
            "flex_flow": null,
            "width": null,
            "min_width": null,
            "border": null,
            "align_items": null,
            "bottom": null,
            "_model_module": "@jupyter-widgets/base",
            "top": null,
            "grid_column": null,
            "overflow_y": null,
            "overflow_x": null,
            "grid_auto_flow": null,
            "grid_area": null,
            "grid_template_columns": null,
            "flex": null,
            "_model_name": "LayoutModel",
            "justify_items": null,
            "grid_row": null,
            "max_height": null,
            "align_content": null,
            "visibility": null,
            "align_self": null,
            "height": null,
            "min_height": null,
            "padding": null,
            "grid_auto_rows": null,
            "grid_gap": null,
            "max_width": null,
            "order": null,
            "_view_module_version": "1.2.0",
            "grid_template_areas": null,
            "object_position": null,
            "object_fit": null,
            "grid_auto_columns": null,
            "margin": null,
            "display": null,
            "left": null
          }
        },
        "3eb0a5bfb31b4f3db47d95d863ccc682": {
          "model_module": "@jupyter-widgets/controls",
          "model_name": "DescriptionStyleModel",
          "state": {
            "_view_name": "StyleView",
            "_model_name": "DescriptionStyleModel",
            "description_width": "",
            "_view_module": "@jupyter-widgets/base",
            "_model_module_version": "1.5.0",
            "_view_count": null,
            "_view_module_version": "1.2.0",
            "_model_module": "@jupyter-widgets/controls"
          }
        },
        "a87c647959514546924b9cd56df7477f": {
          "model_module": "@jupyter-widgets/base",
          "model_name": "LayoutModel",
          "state": {
            "_view_name": "LayoutView",
            "grid_template_rows": null,
            "right": null,
            "justify_content": null,
            "_view_module": "@jupyter-widgets/base",
            "overflow": null,
            "_model_module_version": "1.2.0",
            "_view_count": null,
            "flex_flow": null,
            "width": null,
            "min_width": null,
            "border": null,
            "align_items": null,
            "bottom": null,
            "_model_module": "@jupyter-widgets/base",
            "top": null,
            "grid_column": null,
            "overflow_y": null,
            "overflow_x": null,
            "grid_auto_flow": null,
            "grid_area": null,
            "grid_template_columns": null,
            "flex": null,
            "_model_name": "LayoutModel",
            "justify_items": null,
            "grid_row": null,
            "max_height": null,
            "align_content": null,
            "visibility": null,
            "align_self": null,
            "height": null,
            "min_height": null,
            "padding": null,
            "grid_auto_rows": null,
            "grid_gap": null,
            "max_width": null,
            "order": null,
            "_view_module_version": "1.2.0",
            "grid_template_areas": null,
            "object_position": null,
            "object_fit": null,
            "grid_auto_columns": null,
            "margin": null,
            "display": null,
            "left": null
          }
        },
        "a5e526de5285468da83566c80bff4b0f": {
          "model_module": "@jupyter-widgets/controls",
          "model_name": "HBoxModel",
          "state": {
            "_view_name": "HBoxView",
            "_dom_classes": [],
            "_model_name": "HBoxModel",
            "_view_module": "@jupyter-widgets/controls",
            "_model_module_version": "1.5.0",
            "_view_count": null,
            "_view_module_version": "1.5.0",
            "box_style": "",
            "layout": "IPY_MODEL_6dd4f374b2a24b71adb1b0604d364b96",
            "_model_module": "@jupyter-widgets/controls",
            "children": [
              "IPY_MODEL_10a6128176ab4ee3b28f87344c37d26b",
              "IPY_MODEL_3d07c08f42484e74beee453e6d86af31"
            ]
          }
        },
        "6dd4f374b2a24b71adb1b0604d364b96": {
          "model_module": "@jupyter-widgets/base",
          "model_name": "LayoutModel",
          "state": {
            "_view_name": "LayoutView",
            "grid_template_rows": null,
            "right": null,
            "justify_content": null,
            "_view_module": "@jupyter-widgets/base",
            "overflow": null,
            "_model_module_version": "1.2.0",
            "_view_count": null,
            "flex_flow": null,
            "width": null,
            "min_width": null,
            "border": null,
            "align_items": null,
            "bottom": null,
            "_model_module": "@jupyter-widgets/base",
            "top": null,
            "grid_column": null,
            "overflow_y": null,
            "overflow_x": null,
            "grid_auto_flow": null,
            "grid_area": null,
            "grid_template_columns": null,
            "flex": null,
            "_model_name": "LayoutModel",
            "justify_items": null,
            "grid_row": null,
            "max_height": null,
            "align_content": null,
            "visibility": null,
            "align_self": null,
            "height": null,
            "min_height": null,
            "padding": null,
            "grid_auto_rows": null,
            "grid_gap": null,
            "max_width": null,
            "order": null,
            "_view_module_version": "1.2.0",
            "grid_template_areas": null,
            "object_position": null,
            "object_fit": null,
            "grid_auto_columns": null,
            "margin": null,
            "display": null,
            "left": null
          }
        },
        "10a6128176ab4ee3b28f87344c37d26b": {
          "model_module": "@jupyter-widgets/controls",
          "model_name": "FloatProgressModel",
          "state": {
            "_view_name": "ProgressView",
            "style": "IPY_MODEL_679cc2e6790b4bf88411d2322e793731",
            "_dom_classes": [],
            "description": "100%",
            "_model_name": "FloatProgressModel",
            "bar_style": "success",
            "max": 165378,
            "_view_module": "@jupyter-widgets/controls",
            "_model_module_version": "1.5.0",
            "value": 165378,
            "_view_count": null,
            "_view_module_version": "1.5.0",
            "orientation": "horizontal",
            "min": 0,
            "description_tooltip": null,
            "_model_module": "@jupyter-widgets/controls",
            "layout": "IPY_MODEL_cc531d320fec4a079e3a81a6bf4be6f1"
          }
        },
        "3d07c08f42484e74beee453e6d86af31": {
          "model_module": "@jupyter-widgets/controls",
          "model_name": "HTMLModel",
          "state": {
            "_view_name": "HTMLView",
            "style": "IPY_MODEL_df015b41daf340a2aac9a0f0582af570",
            "_dom_classes": [],
            "description": "",
            "_model_name": "HTMLModel",
            "placeholder": "​",
            "_view_module": "@jupyter-widgets/controls",
            "_model_module_version": "1.5.0",
            "value": " 165378/165378 [00:44&lt;00:00, 3746.91it/s]",
            "_view_count": null,
            "_view_module_version": "1.5.0",
            "description_tooltip": null,
            "_model_module": "@jupyter-widgets/controls",
            "layout": "IPY_MODEL_1d4666ab57de4f07a5b48f0e7a192f16"
          }
        },
        "679cc2e6790b4bf88411d2322e793731": {
          "model_module": "@jupyter-widgets/controls",
          "model_name": "ProgressStyleModel",
          "state": {
            "_view_name": "StyleView",
            "_model_name": "ProgressStyleModel",
            "description_width": "initial",
            "_view_module": "@jupyter-widgets/base",
            "_model_module_version": "1.5.0",
            "_view_count": null,
            "_view_module_version": "1.2.0",
            "bar_color": null,
            "_model_module": "@jupyter-widgets/controls"
          }
        },
        "cc531d320fec4a079e3a81a6bf4be6f1": {
          "model_module": "@jupyter-widgets/base",
          "model_name": "LayoutModel",
          "state": {
            "_view_name": "LayoutView",
            "grid_template_rows": null,
            "right": null,
            "justify_content": null,
            "_view_module": "@jupyter-widgets/base",
            "overflow": null,
            "_model_module_version": "1.2.0",
            "_view_count": null,
            "flex_flow": null,
            "width": null,
            "min_width": null,
            "border": null,
            "align_items": null,
            "bottom": null,
            "_model_module": "@jupyter-widgets/base",
            "top": null,
            "grid_column": null,
            "overflow_y": null,
            "overflow_x": null,
            "grid_auto_flow": null,
            "grid_area": null,
            "grid_template_columns": null,
            "flex": null,
            "_model_name": "LayoutModel",
            "justify_items": null,
            "grid_row": null,
            "max_height": null,
            "align_content": null,
            "visibility": null,
            "align_self": null,
            "height": null,
            "min_height": null,
            "padding": null,
            "grid_auto_rows": null,
            "grid_gap": null,
            "max_width": null,
            "order": null,
            "_view_module_version": "1.2.0",
            "grid_template_areas": null,
            "object_position": null,
            "object_fit": null,
            "grid_auto_columns": null,
            "margin": null,
            "display": null,
            "left": null
          }
        },
        "df015b41daf340a2aac9a0f0582af570": {
          "model_module": "@jupyter-widgets/controls",
          "model_name": "DescriptionStyleModel",
          "state": {
            "_view_name": "StyleView",
            "_model_name": "DescriptionStyleModel",
            "description_width": "",
            "_view_module": "@jupyter-widgets/base",
            "_model_module_version": "1.5.0",
            "_view_count": null,
            "_view_module_version": "1.2.0",
            "_model_module": "@jupyter-widgets/controls"
          }
        },
        "1d4666ab57de4f07a5b48f0e7a192f16": {
          "model_module": "@jupyter-widgets/base",
          "model_name": "LayoutModel",
          "state": {
            "_view_name": "LayoutView",
            "grid_template_rows": null,
            "right": null,
            "justify_content": null,
            "_view_module": "@jupyter-widgets/base",
            "overflow": null,
            "_model_module_version": "1.2.0",
            "_view_count": null,
            "flex_flow": null,
            "width": null,
            "min_width": null,
            "border": null,
            "align_items": null,
            "bottom": null,
            "_model_module": "@jupyter-widgets/base",
            "top": null,
            "grid_column": null,
            "overflow_y": null,
            "overflow_x": null,
            "grid_auto_flow": null,
            "grid_area": null,
            "grid_template_columns": null,
            "flex": null,
            "_model_name": "LayoutModel",
            "justify_items": null,
            "grid_row": null,
            "max_height": null,
            "align_content": null,
            "visibility": null,
            "align_self": null,
            "height": null,
            "min_height": null,
            "padding": null,
            "grid_auto_rows": null,
            "grid_gap": null,
            "max_width": null,
            "order": null,
            "_view_module_version": "1.2.0",
            "grid_template_areas": null,
            "object_position": null,
            "object_fit": null,
            "grid_auto_columns": null,
            "margin": null,
            "display": null,
            "left": null
          }
        },
        "df5b4aacbbff45ab8e1c046d4204a529": {
          "model_module": "@jupyter-widgets/controls",
          "model_name": "HBoxModel",
          "state": {
            "_view_name": "HBoxView",
            "_dom_classes": [],
            "_model_name": "HBoxModel",
            "_view_module": "@jupyter-widgets/controls",
            "_model_module_version": "1.5.0",
            "_view_count": null,
            "_view_module_version": "1.5.0",
            "box_style": "",
            "layout": "IPY_MODEL_e5e4cadcd94c4a8da07089dede297b29",
            "_model_module": "@jupyter-widgets/controls",
            "children": [
              "IPY_MODEL_fd3888009d4c4ce193bbaf498a954e03",
              "IPY_MODEL_21785eeaa2fa420784a419c88aeecbfe"
            ]
          }
        },
        "e5e4cadcd94c4a8da07089dede297b29": {
          "model_module": "@jupyter-widgets/base",
          "model_name": "LayoutModel",
          "state": {
            "_view_name": "LayoutView",
            "grid_template_rows": null,
            "right": null,
            "justify_content": null,
            "_view_module": "@jupyter-widgets/base",
            "overflow": null,
            "_model_module_version": "1.2.0",
            "_view_count": null,
            "flex_flow": null,
            "width": null,
            "min_width": null,
            "border": null,
            "align_items": null,
            "bottom": null,
            "_model_module": "@jupyter-widgets/base",
            "top": null,
            "grid_column": null,
            "overflow_y": null,
            "overflow_x": null,
            "grid_auto_flow": null,
            "grid_area": null,
            "grid_template_columns": null,
            "flex": null,
            "_model_name": "LayoutModel",
            "justify_items": null,
            "grid_row": null,
            "max_height": null,
            "align_content": null,
            "visibility": null,
            "align_self": null,
            "height": null,
            "min_height": null,
            "padding": null,
            "grid_auto_rows": null,
            "grid_gap": null,
            "max_width": null,
            "order": null,
            "_view_module_version": "1.2.0",
            "grid_template_areas": null,
            "object_position": null,
            "object_fit": null,
            "grid_auto_columns": null,
            "margin": null,
            "display": null,
            "left": null
          }
        },
        "fd3888009d4c4ce193bbaf498a954e03": {
          "model_module": "@jupyter-widgets/controls",
          "model_name": "FloatProgressModel",
          "state": {
            "_view_name": "ProgressView",
            "style": "IPY_MODEL_3fbd8b0ea4b44138a689bf539762c9f2",
            "_dom_classes": [],
            "description": "100%",
            "_model_name": "FloatProgressModel",
            "bar_style": "success",
            "max": 30,
            "_view_module": "@jupyter-widgets/controls",
            "_model_module_version": "1.5.0",
            "value": 30,
            "_view_count": null,
            "_view_module_version": "1.5.0",
            "orientation": "horizontal",
            "min": 0,
            "description_tooltip": null,
            "_model_module": "@jupyter-widgets/controls",
            "layout": "IPY_MODEL_2bbce5cfedff482b901cc16d7dd80115"
          }
        },
        "21785eeaa2fa420784a419c88aeecbfe": {
          "model_module": "@jupyter-widgets/controls",
          "model_name": "HTMLModel",
          "state": {
            "_view_name": "HTMLView",
            "style": "IPY_MODEL_addd3979257b4929bc5354497b186933",
            "_dom_classes": [],
            "description": "",
            "_model_name": "HTMLModel",
            "placeholder": "​",
            "_view_module": "@jupyter-widgets/controls",
            "_model_module_version": "1.5.0",
            "value": " 30/30 [44:36&lt;00:00, 89.20s/it]",
            "_view_count": null,
            "_view_module_version": "1.5.0",
            "description_tooltip": null,
            "_model_module": "@jupyter-widgets/controls",
            "layout": "IPY_MODEL_20cb594c9b124604a2c5738d196c0227"
          }
        },
        "3fbd8b0ea4b44138a689bf539762c9f2": {
          "model_module": "@jupyter-widgets/controls",
          "model_name": "ProgressStyleModel",
          "state": {
            "_view_name": "StyleView",
            "_model_name": "ProgressStyleModel",
            "description_width": "initial",
            "_view_module": "@jupyter-widgets/base",
            "_model_module_version": "1.5.0",
            "_view_count": null,
            "_view_module_version": "1.2.0",
            "bar_color": null,
            "_model_module": "@jupyter-widgets/controls"
          }
        },
        "2bbce5cfedff482b901cc16d7dd80115": {
          "model_module": "@jupyter-widgets/base",
          "model_name": "LayoutModel",
          "state": {
            "_view_name": "LayoutView",
            "grid_template_rows": null,
            "right": null,
            "justify_content": null,
            "_view_module": "@jupyter-widgets/base",
            "overflow": null,
            "_model_module_version": "1.2.0",
            "_view_count": null,
            "flex_flow": null,
            "width": null,
            "min_width": null,
            "border": null,
            "align_items": null,
            "bottom": null,
            "_model_module": "@jupyter-widgets/base",
            "top": null,
            "grid_column": null,
            "overflow_y": null,
            "overflow_x": null,
            "grid_auto_flow": null,
            "grid_area": null,
            "grid_template_columns": null,
            "flex": null,
            "_model_name": "LayoutModel",
            "justify_items": null,
            "grid_row": null,
            "max_height": null,
            "align_content": null,
            "visibility": null,
            "align_self": null,
            "height": null,
            "min_height": null,
            "padding": null,
            "grid_auto_rows": null,
            "grid_gap": null,
            "max_width": null,
            "order": null,
            "_view_module_version": "1.2.0",
            "grid_template_areas": null,
            "object_position": null,
            "object_fit": null,
            "grid_auto_columns": null,
            "margin": null,
            "display": null,
            "left": null
          }
        },
        "addd3979257b4929bc5354497b186933": {
          "model_module": "@jupyter-widgets/controls",
          "model_name": "DescriptionStyleModel",
          "state": {
            "_view_name": "StyleView",
            "_model_name": "DescriptionStyleModel",
            "description_width": "",
            "_view_module": "@jupyter-widgets/base",
            "_model_module_version": "1.5.0",
            "_view_count": null,
            "_view_module_version": "1.2.0",
            "_model_module": "@jupyter-widgets/controls"
          }
        },
        "20cb594c9b124604a2c5738d196c0227": {
          "model_module": "@jupyter-widgets/base",
          "model_name": "LayoutModel",
          "state": {
            "_view_name": "LayoutView",
            "grid_template_rows": null,
            "right": null,
            "justify_content": null,
            "_view_module": "@jupyter-widgets/base",
            "overflow": null,
            "_model_module_version": "1.2.0",
            "_view_count": null,
            "flex_flow": null,
            "width": null,
            "min_width": null,
            "border": null,
            "align_items": null,
            "bottom": null,
            "_model_module": "@jupyter-widgets/base",
            "top": null,
            "grid_column": null,
            "overflow_y": null,
            "overflow_x": null,
            "grid_auto_flow": null,
            "grid_area": null,
            "grid_template_columns": null,
            "flex": null,
            "_model_name": "LayoutModel",
            "justify_items": null,
            "grid_row": null,
            "max_height": null,
            "align_content": null,
            "visibility": null,
            "align_self": null,
            "height": null,
            "min_height": null,
            "padding": null,
            "grid_auto_rows": null,
            "grid_gap": null,
            "max_width": null,
            "order": null,
            "_view_module_version": "1.2.0",
            "grid_template_areas": null,
            "object_position": null,
            "object_fit": null,
            "grid_auto_columns": null,
            "margin": null,
            "display": null,
            "left": null
          }
        }
      }
    }
  },
  "cells": [
    {
      "cell_type": "code",
      "metadata": {
        "id": "MKgZXP33RGwi",
        "colab": {
          "base_uri": "https://localhost:8080/"
        },
        "outputId": "b285d32a-fef7-494a-ca6f-539d262317bb"
      },
      "source": [
        "pip install pymorphy2"
      ],
      "execution_count": null,
      "outputs": [
        {
          "output_type": "stream",
          "text": [
            "Requirement already satisfied: pymorphy2 in /usr/local/lib/python3.6/dist-packages (0.9.1)\n",
            "Requirement already satisfied: pymorphy2-dicts-ru<3.0,>=2.4 in /usr/local/lib/python3.6/dist-packages (from pymorphy2) (2.4.417127.4579844)\n",
            "Requirement already satisfied: dawg-python>=0.7.1 in /usr/local/lib/python3.6/dist-packages (from pymorphy2) (0.7.2)\n",
            "Requirement already satisfied: docopt>=0.6 in /usr/local/lib/python3.6/dist-packages (from pymorphy2) (0.6.2)\n"
          ],
          "name": "stdout"
        }
      ]
    },
    {
      "cell_type": "code",
      "metadata": {
        "id": "NRfWqnyCaLre"
      },
      "source": [
        "import matplotlib.pyplot as plt\n",
        "import seaborn as sns"
      ],
      "execution_count": null,
      "outputs": []
    },
    {
      "cell_type": "code",
      "metadata": {
        "id": "S-qYMzjpTS8I"
      },
      "source": [
        "import numpy as np\n",
        "import pandas as pd\n",
        "import re\n",
        "from collections import Counter\n",
        "import pymorphy2\n",
        "from tqdm import tqdm_notebook\n",
        "from sklearn.metrics import auc, f1_score, accuracy_score, roc_auc_score"
      ],
      "execution_count": null,
      "outputs": []
    },
    {
      "cell_type": "code",
      "metadata": {
        "id": "UGduqq-DNkBJ",
        "colab": {
          "base_uri": "https://localhost:8080/"
        },
        "outputId": "e0283783-02f5-44c5-fdf9-2e37b4d7f792"
      },
      "source": [
        "import nltk\n",
        "nltk.download('stopwords')"
      ],
      "execution_count": null,
      "outputs": [
        {
          "output_type": "stream",
          "text": [
            "[nltk_data] Downloading package stopwords to /root/nltk_data...\n",
            "[nltk_data]   Package stopwords is already up-to-date!\n"
          ],
          "name": "stdout"
        },
        {
          "output_type": "execute_result",
          "data": {
            "text/plain": [
              "True"
            ]
          },
          "metadata": {
            "tags": []
          },
          "execution_count": 4
        }
      ]
    },
    {
      "cell_type": "code",
      "metadata": {
        "id": "RuizXET-Nhtd",
        "colab": {
          "base_uri": "https://localhost:8080/"
        },
        "outputId": "31d86925-5b52-4ba3-f843-d27e51e60b98"
      },
      "source": [
        "pip install nltk"
      ],
      "execution_count": null,
      "outputs": [
        {
          "output_type": "stream",
          "text": [
            "Requirement already satisfied: nltk in /usr/local/lib/python3.6/dist-packages (3.2.5)\n",
            "Requirement already satisfied: six in /usr/local/lib/python3.6/dist-packages (from nltk) (1.15.0)\n"
          ],
          "name": "stdout"
        }
      ]
    },
    {
      "cell_type": "code",
      "metadata": {
        "id": "YEKK2k0FWhNn",
        "colab": {
          "base_uri": "https://localhost:8080/"
        },
        "outputId": "25983ac8-47f2-4273-bd72-c99af3194ff3"
      },
      "source": [
        "!wget https://raw.githubusercontent.com/Astrowa/technopark/main/dz3/train.csv"
      ],
      "execution_count": null,
      "outputs": [
        {
          "output_type": "stream",
          "text": [
            "--2020-11-10 11:03:18--  https://raw.githubusercontent.com/Astrowa/technopark/main/dz3/train.csv\n",
            "Resolving raw.githubusercontent.com (raw.githubusercontent.com)... 151.101.0.133, 151.101.64.133, 151.101.128.133, ...\n",
            "Connecting to raw.githubusercontent.com (raw.githubusercontent.com)|151.101.0.133|:443... connected.\n",
            "HTTP request sent, awaiting response... 200 OK\n",
            "Length: 19160453 (18M) [text/plain]\n",
            "Saving to: ‘train.csv.1’\n",
            "\n",
            "train.csv.1         100%[===================>]  18.27M  29.1MB/s    in 0.6s    \n",
            "\n",
            "2020-11-10 11:03:19 (29.1 MB/s) - ‘train.csv.1’ saved [19160453/19160453]\n",
            "\n"
          ],
          "name": "stdout"
        }
      ]
    },
    {
      "cell_type": "code",
      "metadata": {
        "id": "2l7fRlCVTV55",
        "colab": {
          "base_uri": "https://localhost:8080/",
          "height": 204
        },
        "outputId": "6173965b-4abb-467b-e6a1-e9843bc0d80b"
      },
      "source": [
        "train_df = pd.read_csv(\"train.csv\")\n",
        "\n",
        "train_df.head()"
      ],
      "execution_count": null,
      "outputs": [
        {
          "output_type": "execute_result",
          "data": {
            "text/html": [
              "<div>\n",
              "<style scoped>\n",
              "    .dataframe tbody tr th:only-of-type {\n",
              "        vertical-align: middle;\n",
              "    }\n",
              "\n",
              "    .dataframe tbody tr th {\n",
              "        vertical-align: top;\n",
              "    }\n",
              "\n",
              "    .dataframe thead th {\n",
              "        text-align: right;\n",
              "    }\n",
              "</style>\n",
              "<table border=\"1\" class=\"dataframe\">\n",
              "  <thead>\n",
              "    <tr style=\"text-align: right;\">\n",
              "      <th></th>\n",
              "      <th>id</th>\n",
              "      <th>url</th>\n",
              "      <th>title</th>\n",
              "      <th>target</th>\n",
              "    </tr>\n",
              "  </thead>\n",
              "  <tbody>\n",
              "    <tr>\n",
              "      <th>0</th>\n",
              "      <td>0</td>\n",
              "      <td>m.kp.md</td>\n",
              "      <td>Экс-министр экономики Молдовы - главе МИДЭИ, ц...</td>\n",
              "      <td>False</td>\n",
              "    </tr>\n",
              "    <tr>\n",
              "      <th>1</th>\n",
              "      <td>1</td>\n",
              "      <td>www.kp.by</td>\n",
              "      <td>Эта песня стала известна многим телезрителям б...</td>\n",
              "      <td>False</td>\n",
              "    </tr>\n",
              "    <tr>\n",
              "      <th>2</th>\n",
              "      <td>2</td>\n",
              "      <td>fanserials.tv</td>\n",
              "      <td>Банши 4 сезон 2 серия Бремя красоты смотреть о...</td>\n",
              "      <td>False</td>\n",
              "    </tr>\n",
              "    <tr>\n",
              "      <th>3</th>\n",
              "      <td>3</td>\n",
              "      <td>colorbox.spb.ru</td>\n",
              "      <td>Не Беси Меня Картинки</td>\n",
              "      <td>False</td>\n",
              "    </tr>\n",
              "    <tr>\n",
              "      <th>4</th>\n",
              "      <td>4</td>\n",
              "      <td>tula-sport.ru</td>\n",
              "      <td>В Новомосковске сыграют следж-хоккеисты алекси...</td>\n",
              "      <td>False</td>\n",
              "    </tr>\n",
              "  </tbody>\n",
              "</table>\n",
              "</div>"
            ],
            "text/plain": [
              "   id  ... target\n",
              "0   0  ...  False\n",
              "1   1  ...  False\n",
              "2   2  ...  False\n",
              "3   3  ...  False\n",
              "4   4  ...  False\n",
              "\n",
              "[5 rows x 4 columns]"
            ]
          },
          "metadata": {
            "tags": []
          },
          "execution_count": 7
        }
      ]
    },
    {
      "cell_type": "code",
      "metadata": {
        "id": "xzMkB-UmTXKu",
        "colab": {
          "base_uri": "https://localhost:8080/"
        },
        "outputId": "038e442b-d88b-4e3b-bb74-f106863ff269"
      },
      "source": [
        "!wget https://raw.githubusercontent.com/Astrowa/technopark/main/dz3/test.csv"
      ],
      "execution_count": null,
      "outputs": [
        {
          "output_type": "stream",
          "text": [
            "--2020-11-10 11:03:19--  https://raw.githubusercontent.com/Astrowa/technopark/main/dz3/test.csv\n",
            "Resolving raw.githubusercontent.com (raw.githubusercontent.com)... 151.101.0.133, 151.101.64.133, 151.101.128.133, ...\n",
            "Connecting to raw.githubusercontent.com (raw.githubusercontent.com)|151.101.0.133|:443... connected.\n",
            "HTTP request sent, awaiting response... 200 OK\n",
            "Length: 22523993 (21M) [text/plain]\n",
            "Saving to: ‘test.csv.1’\n",
            "\n",
            "test.csv.1          100%[===================>]  21.48M  39.4MB/s    in 0.5s    \n",
            "\n",
            "2020-11-10 11:03:20 (39.4 MB/s) - ‘test.csv.1’ saved [22523993/22523993]\n",
            "\n"
          ],
          "name": "stdout"
        }
      ]
    },
    {
      "cell_type": "code",
      "metadata": {
        "id": "bGzvPPwmYkCf",
        "colab": {
          "base_uri": "https://localhost:8080/",
          "height": 204
        },
        "outputId": "d7dfa498-33f1-45b8-d3f5-b3a5ed893005"
      },
      "source": [
        "test_df = pd.read_csv(\"test.csv\")\n",
        "\n",
        "test_df.head()"
      ],
      "execution_count": null,
      "outputs": [
        {
          "output_type": "execute_result",
          "data": {
            "text/html": [
              "<div>\n",
              "<style scoped>\n",
              "    .dataframe tbody tr th:only-of-type {\n",
              "        vertical-align: middle;\n",
              "    }\n",
              "\n",
              "    .dataframe tbody tr th {\n",
              "        vertical-align: top;\n",
              "    }\n",
              "\n",
              "    .dataframe thead th {\n",
              "        text-align: right;\n",
              "    }\n",
              "</style>\n",
              "<table border=\"1\" class=\"dataframe\">\n",
              "  <thead>\n",
              "    <tr style=\"text-align: right;\">\n",
              "      <th></th>\n",
              "      <th>id</th>\n",
              "      <th>url</th>\n",
              "      <th>title</th>\n",
              "    </tr>\n",
              "  </thead>\n",
              "  <tbody>\n",
              "    <tr>\n",
              "      <th>0</th>\n",
              "      <td>135309</td>\n",
              "      <td>www.kommersant.ru</td>\n",
              "      <td>Шестой кассационный суд в Самаре начнет работу...</td>\n",
              "    </tr>\n",
              "    <tr>\n",
              "      <th>1</th>\n",
              "      <td>135310</td>\n",
              "      <td>urexpert.online</td>\n",
              "      <td>Что такое индексация алиментов, кем и в каких ...</td>\n",
              "    </tr>\n",
              "    <tr>\n",
              "      <th>2</th>\n",
              "      <td>135311</td>\n",
              "      <td>imperimeha.ru</td>\n",
              "      <td>Женщинам | Империя Меха - Part 12</td>\n",
              "    </tr>\n",
              "    <tr>\n",
              "      <th>3</th>\n",
              "      <td>135312</td>\n",
              "      <td>national-porn.com</td>\n",
              "      <td>Небритые, волосатые киски: Порно всех стран и ...</td>\n",
              "    </tr>\n",
              "    <tr>\n",
              "      <th>4</th>\n",
              "      <td>135313</td>\n",
              "      <td>2gis.ru</td>\n",
              "      <td>67</td>\n",
              "    </tr>\n",
              "  </tbody>\n",
              "</table>\n",
              "</div>"
            ],
            "text/plain": [
              "       id                url                                              title\n",
              "0  135309  www.kommersant.ru  Шестой кассационный суд в Самаре начнет работу...\n",
              "1  135310    urexpert.online  Что такое индексация алиментов, кем и в каких ...\n",
              "2  135311      imperimeha.ru                  Женщинам | Империя Меха - Part 12\n",
              "3  135312  national-porn.com  Небритые, волосатые киски: Порно всех стран и ...\n",
              "4  135313            2gis.ru                                                 67"
            ]
          },
          "metadata": {
            "tags": []
          },
          "execution_count": 9
        }
      ]
    },
    {
      "cell_type": "code",
      "metadata": {
        "id": "8q7AJfsBYtIj",
        "colab": {
          "base_uri": "https://localhost:8080/"
        },
        "outputId": "2f202156-9bb5-4d77-af8d-7d26153ddeb6"
      },
      "source": [
        "train_df[\"target\"].value_counts()"
      ],
      "execution_count": null,
      "outputs": [
        {
          "output_type": "execute_result",
          "data": {
            "text/plain": [
              "False    118594\n",
              "True      16715\n",
              "Name: target, dtype: int64"
            ]
          },
          "metadata": {
            "tags": []
          },
          "execution_count": 10
        }
      ]
    },
    {
      "cell_type": "code",
      "metadata": {
        "id": "PCOISedDYvUb"
      },
      "source": [
        "from sklearn.metrics import f1_score"
      ],
      "execution_count": null,
      "outputs": []
    },
    {
      "cell_type": "code",
      "metadata": {
        "id": "5yJE_TkyYwg0"
      },
      "source": [
        "X_train = train_df[\"title\"].values\n",
        "X_test = test_df[\"title\"].values\n",
        "y_train = train_df[\"target\"].astype(int).values"
      ],
      "execution_count": null,
      "outputs": []
    },
    {
      "cell_type": "markdown",
      "metadata": {
        "id": "WCodpJSaYzA7"
      },
      "source": [
        "## Simple baseline"
      ]
    },
    {
      "cell_type": "code",
      "metadata": {
        "id": "Ws6O1oxsYxaU"
      },
      "source": [
        "y_pred = [int(\"порно\" in text) for text in X_train]"
      ],
      "execution_count": null,
      "outputs": []
    },
    {
      "cell_type": "code",
      "metadata": {
        "id": "TlRBpl-QY1wj",
        "colab": {
          "base_uri": "https://localhost:8080/"
        },
        "outputId": "dd84c565-59a6-4251-d4b4-8fb7037bb302"
      },
      "source": [
        "f1_score(y_train, y_pred)"
      ],
      "execution_count": null,
      "outputs": [
        {
          "output_type": "execute_result",
          "data": {
            "text/plain": [
              "0.31242758551206484"
            ]
          },
          "metadata": {
            "tags": []
          },
          "execution_count": 14
        }
      ]
    },
    {
      "cell_type": "markdown",
      "metadata": {
        "id": "mcAh85DmY5db"
      },
      "source": [
        "### Submit"
      ]
    },
    {
      "cell_type": "code",
      "metadata": {
        "id": "_c948XELY6hM",
        "colab": {
          "base_uri": "https://localhost:8080/"
        },
        "outputId": "b5004050-bd59-48e5-c369-53aa5fd54442"
      },
      "source": [
        "test_df[\"target\"] = [(\"порно\" in text) for text in X_test]\n",
        "\n",
        "test_df[[\"id\", \"target\"]].to_csv(\"simple_baseline.csv\", index=False)\n",
        "\n",
        "!cat simple_baseline.csv | head"
      ],
      "execution_count": null,
      "outputs": [
        {
          "output_type": "stream",
          "text": [
            "id,target\n",
            "135309,False\n",
            "135310,False\n",
            "135311,False\n",
            "135312,False\n",
            "135313,False\n",
            "135314,False\n",
            "135315,False\n",
            "135316,False\n",
            "135317,False\n"
          ],
          "name": "stdout"
        }
      ]
    },
    {
      "cell_type": "markdown",
      "metadata": {
        "id": "Y5qLZvSMZC9E"
      },
      "source": [
        "### Не все так однозначно\n",
        "## не порно:\n",
        "\n",
        "\n",
        "*   Болезни опорно-двигательной системы и импотенция: взаимосвязь\n",
        "*   Транссексуальные рыбы - National Geographic Россия: красота мира в каждом кадре\n",
        "*   Групповая обзорная экскурсия по Афинам - цена €50\n",
        "*   Больного раком Задорнова затравили в соцсетях.\n",
        "*   Гомосексуалисты на «Первом канале»? Эрнст и Галкин – скрытая гей-пара российского шоу-бизнеса | Заметки о стиле, моде и жизни\n",
        "\n",
        "\n",
        "## порно:\n",
        "\n",
        "*   Отборная домашка\n",
        "*   Сюзанна - карьера горничной / Susanna cameriera perversa (с русским переводом) 1995 г., DVDRip\n",
        "\n"
      ]
    },
    {
      "cell_type": "markdown",
      "metadata": {
        "id": "a1d2K28mZFhd"
      },
      "source": [
        "### ML baseline"
      ]
    },
    {
      "cell_type": "code",
      "metadata": {
        "id": "2SgtY6ZRZBvM"
      },
      "source": [
        "from sklearn.feature_extraction.text import CountVectorizer, TfidfVectorizer\n",
        "from sklearn.naive_bayes import MultinomialNB"
      ],
      "execution_count": null,
      "outputs": []
    },
    {
      "cell_type": "code",
      "metadata": {
        "id": "jjy07iXXMFqd",
        "colab": {
          "base_uri": "https://localhost:8080/",
          "height": 282
        },
        "outputId": "6d91f1d2-2066-4757-f68e-767ba5c5318a"
      },
      "source": [
        "train_df.title.str.len().hist(bins=200)"
      ],
      "execution_count": null,
      "outputs": [
        {
          "output_type": "execute_result",
          "data": {
            "text/plain": [
              "<matplotlib.axes._subplots.AxesSubplot at 0x7f12007b20f0>"
            ]
          },
          "metadata": {
            "tags": []
          },
          "execution_count": 17
        },
        {
          "output_type": "display_data",
          "data": {
            "image/png": "[encoded data removed]",
            "text/plain": [
              "<Figure size 432x288 with 1 Axes>"
            ]
          },
          "metadata": {
            "tags": [],
            "needs_background": "light"
          }
        }
      ]
    },
    {
      "cell_type": "code",
      "metadata": {
        "id": "XozB2vfSMFyQ",
        "colab": {
          "base_uri": "https://localhost:8080/",
          "height": 282
        },
        "outputId": "262c7747-1acb-4a3a-a562-69c14faf6574"
      },
      "source": [
        "test_df.title.str.len().hist(bins=200)"
      ],
      "execution_count": null,
      "outputs": [
        {
          "output_type": "execute_result",
          "data": {
            "text/plain": [
              "<matplotlib.axes._subplots.AxesSubplot at 0x7f12004e94a8>"
            ]
          },
          "metadata": {
            "tags": []
          },
          "execution_count": 18
        },
        {
          "output_type": "display_data",
          "data": {
            "image/png": "[encoded data removed]",
            "text/plain": [
              "<Figure size 432x288 with 1 Axes>"
            ]
          },
          "metadata": {
            "tags": [],
            "needs_background": "light"
          }
        }
      ]
    },
    {
      "cell_type": "code",
      "metadata": {
        "id": "M-Q0wwweMyTD"
      },
      "source": [
        "corpus = train_df.title.values"
      ],
      "execution_count": null,
      "outputs": []
    },
    {
      "cell_type": "code",
      "metadata": {
        "id": "QWkq_b8yPKdk"
      },
      "source": [
        "TOKEN_PATTERN = (\"(?u)\\\\b\\\\w\\\\w+\\\\b\") #\"[а-я-a-z]\""
      ],
      "execution_count": null,
      "outputs": []
    },
    {
      "cell_type": "code",
      "metadata": {
        "id": "EQ4kddDVODPb"
      },
      "source": [
        "def tokenize(text):\n",
        "    return re.findall(TOKEN_PATTERN, text.lower())\n",
        "\n",
        "docs = [tokenize(text) for text in corpus]"
      ],
      "execution_count": null,
      "outputs": []
    },
    {
      "cell_type": "code",
      "metadata": {
        "id": "D-TfRObCPcoU"
      },
      "source": [
        "occurence = Counter()\n",
        "\n",
        "for doc in docs:\n",
        "    for token in doc:\n",
        "        occurence[token] += 1"
      ],
      "execution_count": null,
      "outputs": []
    },
    {
      "cell_type": "code",
      "metadata": {
        "id": "gWKiV4PbQM0n",
        "colab": {
          "base_uri": "https://localhost:8080/"
        },
        "outputId": "3f7e73be-1bed-4b63-d99e-71b92a516e0f"
      },
      "source": [
        "occurence.most_common(20)"
      ],
      "execution_count": null,
      "outputs": [
        {
          "output_type": "execute_result",
          "data": {
            "text/plain": [
              "[('на', 22881),\n",
              " ('ru', 14162),\n",
              " ('онлайн', 11968),\n",
              " ('для', 10174),\n",
              " ('по', 8444),\n",
              " ('бесплатно', 8243),\n",
              " ('скачать', 7751),\n",
              " ('mail', 6807),\n",
              " ('фото', 6378),\n",
              " ('купить', 6315),\n",
              " ('страница', 5847),\n",
              " ('смотреть', 5542),\n",
              " ('от', 5357),\n",
              " ('поиск', 5310),\n",
              " ('порно', 5210),\n",
              " ('видео', 5138),\n",
              " ('2019', 4087),\n",
              " ('porn', 3757),\n",
              " ('из', 3709),\n",
              " ('интернет', 3429)]"
            ]
          },
          "metadata": {
            "tags": []
          },
          "execution_count": 23
        }
      ]
    },
    {
      "cell_type": "code",
      "metadata": {
        "id": "NeziHuPEM-ua"
      },
      "source": [
        "stopword_set = set(nltk.corpus.stopwords.words() + ['-', 'тыс'])"
      ],
      "execution_count": null,
      "outputs": []
    },
    {
      "cell_type": "code",
      "metadata": {
        "id": "vc5Y0UsjMyZy"
      },
      "source": [
        "sorted_tokens = sorted(occurence.keys())"
      ],
      "execution_count": null,
      "outputs": []
    },
    {
      "cell_type": "code",
      "metadata": {
        "id": "L0RK8es-QHHd"
      },
      "source": [
        "lemmatizer = pymorphy2.MorphAnalyzer()"
      ],
      "execution_count": null,
      "outputs": []
    },
    {
      "cell_type": "code",
      "metadata": {
        "id": "9p8oc3lzRQ9D",
        "colab": {
          "base_uri": "https://localhost:8080/",
          "height": 137,
          "referenced_widgets": [
            "a4c2b5ee2bff41549cf5abda63dc8691",
            "9db5f6e9f42d4880aef48deef4e9b7ef",
            "beae93af1a214ccd8475009842b5f28b",
            "b45fad0b81ec46089d3e9fd35217cfd4",
            "3989598150b84c10b400862be3baeac0",
            "e0749b36347043ddbb2243ee9440dcd2",
            "3eb0a5bfb31b4f3db47d95d863ccc682",
            "a87c647959514546924b9cd56df7477f"
          ]
        },
        "outputId": "b4b481d7-066e-4e59-f17f-6934679b66fa"
      },
      "source": [
        "lemmatizer_cache = {}\n",
        "\n",
        "def lemmatize(token):\n",
        "    if lemmatizer.word_is_known(token):\n",
        "        if token not in lemmatizer_cache:\n",
        "            lemmatizer_cache[token] = lemmatizer.parse(token)[0].normal_form\n",
        "        return lemmatizer_cache[token]\n",
        "    return token\n",
        "\n",
        "lemmatized_docs = [[lemmatize(token) for token in text] for text in tqdm_notebook(docs)]\n",
        "\n",
        "cleared_docs = [[token for token in text if token not in stopword_set] for text in lemmatized_docs]"
      ],
      "execution_count": null,
      "outputs": [
        {
          "output_type": "stream",
          "text": [
            "/usr/local/lib/python3.6/dist-packages/ipykernel_launcher.py:10: TqdmDeprecationWarning: This function will be removed in tqdm==5.0.0\n",
            "Please use `tqdm.notebook.tqdm` instead of `tqdm.tqdm_notebook`\n",
            "  # Remove the CWD from sys.path while we load stuff.\n"
          ],
          "name": "stderr"
        },
        {
          "output_type": "display_data",
          "data": {
            "application/vnd.jupyter.widget-view+json": {
              "model_id": "a4c2b5ee2bff41549cf5abda63dc8691",
              "version_minor": 0,
              "version_major": 2
            },
            "text/plain": [
              "HBox(children=(FloatProgress(value=0.0, max=135309.0), HTML(value='')))"
            ]
          },
          "metadata": {
            "tags": []
          }
        },
        {
          "output_type": "stream",
          "text": [
            "\n"
          ],
          "name": "stdout"
        }
      ]
    },
    {
      "cell_type": "code",
      "metadata": {
        "id": "A3XTKbONarDu",
        "colab": {
          "base_uri": "https://localhost:8080/"
        },
        "outputId": "b913d762-f977-4eb3-91c6-880221156aa0"
      },
      "source": [
        "cleared_docs[108]"
      ],
      "execution_count": null,
      "outputs": [
        {
          "output_type": "execute_result",
          "data": {
            "text/plain": [
              "['ջահեր', 'tinko', '47209', '1h', '930', 'դրամ', 'բրայթ', 'հաուս']"
            ]
          },
          "metadata": {
            "tags": []
          },
          "execution_count": 28
        }
      ]
    },
    {
      "cell_type": "code",
      "metadata": {
        "id": "9juzoJQbmou_",
        "colab": {
          "base_uri": "https://localhost:8080/"
        },
        "outputId": "e26e3d9a-3318-49bd-ebf5-8b85a098bd1e"
      },
      "source": [
        "train_df[\"title\"][100:125]"
      ],
      "execution_count": null,
      "outputs": [
        {
          "output_type": "execute_result",
          "data": {
            "text/plain": [
              "100    Фото со мной - 21 фото. Фотографии Олеся Швецова.\n",
              "101    Строительство коттеджей из пенобетона под ключ...\n",
              "102    Военная тематика » Страница 18 » Скачать книги...\n",
              "103    Магазин электронных компонентов \"ЭЛЕКТРОНЩИК\" ...\n",
              "104      Сушка дерева в вакуумной камере - Guns.ru Talks\n",
              "105    Picanto. Срок поставки КИА Пиканто. Субкомпакт...\n",
              "106    Почтовый индекс Улицы Льва Толстого Санкт-Пете...\n",
              "107    Комплект муравьиной фермы Smart \"Горный мох\" ✅...\n",
              "108    Ջահեր-TINKO 47209/1H - 6.930 դրամ - «Բրայթ Հաուս»\n",
              "109    Презентація - Сутність маркетингу та його визн...\n",
              "110    Марсель Муратов - Казань, Татарстан, Россия, 3...\n",
              "111                           Charlie Red Anal – DaftSex\n",
              "112                                     Администрация ДК\n",
              "113                                           город Холм\n",
              "114    В Челябинской области появится еще три виртуал...\n",
              "115    анжелика агурбаш мне любви твоей мало музыка в...\n",
              "116         Необычные рецепты | Вкусные Идеи Каждый День\n",
              "117    Девчат, с радостью бы пописали в таких туалета...\n",
              "118    Гостиница АВС-Отель (Россия Свердловская облас...\n",
              "119    Купить Кронштейн для ТВ наклонно-поворотный Vo...\n",
              "120                         Flora BY GUCCI 3 ml Al-Rayan\n",
              "121    Технические и функциональные возможности интер...\n",
              "122    Секс знакомства Обмен Интим Фото, без регистра...\n",
              "123               Jebug obok obok susu - смотреть онлайн\n",
              "124    Подскажите, как ваши дети написали централизов...\n",
              "Name: title, dtype: object"
            ]
          },
          "metadata": {
            "tags": []
          },
          "execution_count": 29
        }
      ]
    },
    {
      "cell_type": "code",
      "metadata": {
        "id": "ZBf8yebDfXE1"
      },
      "source": [
        "cooccurence = Counter()\n",
        "\n",
        "for doc in docs:\n",
        "    for i in range(len(doc) - 1):\n",
        "        cooccurence[(doc[i], doc[i + 1])] += 1"
      ],
      "execution_count": null,
      "outputs": []
    },
    {
      "cell_type": "code",
      "metadata": {
        "id": "WEkCcDugZgEv",
        "colab": {
          "base_uri": "https://localhost:8080/"
        },
        "outputId": "e6e625c1-2421-481a-a131-1adf1b4a830b"
      },
      "source": [
        "cooccurence.most_common(10)"
      ],
      "execution_count": null,
      "outputs": [
        {
          "output_type": "execute_result",
          "data": {
            "text/plain": [
              "[(('mail', 'ru'), 6701),\n",
              " (('смотреть', 'онлайн'), 3818),\n",
              " (('поиск', 'mail'), 3502),\n",
              " (('результатов', 'поиск'), 2622),\n",
              " (('скачать', 'бесплатно'), 2012),\n",
              " (('онлайн', 'бесплатно'), 1967),\n",
              " (('читать', 'онлайн'), 1808),\n",
              " (('тыс', 'результатов'), 1611),\n",
              " (('порно', 'видео'), 1525),\n",
              " (('интернет', 'магазине'), 1419)]"
            ]
          },
          "metadata": {
            "tags": []
          },
          "execution_count": 31
        }
      ]
    },
    {
      "cell_type": "code",
      "metadata": {
        "id": "mRp-HlahZudQ",
        "colab": {
          "base_uri": "https://localhost:8080/"
        },
        "outputId": "2ead0323-e75e-4050-c197-328b8dbfd738"
      },
      "source": [
        "occurence.most_common(10)"
      ],
      "execution_count": null,
      "outputs": [
        {
          "output_type": "execute_result",
          "data": {
            "text/plain": [
              "[('на', 22881),\n",
              " ('ru', 14162),\n",
              " ('онлайн', 11968),\n",
              " ('для', 10174),\n",
              " ('по', 8444),\n",
              " ('бесплатно', 8243),\n",
              " ('скачать', 7751),\n",
              " ('mail', 6807),\n",
              " ('фото', 6378),\n",
              " ('купить', 6315)]"
            ]
          },
          "metadata": {
            "tags": []
          },
          "execution_count": 32
        }
      ]
    },
    {
      "cell_type": "code",
      "metadata": {
        "id": "8wFIFdC1Z0DX",
        "colab": {
          "base_uri": "https://localhost:8080/"
        },
        "outputId": "858df519-4324-4eca-f05d-396a8f08c624"
      },
      "source": [
        "N = sum(occurence.values())\n",
        "\n",
        "N"
      ],
      "execution_count": null,
      "outputs": [
        {
          "output_type": "execute_result",
          "data": {
            "text/plain": [
              "1248292"
            ]
          },
          "metadata": {
            "tags": []
          },
          "execution_count": 33
        }
      ]
    },
    {
      "cell_type": "code",
      "metadata": {
        "id": "uZNzvE6sZ4xQ"
      },
      "source": [
        "pmi = Counter()\n",
        "min_cooccur = 5\n",
        "\n",
        "for pair in cooccurence:\n",
        "    if cooccurence[pair] >= min_cooccur:\n",
        "        pmi[pair] = np.log(cooccurence[pair] * N / occurence[pair[0]] / occurence[pair[1]])"
      ],
      "execution_count": null,
      "outputs": []
    },
    {
      "cell_type": "code",
      "metadata": {
        "id": "DXA5_g-1Z5kn",
        "colab": {
          "base_uri": "https://localhost:8080/"
        },
        "outputId": "c6e1f3cd-75d2-4689-a80b-1d6063aaa1f8"
      },
      "source": [
        "pmi.most_common(10)"
      ],
      "execution_count": null,
      "outputs": [
        {
          "output_type": "execute_result",
          "data": {
            "text/plain": [
              "[(('nowy', 'styl'), 12.427848862468652),\n",
              " (('sputnjik', 'srbija'), 12.427848862468652),\n",
              " (('xarid', 'qilish'), 12.427848862468652),\n",
              " (('зарегистрировано', 'минюсте'), 12.427848862468652),\n",
              " (('xander', 'corvus'), 12.427848862468652),\n",
              " (('kagney', 'linn'), 12.427848862468652),\n",
              " (('linn', 'karter'), 12.427848862468652),\n",
              " (('játssz', 'ingyen'), 12.427848862468652),\n",
              " (('мобільна', 'версія'), 12.427848862468652),\n",
              " (('sklep', 'internetowy'), 12.427848862468652)]"
            ]
          },
          "metadata": {
            "tags": []
          },
          "execution_count": 35
        }
      ]
    },
    {
      "cell_type": "code",
      "metadata": {
        "id": "gHHfh-en6g1u",
        "colab": {
          "base_uri": "https://localhost:8080/"
        },
        "outputId": "d20b651a-0821-4504-f8f2-15a4c789dd5c"
      },
      "source": [
        "cleared_docs[910]"
      ],
      "execution_count": null,
      "outputs": [
        {
          "output_type": "execute_result",
          "data": {
            "text/plain": [
              "['руководство', 'издание', 'четвёртый', 'дополнить', 'переработать']"
            ]
          },
          "metadata": {
            "tags": []
          },
          "execution_count": 36
        }
      ]
    },
    {
      "cell_type": "code",
      "metadata": {
        "id": "LfWhIol8aLzk"
      },
      "source": [
        "vectorizer = TfidfVectorizer(\n",
        "    tokenizer=lambda x: x, lowercase=False,\n",
        "    norm='l2'\n",
        ")"
      ],
      "execution_count": null,
      "outputs": []
    },
    {
      "cell_type": "code",
      "metadata": {
        "id": "PRpD_DQJa_Jg",
        "colab": {
          "base_uri": "https://localhost:8080/",
          "height": 120,
          "referenced_widgets": [
            "a5e526de5285468da83566c80bff4b0f",
            "6dd4f374b2a24b71adb1b0604d364b96",
            "10a6128176ab4ee3b28f87344c37d26b",
            "3d07c08f42484e74beee453e6d86af31",
            "679cc2e6790b4bf88411d2322e793731",
            "cc531d320fec4a079e3a81a6bf4be6f1",
            "df015b41daf340a2aac9a0f0582af570",
            "1d4666ab57de4f07a5b48f0e7a192f16"
          ]
        },
        "outputId": "61367d59-b4d3-42c9-edac-0cc08df5fb89"
      },
      "source": [
        "test = test_df.title.values\n",
        "docs_test = [tokenize(text) for text in test]\n",
        "\n",
        "occurence_test = Counter()\n",
        "\n",
        "for doc in docs_test:\n",
        "    for token in doc:\n",
        "        occurence_test[token] += 1\n",
        "\n",
        "sorted_tokens_test = sorted(occurence_test.keys())\n",
        "\n",
        "lemmatizer_cache_test = {}\n",
        "\n",
        "def lemmatize(token):\n",
        "    if lemmatizer.word_is_known(token):\n",
        "        if token not in lemmatizer_cache_test:\n",
        "            lemmatizer_cache_test[token] = lemmatizer.parse(token)[0].normal_form\n",
        "        return lemmatizer_cache_test[token]\n",
        "    return token\n",
        "\n",
        "lemmatized_docs_test = [[lemmatize(token) for token in text] for text in tqdm_notebook(docs_test)]\n",
        "\n",
        "cleared_docs_test = [[token for token in text if token not in stopword_set] for text in lemmatized_docs_test]"
      ],
      "execution_count": null,
      "outputs": [
        {
          "output_type": "stream",
          "text": [
            "/usr/local/lib/python3.6/dist-packages/ipykernel_launcher.py:21: TqdmDeprecationWarning: This function will be removed in tqdm==5.0.0\n",
            "Please use `tqdm.notebook.tqdm` instead of `tqdm.tqdm_notebook`\n"
          ],
          "name": "stderr"
        },
        {
          "output_type": "display_data",
          "data": {
            "application/vnd.jupyter.widget-view+json": {
              "model_id": "a5e526de5285468da83566c80bff4b0f",
              "version_minor": 0,
              "version_major": 2
            },
            "text/plain": [
              "HBox(children=(FloatProgress(value=0.0, max=165378.0), HTML(value='')))"
            ]
          },
          "metadata": {
            "tags": []
          }
        },
        {
          "output_type": "stream",
          "text": [
            "\n"
          ],
          "name": "stdout"
        }
      ]
    },
    {
      "cell_type": "code",
      "metadata": {
        "id": "D2IkdBdCaSFo"
      },
      "source": [
        "model = MultinomialNB()"
      ],
      "execution_count": null,
      "outputs": []
    },
    {
      "cell_type": "code",
      "metadata": {
        "id": "14QO7ae6Zi6t"
      },
      "source": [
        "X_train_vectorized = vectorizer.fit_transform(cleared_docs)"
      ],
      "execution_count": null,
      "outputs": []
    },
    {
      "cell_type": "code",
      "metadata": {
        "id": "7nph82wHZkY1",
        "colab": {
          "base_uri": "https://localhost:8080/"
        },
        "outputId": "ea9f0520-43aa-4a23-9197-d56d193335c9"
      },
      "source": [
        "X_train_vectorized"
      ],
      "execution_count": null,
      "outputs": [
        {
          "output_type": "execute_result",
          "data": {
            "text/plain": [
              "<135309x144382 sparse matrix of type '<class 'numpy.float64'>'\n",
              "\twith 1074281 stored elements in Compressed Sparse Row format>"
            ]
          },
          "metadata": {
            "tags": []
          },
          "execution_count": 41
        }
      ]
    },
    {
      "cell_type": "code",
      "metadata": {
        "id": "85yAzfQbZldb"
      },
      "source": [
        "feature_names = np.array(vectorizer.get_feature_names())"
      ],
      "execution_count": null,
      "outputs": []
    },
    {
      "cell_type": "code",
      "metadata": {
        "id": "yoTF2tn1ZmQL",
        "colab": {
          "base_uri": "https://localhost:8080/"
        },
        "outputId": "07f4abe4-5dab-4872-90ef-a909b8be63da"
      },
      "source": [
        "id_ = 42\n",
        "\n",
        "print(X_train[id_])\n",
        "\n",
        "x_vector = X_train_vectorized.getrow(id_).toarray()[0]\n",
        "\n",
        "[feature for feature in feature_names[x_vector > 0]]"
      ],
      "execution_count": null,
      "outputs": [
        {
          "output_type": "stream",
          "text": [
            "Презентация на тему \"Приближенное значение. Абсолютная и относительная погрешнос\n"
          ],
          "name": "stdout"
        },
        {
          "output_type": "execute_result",
          "data": {
            "text/plain": [
              "['абсолютный',\n",
              " 'значение',\n",
              " 'относительный',\n",
              " 'погрешнос',\n",
              " 'презентация',\n",
              " 'приблизить',\n",
              " 'тема']"
            ]
          },
          "metadata": {
            "tags": []
          },
          "execution_count": 43
        }
      ]
    },
    {
      "cell_type": "code",
      "metadata": {
        "id": "WZ6WugOiZnO0",
        "colab": {
          "base_uri": "https://localhost:8080/"
        },
        "outputId": "3c28e636-e7b2-4659-8077-26eae3928bf2"
      },
      "source": [
        "%%time\n",
        "\n",
        "model.fit(\n",
        "    X_train_vectorized,\n",
        "    y_train\n",
        ")\n",
        "\n",
        "y_pred = model.predict(\n",
        "    X_train_vectorized\n",
        ")"
      ],
      "execution_count": null,
      "outputs": [
        {
          "output_type": "stream",
          "text": [
            "CPU times: user 59.7 ms, sys: 993 µs, total: 60.7 ms\n",
            "Wall time: 61.4 ms\n"
          ],
          "name": "stdout"
        }
      ]
    },
    {
      "cell_type": "code",
      "metadata": {
        "id": "UA3jmJ0yZoNj",
        "colab": {
          "base_uri": "https://localhost:8080/"
        },
        "outputId": "fc88dec4-cecf-4201-e090-8cec948a4daf"
      },
      "source": [
        "f1_score(y_train, y_pred)"
      ],
      "execution_count": null,
      "outputs": [
        {
          "output_type": "execute_result",
          "data": {
            "text/plain": [
              "0.9342175232256248"
            ]
          },
          "metadata": {
            "tags": []
          },
          "execution_count": 45
        }
      ]
    },
    {
      "cell_type": "code",
      "metadata": {
        "id": "NcPQC0KLZpH8",
        "colab": {
          "base_uri": "https://localhost:8080/"
        },
        "outputId": "c3d81ef0-631b-4839-a053-755040e5f980"
      },
      "source": [
        "import IPython\n",
        "print(IPython.sys_info())"
      ],
      "execution_count": null,
      "outputs": [
        {
          "output_type": "stream",
          "text": [
            "{'commit_hash': 'b467d487e',\n",
            " 'commit_source': 'installation',\n",
            " 'default_encoding': 'UTF-8',\n",
            " 'ipython_path': '/usr/local/lib/python3.6/dist-packages/IPython',\n",
            " 'ipython_version': '5.5.0',\n",
            " 'os_name': 'posix',\n",
            " 'platform': 'Linux-4.19.112+-x86_64-with-Ubuntu-18.04-bionic',\n",
            " 'sys_executable': '/usr/bin/python3',\n",
            " 'sys_platform': 'linux',\n",
            " 'sys_version': '3.6.9 (default, Oct  8 2020, 12:12:24) \\n[GCC 8.4.0]'}\n"
          ],
          "name": "stdout"
        }
      ]
    },
    {
      "cell_type": "markdown",
      "metadata": {
        "id": "sfj8y1fSZqqH"
      },
      "source": [
        "### Submit"
      ]
    },
    {
      "cell_type": "code",
      "metadata": {
        "id": "VugTEYAnZqyL",
        "colab": {
          "base_uri": "https://localhost:8080/"
        },
        "outputId": "710cc097-69d0-4d93-b0f2-610884bfd75b"
      },
      "source": [
        "X_test_vectorized = vectorizer.transform(cleared_docs_test)\n",
        "\n",
        "test_df[\"target\"] = model.predict(X_test_vectorized).astype(bool)\n",
        "\n",
        "test_df[[\"id\", \"target\"]].to_csv(\"ml_baseline.csv\", index=False)\n",
        "\n",
        "%cat ml_baseline.csv | head"
      ],
      "execution_count": null,
      "outputs": [
        {
          "output_type": "stream",
          "text": [
            "id,target\n",
            "135309,False\n",
            "135310,False\n",
            "135311,False\n",
            "135312,True\n",
            "135313,False\n",
            "135314,False\n",
            "135315,False\n",
            "135316,False\n",
            "135317,False\n"
          ],
          "name": "stdout"
        }
      ]
    },
    {
      "cell_type": "code",
      "metadata": {
        "id": "tM3j2Ns5N1ky",
        "colab": {
          "base_uri": "https://localhost:8080/"
        },
        "outputId": "587fbb4a-cc2c-4795-ac12-a85943005ea7"
      },
      "source": [
        "X_test_vectorized.shape"
      ],
      "execution_count": null,
      "outputs": [
        {
          "output_type": "execute_result",
          "data": {
            "text/plain": [
              "(165378, 144382)"
            ]
          },
          "metadata": {
            "tags": []
          },
          "execution_count": 48
        }
      ]
    },
    {
      "cell_type": "code",
      "metadata": {
        "id": "8EhliSkXkzKN"
      },
      "source": [
        "def print_metrics(y_test, ans):\n",
        "    print((\"Accuracy ~\"), np.round(accuracy_score(y_test, ans), 4))\n",
        "    print((\"F1_score ~\"), np.round(f1_score(y_test, ans, average=\"macro\"), 4))"
      ],
      "execution_count": null,
      "outputs": []
    },
    {
      "cell_type": "markdown",
      "metadata": {
        "id": "n_AcUBaizSm_"
      },
      "source": [
        "## BEST"
      ]
    },
    {
      "cell_type": "code",
      "metadata": {
        "id": "ssCZ2O-EzYd2"
      },
      "source": [
        "from sklearn.ensemble import RandomForestClassifier, GradientBoostingClassifier, RandomForestRegressor\n",
        "from sklearn.tree import DecisionTreeClassifier, DecisionTreeRegressor\n",
        "from sklearn.model_selection import GridSearchCV"
      ],
      "execution_count": null,
      "outputs": []
    },
    {
      "cell_type": "code",
      "metadata": {
        "id": "26QcAEb_Q11z"
      },
      "source": [
        "from sklearn.ensemble import ExtraTreesClassifier"
      ],
      "execution_count": null,
      "outputs": []
    },
    {
      "cell_type": "code",
      "metadata": {
        "id": "iKJofr93BaZY",
        "colab": {
          "base_uri": "https://localhost:8080/"
        },
        "outputId": "d3714283-b0e4-486b-a05b-83cd3fdf3841"
      },
      "source": [
        "%%time\n",
        "\n",
        "model = ExtraTreesClassifier(n_estimators=100, n_jobs=-1, verbose=1)\n",
        "model.fit(X_train_vectorized, y_train.ravel())"
      ],
      "execution_count": null,
      "outputs": [
        {
          "output_type": "stream",
          "text": [
            "[Parallel(n_jobs=-1)]: Using backend ThreadingBackend with 2 concurrent workers.\n",
            "[Parallel(n_jobs=-1)]: Done  46 tasks      | elapsed:  5.2min\n"
          ],
          "name": "stderr"
        },
        {
          "output_type": "stream",
          "text": [
            "CPU times: user 22min 32s, sys: 2.3 s, total: 22min 35s\n",
            "Wall time: 11min 33s\n"
          ],
          "name": "stdout"
        },
        {
          "output_type": "stream",
          "text": [
            "[Parallel(n_jobs=-1)]: Done 100 out of 100 | elapsed: 11.6min finished\n"
          ],
          "name": "stderr"
        }
      ]
    },
    {
      "cell_type": "code",
      "metadata": {
        "id": "wJh1LKxjWPQB",
        "colab": {
          "base_uri": "https://localhost:8080/"
        },
        "outputId": "bfb8151a-ac29-4415-aa81-88ceb36aac75"
      },
      "source": [
        "model"
      ],
      "execution_count": null,
      "outputs": [
        {
          "output_type": "execute_result",
          "data": {
            "text/plain": [
              "ExtraTreesClassifier(bootstrap=False, ccp_alpha=0.0, class_weight=None,\n",
              "                     criterion='gini', max_depth=None, max_features='auto',\n",
              "                     max_leaf_nodes=None, max_samples=None,\n",
              "                     min_impurity_decrease=0.0, min_impurity_split=None,\n",
              "                     min_samples_leaf=1, min_samples_split=2,\n",
              "                     min_weight_fraction_leaf=0.0, n_estimators=100, n_jobs=-1,\n",
              "                     oob_score=False, random_state=None, verbose=1,\n",
              "                     warm_start=False)"
            ]
          },
          "metadata": {
            "tags": []
          },
          "execution_count": 53
        }
      ]
    },
    {
      "cell_type": "code",
      "metadata": {
        "id": "16uuKESaQW2l",
        "colab": {
          "base_uri": "https://localhost:8080/"
        },
        "outputId": "8721d9dd-2045-4862-bf5a-54d333341e00"
      },
      "source": [
        "model_ans = model.predict(X_train_vectorized)"
      ],
      "execution_count": null,
      "outputs": [
        {
          "output_type": "stream",
          "text": [
            "[Parallel(n_jobs=2)]: Using backend ThreadingBackend with 2 concurrent workers.\n",
            "[Parallel(n_jobs=2)]: Done  46 tasks      | elapsed:   23.0s\n",
            "[Parallel(n_jobs=2)]: Done 100 out of 100 | elapsed:   50.0s finished\n"
          ],
          "name": "stderr"
        }
      ]
    },
    {
      "cell_type": "code",
      "metadata": {
        "id": "BUjGnj2GVqYE",
        "colab": {
          "base_uri": "https://localhost:8080/"
        },
        "outputId": "989233ce-78db-4dec-bea1-4f2d7eda3e06"
      },
      "source": [
        "print_metrics(y_train, model_ans)"
      ],
      "execution_count": null,
      "outputs": [
        {
          "output_type": "stream",
          "text": [
            "Accuracy ~ 0.9988\n",
            "F1_score ~ 0.9973\n"
          ],
          "name": "stdout"
        }
      ]
    },
    {
      "cell_type": "code",
      "metadata": {
        "id": "GOipjnnyWVXB",
        "colab": {
          "base_uri": "https://localhost:8080/"
        },
        "outputId": "bf0c78b2-1692-4be8-dc53-3d0a911d7d3d"
      },
      "source": [
        "X_test_vectorized = vectorizer.transform(cleared_docs_test)\n",
        "\n",
        "test_df[\"target\"] = model.predict(X_test_vectorized).astype(bool)\n",
        "\n",
        "test_df[[\"id\", \"target\"]].to_csv(\"ETC100_vector.csv\", index=False)\n",
        "\n",
        "%cat ETC100_vector.csv | head"
      ],
      "execution_count": null,
      "outputs": [
        {
          "output_type": "stream",
          "text": [
            "[Parallel(n_jobs=2)]: Using backend ThreadingBackend with 2 concurrent workers.\n",
            "[Parallel(n_jobs=2)]: Done  46 tasks      | elapsed:   30.6s\n",
            "[Parallel(n_jobs=2)]: Done 100 out of 100 | elapsed:  1.1min finished\n"
          ],
          "name": "stderr"
        },
        {
          "output_type": "stream",
          "text": [
            "id,target\n",
            "135309,False\n",
            "135310,False\n",
            "135311,False\n",
            "135312,True\n",
            "135313,False\n",
            "135314,False\n",
            "135315,False\n",
            "135316,False\n",
            "135317,False\n"
          ],
          "name": "stdout"
        }
      ]
    },
    {
      "cell_type": "markdown",
      "metadata": {
        "id": "dbu0vn2SG5Vx"
      },
      "source": [
        "### Попытки"
      ]
    },
    {
      "cell_type": "code",
      "metadata": {
        "id": "mrRreZFATKTe",
        "colab": {
          "base_uri": "https://localhost:8080/"
        },
        "outputId": "9d55716a-f07a-44fc-ad6e-6af8955b3f83"
      },
      "source": [
        "%%time\n",
        "\n",
        "RF = RandomForestClassifier(n_estimators=2900, min_samples_leaf=1, min_samples_split=6, verbose=1, n_jobs=-1)\n",
        "RF.fit(X_train_vectorized, y_train.ravel())"
      ],
      "execution_count": null,
      "outputs": [
        {
          "output_type": "stream",
          "text": [
            "[Parallel(n_jobs=-1)]: Using backend ThreadingBackend with 2 concurrent workers.\n",
            "[Parallel(n_jobs=-1)]: Done  46 tasks      | elapsed:  2.0min\n",
            "[Parallel(n_jobs=-1)]: Done 196 tasks      | elapsed:  8.1min\n",
            "[Parallel(n_jobs=-1)]: Done 446 tasks      | elapsed: 18.3min\n",
            "[Parallel(n_jobs=-1)]: Done 796 tasks      | elapsed: 32.6min\n",
            "[Parallel(n_jobs=-1)]: Done 1246 tasks      | elapsed: 51.0min\n",
            "[Parallel(n_jobs=-1)]: Done 1796 tasks      | elapsed: 73.0min\n",
            "[Parallel(n_jobs=-1)]: Done 2446 tasks      | elapsed: 99.5min\n"
          ],
          "name": "stderr"
        },
        {
          "output_type": "stream",
          "text": [
            "CPU times: user 3h 51min 19s, sys: 19.4 s, total: 3h 51min 39s\n",
            "Wall time: 1h 58min 1s\n"
          ],
          "name": "stdout"
        },
        {
          "output_type": "stream",
          "text": [
            "[Parallel(n_jobs=-1)]: Done 2900 out of 2900 | elapsed: 118.0min finished\n"
          ],
          "name": "stderr"
        }
      ]
    },
    {
      "cell_type": "code",
      "metadata": {
        "id": "xokG5xkWTpcW",
        "colab": {
          "base_uri": "https://localhost:8080/"
        },
        "outputId": "9af0d289-1dff-48de-8d6e-3e60175773f3"
      },
      "source": [
        "RF_ans = RF.predict(X_train_vectorized)"
      ],
      "execution_count": null,
      "outputs": [
        {
          "output_type": "stream",
          "text": [
            "[Parallel(n_jobs=2)]: Using backend ThreadingBackend with 2 concurrent workers.\n",
            "[Parallel(n_jobs=2)]: Done  46 tasks      | elapsed:   14.1s\n",
            "[Parallel(n_jobs=2)]: Done 196 tasks      | elapsed:   58.7s\n",
            "[Parallel(n_jobs=2)]: Done 446 tasks      | elapsed:  2.2min\n",
            "[Parallel(n_jobs=2)]: Done 796 tasks      | elapsed:  4.0min\n",
            "[Parallel(n_jobs=2)]: Done 1246 tasks      | elapsed:  6.3min\n",
            "[Parallel(n_jobs=2)]: Done 1796 tasks      | elapsed:  9.0min\n",
            "[Parallel(n_jobs=2)]: Done 2446 tasks      | elapsed: 12.2min\n",
            "[Parallel(n_jobs=2)]: Done 2900 out of 2900 | elapsed: 14.5min finished\n"
          ],
          "name": "stderr"
        }
      ]
    },
    {
      "cell_type": "code",
      "metadata": {
        "id": "YGoHY3dcTfAX",
        "colab": {
          "base_uri": "https://localhost:8080/"
        },
        "outputId": "c61a1091-d977-4d57-c63f-61136e17c862"
      },
      "source": [
        "print_metrics(y_train, RF_ans)"
      ],
      "execution_count": null,
      "outputs": [
        {
          "output_type": "stream",
          "text": [
            "Accuracy ~ 0.998\n",
            "F1_score ~ 0.9953\n"
          ],
          "name": "stdout"
        }
      ]
    },
    {
      "cell_type": "code",
      "metadata": {
        "id": "hYGEsOj6cuD1",
        "colab": {
          "base_uri": "https://localhost:8080/"
        },
        "outputId": "90859b2e-3974-49ae-d58d-9bb42ae32468"
      },
      "source": [
        "RF"
      ],
      "execution_count": null,
      "outputs": [
        {
          "output_type": "execute_result",
          "data": {
            "text/plain": [
              "RandomForestClassifier(bootstrap=True, ccp_alpha=0.0, class_weight=None,\n",
              "                       criterion='gini', max_depth=None, max_features='auto',\n",
              "                       max_leaf_nodes=None, max_samples=None,\n",
              "                       min_impurity_decrease=0.0, min_impurity_split=None,\n",
              "                       min_samples_leaf=1, min_samples_split=2,\n",
              "                       min_weight_fraction_leaf=0.0, n_estimators=29, n_jobs=-1,\n",
              "                       oob_score=False, random_state=None, verbose=0,\n",
              "                       warm_start=False)"
            ]
          },
          "metadata": {
            "tags": []
          },
          "execution_count": 87
        }
      ]
    },
    {
      "cell_type": "code",
      "metadata": {
        "id": "My0B8Gh6TfdE",
        "colab": {
          "base_uri": "https://localhost:8080/"
        },
        "outputId": "9df0f296-d810-4588-f667-04c89d6eff2d"
      },
      "source": [
        "X_test_vectorized = vectorizer.transform(cleared_docs_test)\n",
        "\n",
        "test_df[\"target\"] = RF.predict(X_test_vectorized).astype(bool)\n",
        "\n",
        "test_df[[\"id\", \"target\"]].to_csv(\"RF_290_vector_t.csv\", index=False)\n",
        "\n",
        "%cat RF_290_vector_t.csv | head"
      ],
      "execution_count": null,
      "outputs": [
        {
          "output_type": "stream",
          "text": [
            "[Parallel(n_jobs=2)]: Using backend ThreadingBackend with 2 concurrent workers.\n",
            "[Parallel(n_jobs=2)]: Done  46 tasks      | elapsed:   18.0s\n",
            "[Parallel(n_jobs=2)]: Done 196 tasks      | elapsed:  1.3min\n",
            "[Parallel(n_jobs=2)]: Done 446 tasks      | elapsed:  2.9min\n",
            "[Parallel(n_jobs=2)]: Done 796 tasks      | elapsed:  5.1min\n",
            "[Parallel(n_jobs=2)]: Done 1246 tasks      | elapsed:  8.0min\n",
            "[Parallel(n_jobs=2)]: Done 1796 tasks      | elapsed: 11.5min\n",
            "[Parallel(n_jobs=2)]: Done 2446 tasks      | elapsed: 15.7min\n",
            "[Parallel(n_jobs=2)]: Done 2900 out of 2900 | elapsed: 18.6min finished\n"
          ],
          "name": "stderr"
        },
        {
          "output_type": "stream",
          "text": [
            "id,target\n",
            "135309,False\n",
            "135310,False\n",
            "135311,False\n",
            "135312,True\n",
            "135313,False\n",
            "135314,False\n",
            "135315,False\n",
            "135316,False\n",
            "135317,False\n"
          ],
          "name": "stdout"
        }
      ]
    },
    {
      "cell_type": "code",
      "metadata": {
        "id": "YCmv8VreN0vg",
        "colab": {
          "base_uri": "https://localhost:8080/",
          "height": 391
        },
        "outputId": "76045b64-b0cc-4c06-a762-75ef07197b77"
      },
      "source": [
        "%%time\n",
        "\n",
        "RF10 = RandomForestClassifier(n_estimators=5000, min_samples_leaf=1, min_samples_split=2, verbose=1, n_jobs=-1)\n",
        "RF10.fit(X_train_vectorized, y_train.ravel())"
      ],
      "execution_count": null,
      "outputs": [
        {
          "output_type": "error",
          "ename": "NameError",
          "evalue": "ignored",
          "traceback": [
            "\u001b[0;31m---------------------------------------------------------------------------\u001b[0m",
            "\u001b[0;31mNameError\u001b[0m                                 Traceback (most recent call last)",
            "\u001b[0;32m<ipython-input-50-329e4a78acd4>\u001b[0m in \u001b[0;36m<module>\u001b[0;34m()\u001b[0m\n\u001b[0;32m----> 1\u001b[0;31m \u001b[0mget_ipython\u001b[0m\u001b[0;34m(\u001b[0m\u001b[0;34m)\u001b[0m\u001b[0;34m.\u001b[0m\u001b[0mrun_cell_magic\u001b[0m\u001b[0;34m(\u001b[0m\u001b[0;34m'time'\u001b[0m\u001b[0;34m,\u001b[0m \u001b[0;34m''\u001b[0m\u001b[0;34m,\u001b[0m \u001b[0;34m'\\nRF10 = RandomForestClassifier(n_estimators=5000, min_samples_leaf=1, min_samples_split=2, verbose=1, n_jobs=-1)\\nRF10.fit(X_train_vectorized, y_train.ravel())'\u001b[0m\u001b[0;34m)\u001b[0m\u001b[0;34m\u001b[0m\u001b[0;34m\u001b[0m\u001b[0m\n\u001b[0m",
            "\u001b[0;32m/usr/local/lib/python3.6/dist-packages/IPython/core/interactiveshell.py\u001b[0m in \u001b[0;36mrun_cell_magic\u001b[0;34m(self, magic_name, line, cell)\u001b[0m\n\u001b[1;32m   2115\u001b[0m             \u001b[0mmagic_arg_s\u001b[0m \u001b[0;34m=\u001b[0m \u001b[0mself\u001b[0m\u001b[0;34m.\u001b[0m\u001b[0mvar_expand\u001b[0m\u001b[0;34m(\u001b[0m\u001b[0mline\u001b[0m\u001b[0;34m,\u001b[0m \u001b[0mstack_depth\u001b[0m\u001b[0;34m)\u001b[0m\u001b[0;34m\u001b[0m\u001b[0;34m\u001b[0m\u001b[0m\n\u001b[1;32m   2116\u001b[0m             \u001b[0;32mwith\u001b[0m \u001b[0mself\u001b[0m\u001b[0;34m.\u001b[0m\u001b[0mbuiltin_trap\u001b[0m\u001b[0;34m:\u001b[0m\u001b[0;34m\u001b[0m\u001b[0;34m\u001b[0m\u001b[0m\n\u001b[0;32m-> 2117\u001b[0;31m                 \u001b[0mresult\u001b[0m \u001b[0;34m=\u001b[0m \u001b[0mfn\u001b[0m\u001b[0;34m(\u001b[0m\u001b[0mmagic_arg_s\u001b[0m\u001b[0;34m,\u001b[0m \u001b[0mcell\u001b[0m\u001b[0;34m)\u001b[0m\u001b[0;34m\u001b[0m\u001b[0;34m\u001b[0m\u001b[0m\n\u001b[0m\u001b[1;32m   2118\u001b[0m             \u001b[0;32mreturn\u001b[0m \u001b[0mresult\u001b[0m\u001b[0;34m\u001b[0m\u001b[0;34m\u001b[0m\u001b[0m\n\u001b[1;32m   2119\u001b[0m \u001b[0;34m\u001b[0m\u001b[0m\n",
            "\u001b[0;32m<decorator-gen-60>\u001b[0m in \u001b[0;36mtime\u001b[0;34m(self, line, cell, local_ns)\u001b[0m\n",
            "\u001b[0;32m/usr/local/lib/python3.6/dist-packages/IPython/core/magic.py\u001b[0m in \u001b[0;36m<lambda>\u001b[0;34m(f, *a, **k)\u001b[0m\n\u001b[1;32m    186\u001b[0m     \u001b[0;31m# but it's overkill for just that one bit of state.\u001b[0m\u001b[0;34m\u001b[0m\u001b[0;34m\u001b[0m\u001b[0;34m\u001b[0m\u001b[0m\n\u001b[1;32m    187\u001b[0m     \u001b[0;32mdef\u001b[0m \u001b[0mmagic_deco\u001b[0m\u001b[0;34m(\u001b[0m\u001b[0marg\u001b[0m\u001b[0;34m)\u001b[0m\u001b[0;34m:\u001b[0m\u001b[0;34m\u001b[0m\u001b[0;34m\u001b[0m\u001b[0m\n\u001b[0;32m--> 188\u001b[0;31m         \u001b[0mcall\u001b[0m \u001b[0;34m=\u001b[0m \u001b[0;32mlambda\u001b[0m \u001b[0mf\u001b[0m\u001b[0;34m,\u001b[0m \u001b[0;34m*\u001b[0m\u001b[0ma\u001b[0m\u001b[0;34m,\u001b[0m \u001b[0;34m**\u001b[0m\u001b[0mk\u001b[0m\u001b[0;34m:\u001b[0m \u001b[0mf\u001b[0m\u001b[0;34m(\u001b[0m\u001b[0;34m*\u001b[0m\u001b[0ma\u001b[0m\u001b[0;34m,\u001b[0m \u001b[0;34m**\u001b[0m\u001b[0mk\u001b[0m\u001b[0;34m)\u001b[0m\u001b[0;34m\u001b[0m\u001b[0;34m\u001b[0m\u001b[0m\n\u001b[0m\u001b[1;32m    189\u001b[0m \u001b[0;34m\u001b[0m\u001b[0m\n\u001b[1;32m    190\u001b[0m         \u001b[0;32mif\u001b[0m \u001b[0mcallable\u001b[0m\u001b[0;34m(\u001b[0m\u001b[0marg\u001b[0m\u001b[0;34m)\u001b[0m\u001b[0;34m:\u001b[0m\u001b[0;34m\u001b[0m\u001b[0;34m\u001b[0m\u001b[0m\n",
            "\u001b[0;32m/usr/local/lib/python3.6/dist-packages/IPython/core/magics/execution.py\u001b[0m in \u001b[0;36mtime\u001b[0;34m(self, line, cell, local_ns)\u001b[0m\n\u001b[1;32m   1191\u001b[0m         \u001b[0;32melse\u001b[0m\u001b[0;34m:\u001b[0m\u001b[0;34m\u001b[0m\u001b[0;34m\u001b[0m\u001b[0m\n\u001b[1;32m   1192\u001b[0m             \u001b[0mst\u001b[0m \u001b[0;34m=\u001b[0m \u001b[0mclock2\u001b[0m\u001b[0;34m(\u001b[0m\u001b[0;34m)\u001b[0m\u001b[0;34m\u001b[0m\u001b[0;34m\u001b[0m\u001b[0m\n\u001b[0;32m-> 1193\u001b[0;31m             \u001b[0mexec\u001b[0m\u001b[0;34m(\u001b[0m\u001b[0mcode\u001b[0m\u001b[0;34m,\u001b[0m \u001b[0mglob\u001b[0m\u001b[0;34m,\u001b[0m \u001b[0mlocal_ns\u001b[0m\u001b[0;34m)\u001b[0m\u001b[0;34m\u001b[0m\u001b[0;34m\u001b[0m\u001b[0m\n\u001b[0m\u001b[1;32m   1194\u001b[0m             \u001b[0mend\u001b[0m \u001b[0;34m=\u001b[0m \u001b[0mclock2\u001b[0m\u001b[0;34m(\u001b[0m\u001b[0;34m)\u001b[0m\u001b[0;34m\u001b[0m\u001b[0;34m\u001b[0m\u001b[0m\n\u001b[1;32m   1195\u001b[0m             \u001b[0mout\u001b[0m \u001b[0;34m=\u001b[0m \u001b[0;32mNone\u001b[0m\u001b[0;34m\u001b[0m\u001b[0;34m\u001b[0m\u001b[0m\n",
            "\u001b[0;32m<timed exec>\u001b[0m in \u001b[0;36m<module>\u001b[0;34m()\u001b[0m\n",
            "\u001b[0;31mNameError\u001b[0m: name 'RandomForestClassifier' is not defined"
          ]
        }
      ]
    },
    {
      "cell_type": "code",
      "metadata": {
        "id": "cybDCwD-N1EM"
      },
      "source": [
        "RF10_ans = RF10.predict(X_train_vectorized)"
      ],
      "execution_count": null,
      "outputs": []
    },
    {
      "cell_type": "code",
      "metadata": {
        "id": "6562ylh1N1MJ"
      },
      "source": [
        "print_metrics(y_train, RF10_ans)"
      ],
      "execution_count": null,
      "outputs": []
    },
    {
      "cell_type": "code",
      "metadata": {
        "id": "m6gBq05bN-wg"
      },
      "source": [
        "X_test_vectorized = vectorizer.transform(cleared_docs_test)\n",
        "\n",
        "test_df[\"target\"] = RF10.predict(X_test_vectorized).astype(bool)\n",
        "\n",
        "test_df[[\"id\", \"target\"]].to_csv(\"RF_10000_vector_t.csv\", index=False)\n",
        "\n",
        "%cat RF_10000_vector_t.csv | head"
      ],
      "execution_count": null,
      "outputs": []
    },
    {
      "cell_type": "code",
      "metadata": {
        "id": "C9H3qHivxUm6"
      },
      "source": [
        "clf = RandomForestClassifier()"
      ],
      "execution_count": null,
      "outputs": []
    },
    {
      "cell_type": "code",
      "metadata": {
        "id": "PHMFPO6MxUtX"
      },
      "source": [
        "parametrs = { 'n_estimators': range (25, 26, 1),\n",
        "              'min_samples_leaf': range (1,6),\n",
        "              'min_samples_split': range (2,8,2) }"
      ],
      "execution_count": null,
      "outputs": []
    },
    {
      "cell_type": "code",
      "metadata": {
        "id": "qwTGgFCQNG3K"
      },
      "source": [
        ""
      ],
      "execution_count": null,
      "outputs": []
    },
    {
      "cell_type": "code",
      "metadata": {
        "id": "Qr6iRbDhxkXX"
      },
      "source": [
        "grid = GridSearchCV(clf, parametrs, cv=5, n_jobs=-1)"
      ],
      "execution_count": null,
      "outputs": []
    },
    {
      "cell_type": "code",
      "metadata": {
        "id": "4BUQVdJYxkb8",
        "colab": {
          "base_uri": "https://localhost:8080/"
        },
        "outputId": "f4fb3aff-8532-44f4-d76c-1fb1a40fe082"
      },
      "source": [
        "%%time\n",
        "\n",
        "grid.fit(X_train_vectorized, y_train.ravel())"
      ],
      "execution_count": null,
      "outputs": [
        {
          "output_type": "stream",
          "text": [
            "CPU times: user 1min 35s, sys: 118 ms, total: 1min 35s\n",
            "Wall time: 6h 14min 38s\n"
          ],
          "name": "stdout"
        },
        {
          "output_type": "execute_result",
          "data": {
            "text/plain": [
              "GridSearchCV(cv=5, error_score=nan,\n",
              "             estimator=RandomForestClassifier(bootstrap=True, ccp_alpha=0.0,\n",
              "                                              class_weight=None,\n",
              "                                              criterion='gini', max_depth=None,\n",
              "                                              max_features='auto',\n",
              "                                              max_leaf_nodes=None,\n",
              "                                              max_samples=None,\n",
              "                                              min_impurity_decrease=0.0,\n",
              "                                              min_impurity_split=None,\n",
              "                                              min_samples_leaf=1,\n",
              "                                              min_samples_split=2,\n",
              "                                              min_weight_fraction_leaf=0.0,\n",
              "                                              n_estimators=100, n_jobs=None,\n",
              "                                              oob_score=False,\n",
              "                                              random_state=None, verbose=0,\n",
              "                                              warm_start=False),\n",
              "             iid='deprecated', n_jobs=-1,\n",
              "             param_grid={'min_samples_leaf': range(1, 6),\n",
              "                         'min_samples_split': range(2, 8, 2),\n",
              "                         'n_estimators': range(25, 26)},\n",
              "             pre_dispatch='2*n_jobs', refit=True, return_train_score=False,\n",
              "             scoring=None, verbose=0)"
            ]
          },
          "metadata": {
            "tags": []
          },
          "execution_count": 76
        }
      ]
    },
    {
      "cell_type": "code",
      "metadata": {
        "id": "etj-ivImyA3d",
        "colab": {
          "base_uri": "https://localhost:8080/"
        },
        "outputId": "31f2a587-6029-41ad-fbb9-c2f12cafa4aa"
      },
      "source": [
        "grid.best_params_"
      ],
      "execution_count": null,
      "outputs": [
        {
          "output_type": "execute_result",
          "data": {
            "text/plain": [
              "{'min_samples_leaf': 1, 'min_samples_split': 6, 'n_estimators': 25}"
            ]
          },
          "metadata": {
            "tags": []
          },
          "execution_count": 77
        }
      ]
    },
    {
      "cell_type": "markdown",
      "metadata": {
        "id": "tH5QpyT7HA57"
      },
      "source": [
        "бэггинг"
      ]
    },
    {
      "cell_type": "code",
      "metadata": {
        "id": "1qMGHbeKq-V4"
      },
      "source": [
        "n_estimators = 30\n",
        "answer = np.zeros((n_estimators, X_test.shape[0]), dtype=int)"
      ],
      "execution_count": null,
      "outputs": []
    },
    {
      "cell_type": "code",
      "metadata": {
        "id": "P8PrF0FDsnzo",
        "colab": {
          "base_uri": "https://localhost:8080/"
        },
        "outputId": "ff039877-1770-4eb4-b98e-4fe9776549c9"
      },
      "source": [
        "y_train.shape"
      ],
      "execution_count": null,
      "outputs": [
        {
          "output_type": "execute_result",
          "data": {
            "text/plain": [
              "(135309,)"
            ]
          },
          "metadata": {
            "tags": []
          },
          "execution_count": 91
        }
      ]
    },
    {
      "cell_type": "code",
      "metadata": {
        "id": "t7VijdAgrpPl",
        "colab": {
          "base_uri": "https://localhost:8080/",
          "height": 137,
          "referenced_widgets": [
            "df5b4aacbbff45ab8e1c046d4204a529",
            "e5e4cadcd94c4a8da07089dede297b29",
            "fd3888009d4c4ce193bbaf498a954e03",
            "21785eeaa2fa420784a419c88aeecbfe",
            "3fbd8b0ea4b44138a689bf539762c9f2",
            "2bbce5cfedff482b901cc16d7dd80115",
            "addd3979257b4929bc5354497b186933",
            "20cb594c9b124604a2c5738d196c0227"
          ]
        },
        "outputId": "12a584e5-52f5-452e-9d8f-fdba76ba8b91"
      },
      "source": [
        "for i in tqdm_notebook(range(n_estimators)):\n",
        "    DT = DecisionTreeClassifier()\n",
        "    index = np.random.choice(np.arange(X_train_vectorized.shape[0]), X_train_vectorized.shape[0])\n",
        "    DT.fit(X_train_vectorized[index], y_train[index])\n",
        "    answer[i] = DT.predict(X_test_vectorized)"
      ],
      "execution_count": null,
      "outputs": [
        {
          "output_type": "stream",
          "text": [
            "/usr/local/lib/python3.6/dist-packages/ipykernel_launcher.py:1: TqdmDeprecationWarning: This function will be removed in tqdm==5.0.0\n",
            "Please use `tqdm.notebook.tqdm` instead of `tqdm.tqdm_notebook`\n",
            "  \"\"\"Entry point for launching an IPython kernel.\n"
          ],
          "name": "stderr"
        },
        {
          "output_type": "display_data",
          "data": {
            "application/vnd.jupyter.widget-view+json": {
              "model_id": "df5b4aacbbff45ab8e1c046d4204a529",
              "version_minor": 0,
              "version_major": 2
            },
            "text/plain": [
              "HBox(children=(FloatProgress(value=0.0, max=30.0), HTML(value='')))"
            ]
          },
          "metadata": {
            "tags": []
          }
        },
        {
          "output_type": "stream",
          "text": [
            "\n"
          ],
          "name": "stdout"
        }
      ]
    },
    {
      "cell_type": "code",
      "metadata": {
        "id": "iB23n5B0rpN1"
      },
      "source": [
        "bagging_dt_answer = [np.bincount(answer[:, i]).argmax() for i in range(answer.shape[1])]"
      ],
      "execution_count": null,
      "outputs": []
    },
    {
      "cell_type": "code",
      "metadata": {
        "id": "yb5L4lIh5LYM",
        "colab": {
          "base_uri": "https://localhost:8080/"
        },
        "outputId": "b5a7fa01-edc9-4c5b-d787-418474f11da6"
      },
      "source": [
        "bagging_dt_answer[3]"
      ],
      "execution_count": null,
      "outputs": [
        {
          "output_type": "execute_result",
          "data": {
            "text/plain": [
              "1"
            ]
          },
          "metadata": {
            "tags": []
          },
          "execution_count": 124
        }
      ]
    },
    {
      "cell_type": "code",
      "metadata": {
        "id": "QqCldmd-3zrR"
      },
      "source": [
        "for i in range(len(bagging_dt_answer)):\n",
        "    if bagging_dt_answer[i] == 0:\n",
        "        bagging_dt_answer[i] = False\n",
        "    else:\n",
        "        bagging_dt_answer[i] = True"
      ],
      "execution_count": null,
      "outputs": []
    },
    {
      "cell_type": "code",
      "metadata": {
        "id": "IPqhk6gtyMae",
        "colab": {
          "base_uri": "https://localhost:8080/"
        },
        "outputId": "4bfbbf35-8387-46ae-a87f-6cae7dcc2878"
      },
      "source": [
        "test_df[\"target\"] = bagging_dt_answer\n",
        "\n",
        "\n",
        "test_df[[\"id\", \"target\"]].to_csv(\"bagging.csv\", index=False)\n",
        "\n",
        "%cat bagging.csv | head"
      ],
      "execution_count": null,
      "outputs": [
        {
          "output_type": "stream",
          "text": [
            "id,target\n",
            "135309,False\n",
            "135310,False\n",
            "135311,False\n",
            "135312,True\n",
            "135313,False\n",
            "135314,False\n",
            "135315,False\n",
            "135316,False\n",
            "135317,False\n"
          ],
          "name": "stdout"
        }
      ]
    },
    {
      "cell_type": "code",
      "metadata": {
        "id": "RabC7REVqHly",
        "colab": {
          "base_uri": "https://localhost:8080/"
        },
        "outputId": "1a7303f2-3c7f-4e5c-f03e-425a1fb4d951"
      },
      "source": [
        "model2 = ExtraTreesClassifier(n_estimators=200, n_jobs=-1, verbose=1)\n",
        "model2.fit(X_train_vectorized, y_train.ravel())"
      ],
      "execution_count": null,
      "outputs": [
        {
          "output_type": "stream",
          "text": [
            "[Parallel(n_jobs=-1)]: Using backend ThreadingBackend with 2 concurrent workers.\n",
            "[Parallel(n_jobs=-1)]: Done  46 tasks      | elapsed:  3.2min\n",
            "[Parallel(n_jobs=-1)]: Done 196 tasks      | elapsed: 13.6min\n",
            "[Parallel(n_jobs=-1)]: Done 200 out of 200 | elapsed: 13.9min finished\n"
          ],
          "name": "stderr"
        },
        {
          "output_type": "execute_result",
          "data": {
            "text/plain": [
              "ExtraTreesClassifier(bootstrap=False, ccp_alpha=0.0, class_weight=None,\n",
              "                     criterion='gini', max_depth=None, max_features='auto',\n",
              "                     max_leaf_nodes=None, max_samples=None,\n",
              "                     min_impurity_decrease=0.0, min_impurity_split=None,\n",
              "                     min_samples_leaf=1, min_samples_split=2,\n",
              "                     min_weight_fraction_leaf=0.0, n_estimators=200, n_jobs=-1,\n",
              "                     oob_score=False, random_state=None, verbose=1,\n",
              "                     warm_start=False)"
            ]
          },
          "metadata": {
            "tags": []
          },
          "execution_count": 57
        }
      ]
    },
    {
      "cell_type": "code",
      "metadata": {
        "id": "z5rVwNlRqHt9",
        "colab": {
          "base_uri": "https://localhost:8080/"
        },
        "outputId": "d4f5e722-0e0d-41be-a799-7fae0555bfdf"
      },
      "source": [
        "model2_ans = model2.predict(X_train_vectorized)"
      ],
      "execution_count": null,
      "outputs": [
        {
          "output_type": "stream",
          "text": [
            "[Parallel(n_jobs=2)]: Using backend ThreadingBackend with 2 concurrent workers.\n",
            "[Parallel(n_jobs=2)]: Done  46 tasks      | elapsed:   21.5s\n",
            "[Parallel(n_jobs=2)]: Done 196 tasks      | elapsed:  1.5min\n",
            "[Parallel(n_jobs=2)]: Done 200 out of 200 | elapsed:  1.5min finished\n"
          ],
          "name": "stderr"
        }
      ]
    },
    {
      "cell_type": "code",
      "metadata": {
        "id": "gH7Bfif_qHzj",
        "colab": {
          "base_uri": "https://localhost:8080/"
        },
        "outputId": "5b1f90df-1330-4d22-9376-357be035da70"
      },
      "source": [
        "print_metrics(y_train, model2_ans)"
      ],
      "execution_count": null,
      "outputs": [
        {
          "output_type": "stream",
          "text": [
            "Accuracy ~ 0.9982\n",
            "F1_score ~ 0.9958\n"
          ],
          "name": "stdout"
        }
      ]
    },
    {
      "cell_type": "code",
      "metadata": {
        "id": "Jo9FztM_qL2K",
        "colab": {
          "base_uri": "https://localhost:8080/"
        },
        "outputId": "4a87969c-e40e-41a0-b4a5-8422b3075a71"
      },
      "source": [
        "X_test_vectorized = vectorizer.transform(cleared_docs_test)\n",
        "\n",
        "test_df[\"target\"] = model2.predict(X_test_vectorized).astype(bool)\n",
        "\n",
        "test_df[[\"id\", \"target\"]].to_csv(\"ETC200_vector.csv\", index=False)\n",
        "\n",
        "%cat ETC200_vector.csv | head"
      ],
      "execution_count": null,
      "outputs": [
        {
          "output_type": "stream",
          "text": [
            "[Parallel(n_jobs=2)]: Using backend ThreadingBackend with 2 concurrent workers.\n",
            "[Parallel(n_jobs=2)]: Done  46 tasks      | elapsed:   27.9s\n",
            "[Parallel(n_jobs=2)]: Done 196 tasks      | elapsed:  2.0min\n",
            "[Parallel(n_jobs=2)]: Done 200 out of 200 | elapsed:  2.0min finished\n"
          ],
          "name": "stderr"
        },
        {
          "output_type": "stream",
          "text": [
            "id,target\n",
            "135309,False\n",
            "135310,False\n",
            "135311,False\n",
            "135312,True\n",
            "135313,False\n",
            "135314,False\n",
            "135315,False\n",
            "135316,False\n",
            "135317,False\n"
          ],
          "name": "stdout"
        }
      ]
    },
    {
      "cell_type": "code",
      "metadata": {
        "id": "n4LX43LmUxWF"
      },
      "source": [
        "from sklearn.ensemble import GradientBoostingClassifier"
      ],
      "execution_count": null,
      "outputs": []
    },
    {
      "cell_type": "code",
      "metadata": {
        "id": "ktrzYa-uW-_x"
      },
      "source": [
        "gbc = GradientBoostingClassifier(n_estimators=30, max_depth=50, verbose=1)"
      ],
      "execution_count": null,
      "outputs": []
    },
    {
      "cell_type": "code",
      "metadata": {
        "id": "ZoskLE-yW_B9",
        "colab": {
          "base_uri": "https://localhost:8080/"
        },
        "outputId": "4f74f735-3f50-4af5-f955-44b35c0b9e10"
      },
      "source": [
        "%%time\n",
        "\n",
        "gbc.fit(X_train_vectorized, y_train.ravel())"
      ],
      "execution_count": null,
      "outputs": [
        {
          "output_type": "stream",
          "text": [
            "      Iter       Train Loss   Remaining Time \n",
            "         1           0.5909            6.86m\n",
            "         2           0.5114            6.71m\n",
            "         3           0.4549            6.49m\n",
            "         4           0.4106            6.27m\n",
            "         5           0.3745            6.04m\n",
            "         6           0.3438            5.81m\n",
            "         7           0.3176            5.63m\n",
            "         8           0.2959            5.40m\n",
            "         9           0.2762            5.20m\n",
            "        10           0.2589            5.02m\n",
            "        20           0.1604            2.68m\n",
            "        30           0.1137            0.00s\n",
            "CPU times: user 8min 38s, sys: 104 ms, total: 8min 38s\n",
            "Wall time: 8min 39s\n"
          ],
          "name": "stdout"
        },
        {
          "output_type": "execute_result",
          "data": {
            "text/plain": [
              "GradientBoostingClassifier(ccp_alpha=0.0, criterion='friedman_mse', init=None,\n",
              "                           learning_rate=0.1, loss='deviance', max_depth=50,\n",
              "                           max_features=None, max_leaf_nodes=None,\n",
              "                           min_impurity_decrease=0.0, min_impurity_split=None,\n",
              "                           min_samples_leaf=1, min_samples_split=2,\n",
              "                           min_weight_fraction_leaf=0.0, n_estimators=30,\n",
              "                           n_iter_no_change=None, presort='deprecated',\n",
              "                           random_state=None, subsample=1.0, tol=0.0001,\n",
              "                           validation_fraction=0.1, verbose=1,\n",
              "                           warm_start=False)"
            ]
          },
          "metadata": {
            "tags": []
          },
          "execution_count": 168
        }
      ]
    },
    {
      "cell_type": "code",
      "metadata": {
        "id": "zqyq5eQ-W_Mg"
      },
      "source": [
        "gbc_ans = gbc.predict(X_train_vectorized)"
      ],
      "execution_count": null,
      "outputs": []
    },
    {
      "cell_type": "code",
      "metadata": {
        "id": "HT-BRXu9Y9ps",
        "colab": {
          "base_uri": "https://localhost:8080/"
        },
        "outputId": "5dbc2a42-b85a-48e3-ef61-8b9cce5f8ae0"
      },
      "source": [
        "print_metrics(y_train, gbc_ans)"
      ],
      "execution_count": null,
      "outputs": [
        {
          "output_type": "stream",
          "text": [
            "Accuracy ~ 0.9886\n",
            "F1_score ~ 0.9725\n"
          ],
          "name": "stdout"
        }
      ]
    },
    {
      "cell_type": "markdown",
      "metadata": {
        "id": "kUvJxMzFbAM6"
      },
      "source": [
        "n_estimators=100:\n",
        "\n",
        "Accuracy ~ 0.9644    \n",
        "F1_score ~ 0.9059\n",
        "\n",
        "n_estimators=100:\n",
        "\n",
        "Accuracy ~ 0.9826\n",
        "F1_score ~ 0.9572\n",
        "\n",
        "n_estimators=30, max_depth = None:\n",
        "\n",
        "Accuracy ~ 0.9988\n",
        "F1_score ~ 0.9973"
      ]
    },
    {
      "cell_type": "code",
      "metadata": {
        "id": "OMyutfFbaTdq",
        "colab": {
          "base_uri": "https://localhost:8080/"
        },
        "outputId": "01ac4fa5-7876-481c-9c36-97582969b7a2"
      },
      "source": [
        "X_test_vectorized = vectorizer.transform(X_test)\n",
        "\n",
        "test_df[\"target\"] = gbc.predict(X_test_vectorized).astype(bool)\n",
        "\n",
        "test_df[[\"id\", \"target\"]].to_csv(\"gbc_vector.csv\", index=False)\n",
        "\n",
        "%cat gbc_vector.csv | head"
      ],
      "execution_count": null,
      "outputs": [
        {
          "output_type": "stream",
          "text": [
            "id,target\n",
            "135309,False\n",
            "135310,False\n",
            "135311,False\n",
            "135312,True\n",
            "135313,False\n",
            "135314,False\n",
            "135315,False\n",
            "135316,False\n",
            "135317,False\n"
          ],
          "name": "stdout"
        }
      ]
    },
    {
      "cell_type": "code",
      "metadata": {
        "id": "6C4LX3kqbqsh",
        "colab": {
          "base_uri": "https://localhost:8080/"
        },
        "outputId": "085c8256-a0c4-4993-9582-820584def930"
      },
      "source": [
        "pip install xgboost"
      ],
      "execution_count": null,
      "outputs": [
        {
          "output_type": "stream",
          "text": [
            "Requirement already satisfied: xgboost in /usr/local/lib/python3.6/dist-packages (0.90)\n",
            "Requirement already satisfied: numpy in /usr/local/lib/python3.6/dist-packages (from xgboost) (1.18.5)\n",
            "Requirement already satisfied: scipy in /usr/local/lib/python3.6/dist-packages (from xgboost) (1.4.1)\n"
          ],
          "name": "stdout"
        }
      ]
    },
    {
      "cell_type": "code",
      "metadata": {
        "id": "ZpHPe69Ybtld"
      },
      "source": [
        "from xgboost import XGBClassifier"
      ],
      "execution_count": null,
      "outputs": []
    },
    {
      "cell_type": "code",
      "metadata": {
        "id": "9eegjTSOwhUz",
        "colab": {
          "base_uri": "https://localhost:8080/"
        },
        "outputId": "de88e62c-7e65-48e4-86d6-f275fa631b14"
      },
      "source": [
        "pip install hyperopt"
      ],
      "execution_count": null,
      "outputs": [
        {
          "output_type": "stream",
          "text": [
            "Requirement already satisfied: hyperopt in /usr/local/lib/python3.6/dist-packages (0.1.2)\n",
            "Requirement already satisfied: six in /usr/local/lib/python3.6/dist-packages (from hyperopt) (1.15.0)\n",
            "Requirement already satisfied: networkx in /usr/local/lib/python3.6/dist-packages (from hyperopt) (2.5)\n",
            "Requirement already satisfied: numpy in /usr/local/lib/python3.6/dist-packages (from hyperopt) (1.18.5)\n",
            "Requirement already satisfied: scipy in /usr/local/lib/python3.6/dist-packages (from hyperopt) (1.4.1)\n",
            "Requirement already satisfied: future in /usr/local/lib/python3.6/dist-packages (from hyperopt) (0.16.0)\n",
            "Requirement already satisfied: tqdm in /usr/local/lib/python3.6/dist-packages (from hyperopt) (4.41.1)\n",
            "Requirement already satisfied: pymongo in /usr/local/lib/python3.6/dist-packages (from hyperopt) (3.11.0)\n",
            "Requirement already satisfied: decorator>=4.3.0 in /usr/local/lib/python3.6/dist-packages (from networkx->hyperopt) (4.4.2)\n"
          ],
          "name": "stdout"
        }
      ]
    },
    {
      "cell_type": "code",
      "metadata": {
        "id": "y7wQ66d9wo7v",
        "colab": {
          "base_uri": "https://localhost:8080/"
        },
        "outputId": "05fb7209-563a-4f44-ff17-c238c4fca894"
      },
      "source": [
        "%%time\n",
        "\n",
        "import numpy as np\n",
        "from sklearn import datasets\n",
        "from sklearn.model_selection import cross_val_score\n",
        "from xgboost import XGBClassifier\n",
        " \n",
        "from hyperopt import hp, tpe\n",
        "from hyperopt.fmin import fmin\n",
        " \n",
        "X = X_train_vectorized\n",
        "y = y_train.ravel()\n",
        " \n",
        " \n",
        "def hyperopt_xgb_score(params):\n",
        "    clf = XGBClassifier(**params)\n",
        "    # усреднение по 3ем фолдам, для уменьшения влияния стахостичности\n",
        "    # для ускорения можно использовать train_test_split один раз\n",
        "    current_score = cross_val_score(clf, X, y, cv=3).mean()\n",
        "    print(current_score, params)\n",
        "    return -current_score\n",
        " \n",
        " \n",
        "simple_space_xgb = {\n",
        "            'n_estimators': hp.choice('n_estimators', range(100, 1000)),\n",
        "            'eta': hp.quniform('eta', 0.025, 0.5, 0.025),\n",
        "            'max_depth':  hp.choice('max_depth', np.arange(1, 14, dtype=int)),\n",
        "}\n",
        " \n",
        "best = fmin(fn=hyperopt_xgb_score, space=simple_space_xgb, algo=tpe.suggest, max_evals=10)\n",
        "print('best:')\n",
        "print(best)"
      ],
      "execution_count": null,
      "outputs": [
        {
          "output_type": "stream",
          "text": [
            "0.9727069152827972\n",
            "{'eta': 0.05, 'max_depth': 1, 'n_estimators': 713}\n",
            "0.9835487661574618\n",
            "{'eta': 0.35000000000000003, 'max_depth': 5, 'n_estimators': 580}\n",
            "0.9848716641169472\n",
            "{'eta': 0.07500000000000001, 'max_depth': 5, 'n_estimators': 806}\n",
            "0.9732020782061799\n",
            "{'eta': 0.05, 'max_depth': 2, 'n_estimators': 337}\n",
            "0.9839478526927256\n",
            "{'eta': 0.05, 'max_depth': 10, 'n_estimators': 310}\n",
            "0.9789962234588977\n",
            "{'eta': 0.5, 'max_depth': 4, 'n_estimators': 327}\n",
            "0.9838296048304253\n",
            "{'eta': 0.17500000000000002, 'max_depth': 10, 'n_estimators': 302}\n",
            "0.9802747784700204\n",
            "{'eta': 0.275, 'max_depth': 10, 'n_estimators': 153}\n",
            "0.9801195781507513\n",
            "{'eta': 0.1, 'max_depth': 11, 'n_estimators': 137}\n",
            "0.9798830824261505\n",
            "{'eta': 0.2, 'max_depth': 11, 'n_estimators': 132}\n",
            "100%|██████████| 10/10 [1:08:32<00:00, 411.21s/it, best loss: -0.9848716641169472]\n",
            "best:\n",
            "{'eta': 0.07500000000000001, 'max_depth': 4, 'n_estimators': 706}\n",
            "CPU times: user 1h 8min 23s, sys: 2.82 s, total: 1h 8min 26s\n",
            "Wall time: 1h 8min 32s\n"
          ],
          "name": "stdout"
        }
      ]
    },
    {
      "cell_type": "code",
      "metadata": {
        "id": "bYSAEJgzbvtl"
      },
      "source": [
        "xgb = XGBClassifier(eta = 0.07500000000000001, max_depth = 5, n_estimators = 806)"
      ],
      "execution_count": null,
      "outputs": []
    },
    {
      "cell_type": "code",
      "metadata": {
        "id": "eHjxC2D1cHDe",
        "colab": {
          "base_uri": "https://localhost:8080/"
        },
        "outputId": "8f816860-ed34-46e7-8c5b-42b569361c92"
      },
      "source": [
        "xgb.fit(X_train_vectorized, y_train.ravel())"
      ],
      "execution_count": null,
      "outputs": [
        {
          "output_type": "execute_result",
          "data": {
            "text/plain": [
              "XGBClassifier(base_score=0.5, booster='gbtree', colsample_bylevel=1,\n",
              "              colsample_bynode=1, colsample_bytree=1, eta=0.07500000000000001,\n",
              "              gamma=0, learning_rate=0.1, max_delta_step=0, max_depth=5,\n",
              "              min_child_weight=1, missing=None, n_estimators=806, n_jobs=1,\n",
              "              nthread=None, objective='binary:logistic', random_state=0,\n",
              "              reg_alpha=0, reg_lambda=1, scale_pos_weight=1, seed=None,\n",
              "              silent=None, subsample=1, verbosity=1)"
            ]
          },
          "metadata": {
            "tags": []
          },
          "execution_count": 63
        }
      ]
    },
    {
      "cell_type": "code",
      "metadata": {
        "id": "D6CUfjLRdMkd"
      },
      "source": [
        "xgb_ans = xgb.predict(X_train_vectorized)"
      ],
      "execution_count": null,
      "outputs": []
    },
    {
      "cell_type": "code",
      "metadata": {
        "id": "_cBwX3zpdbnw",
        "colab": {
          "base_uri": "https://localhost:8080/"
        },
        "outputId": "4868330c-d640-47ea-9a73-2f5f8250f70d"
      },
      "source": [
        "print_metrics(y_train, xgb_ans)#получился скор 0.92. ради интереса можно будет попробовать  max_depth = 5, n_estimators = 806"
      ],
      "execution_count": null,
      "outputs": [
        {
          "output_type": "stream",
          "text": [
            "Accuracy ~ 0.9879\n",
            "F1_score ~ 0.9709\n"
          ],
          "name": "stdout"
        }
      ]
    },
    {
      "cell_type": "code",
      "metadata": {
        "id": "c-cYeWxrdMsH",
        "colab": {
          "base_uri": "https://localhost:8080/"
        },
        "outputId": "e0cfe11b-8acb-4024-b8c3-646102f7b23d"
      },
      "source": [
        "X_test_vectorized = vectorizer.transform(cleared_docs_test)\n",
        "\n",
        "test_df[\"target\"] = xgb.predict(X_test_vectorized).astype(bool)\n",
        "\n",
        "test_df[[\"id\", \"target\"]].to_csv(\"xgb_vector_t.csv\", index=False)\n",
        "\n",
        "%cat xgb_vector_t.csv | head"
      ],
      "execution_count": null,
      "outputs": [
        {
          "output_type": "stream",
          "text": [
            "id,target\n",
            "135309,False\n",
            "135310,False\n",
            "135311,False\n",
            "135312,True\n",
            "135313,False\n",
            "135314,False\n",
            "135315,False\n",
            "135316,False\n",
            "135317,False\n"
          ],
          "name": "stdout"
        }
      ]
    },
    {
      "cell_type": "code",
      "metadata": {
        "id": "ZouImgAJUVJw"
      },
      "source": [
        ""
      ],
      "execution_count": null,
      "outputs": []
    }
  ]
}